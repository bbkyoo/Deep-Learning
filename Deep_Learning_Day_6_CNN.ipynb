{
  "nbformat": 4,
  "nbformat_minor": 0,
  "metadata": {
    "colab": {
      "name": "Deep Learning Day 6 - CNN.ipynb",
      "provenance": [],
      "collapsed_sections": []
    },
    "kernelspec": {
      "name": "python3",
      "display_name": "Python 3"
    },
    "language_info": {
      "name": "python"
    },
    "accelerator": "GPU"
  },
  "cells": [
    {
      "cell_type": "markdown",
      "metadata": {
        "id": "g_RBYgRmZMA2"
      },
      "source": [
        "## Fashion MNIST 데이터셋 - CNN 망 훈련하기"
      ]
    },
    {
      "cell_type": "code",
      "metadata": {
        "id": "SNThKUyYsrwF"
      },
      "source": [
        "import tensorflow as tf\n",
        "import matplotlib.pyplot as plt\n",
        "import numpy as np\n",
        "from tensorflow.keras.datasets import fashion_mnist\n",
        "from tensorflow.keras.utils import to_categorical\n",
        "from tensorflow.keras.models import Model\n",
        "from tensorflow.keras.layers import Input, Flatten, Dense\n",
        "from tensorflow.keras.optimizers import SGD\n",
        "from tensorflow.keras.optimizers import Adam\n",
        "from tensorflow.keras.layers import Conv2D, MaxPooling2D, Dropout\n",
        "from tensorflow.keras.models import Model"
      ],
      "execution_count": 19,
      "outputs": []
    },
    {
      "cell_type": "markdown",
      "metadata": {
        "id": "olGvWhOKbZZk"
      },
      "source": [
        "#### Conv2D 적용"
      ]
    },
    {
      "cell_type": "code",
      "metadata": {
        "id": "Dbei2l03Zl00"
      },
      "source": [
        "input_tensor = Input(shape=(28, 28, 1))\n",
        "x = Conv2D(4, kernel_size=3, strides=1, padding=\"same\", activation =\"relu\")(input_tensor)"
      ],
      "execution_count": 4,
      "outputs": []
    },
    {
      "cell_type": "code",
      "metadata": {
        "colab": {
          "base_uri": "https://localhost:8080/"
        },
        "id": "I8hUd-aTb_Zr",
        "outputId": "5f6807ea-d276-425c-fb62-2ee5bd23a7ee"
      },
      "source": [
        "x"
      ],
      "execution_count": 5,
      "outputs": [
        {
          "output_type": "execute_result",
          "data": {
            "text/plain": [
              "<KerasTensor: shape=(None, 28, 28, 4) dtype=float32 (created by layer 'conv2d')>"
            ]
          },
          "metadata": {},
          "execution_count": 5
        }
      ]
    },
    {
      "cell_type": "markdown",
      "metadata": {
        "id": "liTgkLuIaxnr"
      },
      "source": [
        "#### Pooling 적용"
      ]
    },
    {
      "cell_type": "code",
      "metadata": {
        "id": "-Os-iSXPazXy"
      },
      "source": [
        "input_tensor = Input(shape=(28, 28, 1))\n",
        "x = Conv2D(4, kernel_size=3, strides=1, padding=\"same\", activation =\"relu\")(input_tensor)\n",
        "x = MaxPooling2D(pool_size=2)(x)"
      ],
      "execution_count": 6,
      "outputs": []
    },
    {
      "cell_type": "code",
      "metadata": {
        "colab": {
          "base_uri": "https://localhost:8080/"
        },
        "id": "YfKnKthwb3mt",
        "outputId": "26c467b9-bb18-4575-aa73-654ffde1376d"
      },
      "source": [
        "x"
      ],
      "execution_count": 7,
      "outputs": [
        {
          "output_type": "execute_result",
          "data": {
            "text/plain": [
              "<KerasTensor: shape=(None, 14, 14, 4) dtype=float32 (created by layer 'max_pooling2d')>"
            ]
          },
          "metadata": {},
          "execution_count": 7
        }
      ]
    },
    {
      "cell_type": "markdown",
      "metadata": {
        "id": "qmOndfMNb4fS"
      },
      "source": [
        "#### CNN 모델 생성"
      ]
    },
    {
      "cell_type": "code",
      "metadata": {
        "id": "UPZL4mL3dxbi"
      },
      "source": [
        "input_tensor = Input(shape=(28, 28, 1))\n",
        "x = Conv2D(filters=32, kernel_size=3, strides=1, padding=\"same\", activation=\"relu\")(input_tensor)\n",
        "x = Conv2D(filters=64, kernel_size=3, strides=1, padding=\"valid\", activation=\"relu\")(x)\n",
        "output = MaxPooling2D(2)(x)\n",
        "\n",
        "model = Model(inputs=input_tensor, outputs=output)"
      ],
      "execution_count": 8,
      "outputs": []
    },
    {
      "cell_type": "code",
      "metadata": {
        "colab": {
          "base_uri": "https://localhost:8080/"
        },
        "id": "WH4EWnRddyRI",
        "outputId": "391c6284-e215-4287-b763-9c269a62a72f"
      },
      "source": [
        "model.summary()"
      ],
      "execution_count": 26,
      "outputs": [
        {
          "output_type": "stream",
          "name": "stdout",
          "text": [
            "Model: \"model_1\"\n",
            "_________________________________________________________________\n",
            "Layer (type)                 Output Shape              Param #   \n",
            "=================================================================\n",
            "input_14 (InputLayer)        [(None, 28, 28, 1)]       0         \n",
            "_________________________________________________________________\n",
            "conv2d_13 (Conv2D)           (None, 28, 28, 32)        320       \n",
            "_________________________________________________________________\n",
            "conv2d_14 (Conv2D)           (None, 26, 26, 64)        18496     \n",
            "_________________________________________________________________\n",
            "max_pooling2d_5 (MaxPooling2 (None, 13, 13, 64)        0         \n",
            "=================================================================\n",
            "Total params: 18,816\n",
            "Trainable params: 18,816\n",
            "Non-trainable params: 0\n",
            "_________________________________________________________________\n"
          ]
        }
      ]
    },
    {
      "cell_type": "markdown",
      "metadata": {
        "id": "KPFLROXfqjR-"
      },
      "source": [
        "#### 데이터 적재, 전처리"
      ]
    },
    {
      "cell_type": "code",
      "metadata": {
        "colab": {
          "base_uri": "https://localhost:8080/"
        },
        "id": "SlSLMrMGqTmO",
        "outputId": "7c0c2bb9-f546-4f7e-c6ee-e80c1343f9a7"
      },
      "source": [
        "(train_images, train_labels), (test_images, test_labels) = fashion_mnist.load_data()\n",
        "\n",
        "train_images = np.array(train_images/255.0, dtype=np.float32)\n",
        "train_labels = np.array(train_labels, dtype=np.float32)\n",
        "test_images = np.array(test_images/255.0, dtype=np.float32)\n",
        "test_labels = np.array(test_labels, dtype=np.float32)\n",
        "\n",
        "train_oh_labels = to_categorical(train_labels)\n",
        "test_oh_labels = to_categorical(test_labels)"
      ],
      "execution_count": 9,
      "outputs": [
        {
          "output_type": "stream",
          "name": "stdout",
          "text": [
            "Downloading data from https://storage.googleapis.com/tensorflow/tf-keras-datasets/train-labels-idx1-ubyte.gz\n",
            "32768/29515 [=================================] - 0s 0us/step\n",
            "40960/29515 [=========================================] - 0s 0us/step\n",
            "Downloading data from https://storage.googleapis.com/tensorflow/tf-keras-datasets/train-images-idx3-ubyte.gz\n",
            "26427392/26421880 [==============================] - 0s 0us/step\n",
            "26435584/26421880 [==============================] - 0s 0us/step\n",
            "Downloading data from https://storage.googleapis.com/tensorflow/tf-keras-datasets/t10k-labels-idx1-ubyte.gz\n",
            "16384/5148 [===============================================================================================] - 0s 0us/step\n",
            "Downloading data from https://storage.googleapis.com/tensorflow/tf-keras-datasets/t10k-images-idx3-ubyte.gz\n",
            "4423680/4422102 [==============================] - 0s 0us/step\n",
            "4431872/4422102 [==============================] - 0s 0us/step\n"
          ]
        }
      ]
    },
    {
      "cell_type": "markdown",
      "metadata": {
        "id": "DfvRNV4fqUZG"
      },
      "source": [
        "#### 모델 생성"
      ]
    },
    {
      "cell_type": "code",
      "metadata": {
        "id": "hyz7GMlVqU29"
      },
      "source": [
        "input_tensor = Input(shape=(28, 28, 1))\n",
        "x = Conv2D(filters=32, kernel_size=3, strides=1, padding=\"same\", activation=\"relu\")(input_tensor)\n",
        "x = Conv2D(filters=64, kernel_size=3, strides=1, padding=\"same\", activation=\"relu\")(x)\n",
        "x = MaxPooling2D(2)(x)\n",
        "\n",
        "x = Flatten()(x)\n",
        "x = Dense(100, activation=\"relu\")(x)\n",
        "output = Dense(10, activation=\"softmax\")(x)\n",
        "\n",
        "model = Model(inputs=input_tensor, outputs=output)"
      ],
      "execution_count": 11,
      "outputs": []
    },
    {
      "cell_type": "code",
      "metadata": {
        "colab": {
          "base_uri": "https://localhost:8080/"
        },
        "id": "4F2n0FU9qVEY",
        "outputId": "392491d8-ceb6-465b-f5bb-7c9654c55764"
      },
      "source": [
        "model.summary()"
      ],
      "execution_count": 12,
      "outputs": [
        {
          "output_type": "stream",
          "name": "stdout",
          "text": [
            "Model: \"model_1\"\n",
            "_________________________________________________________________\n",
            "Layer (type)                 Output Shape              Param #   \n",
            "=================================================================\n",
            "input_5 (InputLayer)         [(None, 28, 28, 1)]       0         \n",
            "_________________________________________________________________\n",
            "conv2d_6 (Conv2D)            (None, 28, 28, 32)        320       \n",
            "_________________________________________________________________\n",
            "conv2d_7 (Conv2D)            (None, 28, 28, 64)        18496     \n",
            "_________________________________________________________________\n",
            "max_pooling2d_3 (MaxPooling2 (None, 14, 14, 64)        0         \n",
            "_________________________________________________________________\n",
            "flatten (Flatten)            (None, 12544)             0         \n",
            "_________________________________________________________________\n",
            "dense (Dense)                (None, 100)               1254500   \n",
            "_________________________________________________________________\n",
            "dense_1 (Dense)              (None, 10)                1010      \n",
            "=================================================================\n",
            "Total params: 1,274,326\n",
            "Trainable params: 1,274,326\n",
            "Non-trainable params: 0\n",
            "_________________________________________________________________\n"
          ]
        }
      ]
    },
    {
      "cell_type": "code",
      "metadata": {
        "id": "QFhfcQupLJlg"
      },
      "source": [
        ""
      ],
      "execution_count": 13,
      "outputs": []
    },
    {
      "cell_type": "code",
      "metadata": {
        "id": "SyKc9KeQMxN1"
      },
      "source": [
        "model.compile(optimizer=Adam(0.001), loss='categorical_crossentropy', metrics=['accuracy'])\n",
        "history = model.fit(x=train_images, y=train_oh_labels, batch_size=128, epochs=30, validation_split=0.2)"
      ],
      "execution_count": 14,
      "outputs": []
    },
    {
      "cell_type": "code",
      "metadata": {
        "colab": {
          "base_uri": "https://localhost:8080/",
          "height": 284
        },
        "id": "wZZQFtqhM1aa",
        "outputId": "f6b4f734-297a-4214-e94c-de65e7ef7712"
      },
      "source": [
        "plt.plot(history.history['accuracy'], label='train')\n",
        "plt.plot(history.history['val_accuracy'], label='valid')\n",
        "plt.legend()"
      ],
      "execution_count": 17,
      "outputs": [
        {
          "output_type": "execute_result",
          "data": {
            "text/plain": [
              "<matplotlib.legend.Legend at 0x7f574bffb3d0>"
            ]
          },
          "metadata": {},
          "execution_count": 17
        },
        {
          "output_type": "display_data",
          "data": {
            "image/png": "[encoded data removed]",
            "text/plain": [
              "<Figure size 432x288 with 1 Axes>"
            ]
          },
          "metadata": {
            "needs_background": "light"
          }
        }
      ]
    },
    {
      "cell_type": "code",
      "metadata": {
        "colab": {
          "base_uri": "https://localhost:8080/"
        },
        "id": "KL-zn6cOOCVm",
        "outputId": "a2f87248-d84c-47e2-a870-ea89c62cf813"
      },
      "source": [
        "model.evaluate(test_images, test_oh_labels, batch_size=256, verbose=1)"
      ],
      "execution_count": 18,
      "outputs": [
        {
          "output_type": "stream",
          "name": "stdout",
          "text": [
            "40/40 [==============================] - 1s 11ms/step - loss: 0.6037 - accuracy: 0.9172\n"
          ]
        },
        {
          "output_type": "execute_result",
          "data": {
            "text/plain": [
              "[0.6037285923957825, 0.9172000288963318]"
            ]
          },
          "metadata": {},
          "execution_count": 18
        }
      ]
    },
    {
      "cell_type": "markdown",
      "metadata": {
        "id": "90abfLVLSDle"
      },
      "source": [
        "#### DropOut 적용"
      ]
    },
    {
      "cell_type": "code",
      "metadata": {
        "colab": {
          "base_uri": "https://localhost:8080/"
        },
        "id": "8hcelQbrSELZ",
        "outputId": "92dd9768-196d-4d28-cbb2-a24290c85141"
      },
      "source": [
        "input_tensor = Input(shape=(28, 28, 1))\n",
        "x = Conv2D(filters=32, kernel_size=3, strides=1, padding=\"same\", activation=\"relu\")(input_tensor)\n",
        "x = Conv2D(filters=64, kernel_size=3, strides=1, padding=\"same\", activation=\"relu\")(x)\n",
        "x = MaxPooling2D(2)(x)\n",
        "\n",
        "x = Flatten()(x)\n",
        "x = Dropout(rate=0.5)(x)\n",
        "x = Dense(100, activation=\"relu\")(x)\n",
        "output = Dense(10, activation=\"softmax\")(x)\n",
        "\n",
        "model = Model(inputs=input_tensor, outputs=output)\n",
        "model.summary()"
      ],
      "execution_count": 20,
      "outputs": [
        {
          "output_type": "stream",
          "name": "stdout",
          "text": [
            "Model: \"model_2\"\n",
            "_________________________________________________________________\n",
            "Layer (type)                 Output Shape              Param #   \n",
            "=================================================================\n",
            "input_6 (InputLayer)         [(None, 28, 28, 1)]       0         \n",
            "_________________________________________________________________\n",
            "conv2d_8 (Conv2D)            (None, 28, 28, 32)        320       \n",
            "_________________________________________________________________\n",
            "conv2d_9 (Conv2D)            (None, 28, 28, 64)        18496     \n",
            "_________________________________________________________________\n",
            "max_pooling2d_4 (MaxPooling2 (None, 14, 14, 64)        0         \n",
            "_________________________________________________________________\n",
            "flatten_1 (Flatten)          (None, 12544)             0         \n",
            "_________________________________________________________________\n",
            "dropout (Dropout)            (None, 12544)             0         \n",
            "_________________________________________________________________\n",
            "dense_2 (Dense)              (None, 100)               1254500   \n",
            "_________________________________________________________________\n",
            "dense_3 (Dense)              (None, 10)                1010      \n",
            "=================================================================\n",
            "Total params: 1,274,326\n",
            "Trainable params: 1,274,326\n",
            "Non-trainable params: 0\n",
            "_________________________________________________________________\n"
          ]
        }
      ]
    },
    {
      "cell_type": "code",
      "metadata": {
        "colab": {
          "base_uri": "https://localhost:8080/"
        },
        "id": "Yt3Uv_NgSurd",
        "outputId": "6ba53a4f-8a01-4bb3-aaca-7b4b8e278a8d"
      },
      "source": [
        "model.compile(optimizer=Adam(0.001), loss='categorical_crossentropy', metrics=['accuracy'])\n",
        "history = model.fit(x=train_images, y=train_oh_labels, batch_size=128, epochs=30, validation_split=0.2)"
      ],
      "execution_count": 21,
      "outputs": [
        {
          "output_type": "stream",
          "name": "stdout",
          "text": [
            "Epoch 1/30\n",
            "375/375 [==============================] - 7s 18ms/step - loss: 0.4524 - accuracy: 0.8382 - val_loss: 0.3226 - val_accuracy: 0.8832\n",
            "Epoch 2/30\n",
            "375/375 [==============================] - 6s 17ms/step - loss: 0.3004 - accuracy: 0.8914 - val_loss: 0.2732 - val_accuracy: 0.9015\n",
            "Epoch 3/30\n",
            "375/375 [==============================] - 6s 17ms/step - loss: 0.2491 - accuracy: 0.9093 - val_loss: 0.2478 - val_accuracy: 0.9080\n",
            "Epoch 4/30\n",
            "375/375 [==============================] - 6s 17ms/step - loss: 0.2208 - accuracy: 0.9186 - val_loss: 0.2351 - val_accuracy: 0.9155\n",
            "Epoch 5/30\n",
            "375/375 [==============================] - 6s 17ms/step - loss: 0.1949 - accuracy: 0.9278 - val_loss: 0.2197 - val_accuracy: 0.9201\n",
            "Epoch 6/30\n",
            "375/375 [==============================] - 6s 17ms/step - loss: 0.1716 - accuracy: 0.9369 - val_loss: 0.2296 - val_accuracy: 0.9176\n",
            "Epoch 7/30\n",
            "375/375 [==============================] - 6s 17ms/step - loss: 0.1541 - accuracy: 0.9432 - val_loss: 0.2225 - val_accuracy: 0.9197\n",
            "Epoch 8/30\n",
            "375/375 [==============================] - 6s 17ms/step - loss: 0.1371 - accuracy: 0.9492 - val_loss: 0.2134 - val_accuracy: 0.9218\n",
            "Epoch 9/30\n",
            "375/375 [==============================] - 6s 17ms/step - loss: 0.1243 - accuracy: 0.9535 - val_loss: 0.2122 - val_accuracy: 0.9265\n",
            "Epoch 10/30\n",
            "375/375 [==============================] - 6s 17ms/step - loss: 0.1114 - accuracy: 0.9578 - val_loss: 0.2122 - val_accuracy: 0.9283\n",
            "Epoch 11/30\n",
            "375/375 [==============================] - 6s 17ms/step - loss: 0.1001 - accuracy: 0.9625 - val_loss: 0.2145 - val_accuracy: 0.9291\n",
            "Epoch 12/30\n",
            "375/375 [==============================] - 6s 17ms/step - loss: 0.0877 - accuracy: 0.9675 - val_loss: 0.2287 - val_accuracy: 0.9271\n",
            "Epoch 13/30\n",
            "375/375 [==============================] - 6s 17ms/step - loss: 0.0787 - accuracy: 0.9711 - val_loss: 0.2467 - val_accuracy: 0.9242\n",
            "Epoch 14/30\n",
            "375/375 [==============================] - 6s 17ms/step - loss: 0.0753 - accuracy: 0.9724 - val_loss: 0.2285 - val_accuracy: 0.9287\n",
            "Epoch 15/30\n",
            "375/375 [==============================] - 6s 17ms/step - loss: 0.0653 - accuracy: 0.9760 - val_loss: 0.2600 - val_accuracy: 0.9238\n",
            "Epoch 16/30\n",
            "375/375 [==============================] - 6s 17ms/step - loss: 0.0587 - accuracy: 0.9779 - val_loss: 0.2601 - val_accuracy: 0.9285\n",
            "Epoch 17/30\n",
            "375/375 [==============================] - 6s 17ms/step - loss: 0.0550 - accuracy: 0.9794 - val_loss: 0.2632 - val_accuracy: 0.9255\n",
            "Epoch 18/30\n",
            "375/375 [==============================] - 6s 17ms/step - loss: 0.0521 - accuracy: 0.9812 - val_loss: 0.2622 - val_accuracy: 0.9286\n",
            "Epoch 19/30\n",
            "375/375 [==============================] - 6s 17ms/step - loss: 0.0459 - accuracy: 0.9829 - val_loss: 0.3007 - val_accuracy: 0.9274\n",
            "Epoch 20/30\n",
            "375/375 [==============================] - 6s 17ms/step - loss: 0.0437 - accuracy: 0.9835 - val_loss: 0.2793 - val_accuracy: 0.9294\n",
            "Epoch 21/30\n",
            "375/375 [==============================] - 6s 17ms/step - loss: 0.0401 - accuracy: 0.9857 - val_loss: 0.3033 - val_accuracy: 0.9247\n",
            "Epoch 22/30\n",
            "375/375 [==============================] - 6s 17ms/step - loss: 0.0387 - accuracy: 0.9861 - val_loss: 0.2893 - val_accuracy: 0.9278\n",
            "Epoch 23/30\n",
            "375/375 [==============================] - 6s 17ms/step - loss: 0.0350 - accuracy: 0.9870 - val_loss: 0.3054 - val_accuracy: 0.9299\n",
            "Epoch 24/30\n",
            "375/375 [==============================] - 6s 17ms/step - loss: 0.0341 - accuracy: 0.9873 - val_loss: 0.3173 - val_accuracy: 0.9271\n",
            "Epoch 25/30\n",
            "375/375 [==============================] - 6s 17ms/step - loss: 0.0343 - accuracy: 0.9882 - val_loss: 0.3156 - val_accuracy: 0.9282\n",
            "Epoch 26/30\n",
            "375/375 [==============================] - 6s 17ms/step - loss: 0.0330 - accuracy: 0.9882 - val_loss: 0.3195 - val_accuracy: 0.9283\n",
            "Epoch 27/30\n",
            "375/375 [==============================] - 6s 17ms/step - loss: 0.0302 - accuracy: 0.9892 - val_loss: 0.3147 - val_accuracy: 0.9296\n",
            "Epoch 28/30\n",
            "375/375 [==============================] - 6s 17ms/step - loss: 0.0293 - accuracy: 0.9895 - val_loss: 0.3117 - val_accuracy: 0.9282\n",
            "Epoch 29/30\n",
            "375/375 [==============================] - 6s 17ms/step - loss: 0.0277 - accuracy: 0.9898 - val_loss: 0.3389 - val_accuracy: 0.9265\n",
            "Epoch 30/30\n",
            "375/375 [==============================] - 6s 17ms/step - loss: 0.0254 - accuracy: 0.9907 - val_loss: 0.3346 - val_accuracy: 0.9260\n"
          ]
        }
      ]
    },
    {
      "cell_type": "code",
      "metadata": {
        "colab": {
          "base_uri": "https://localhost:8080/"
        },
        "id": "89Nq1x9dS6s2",
        "outputId": "a25768cd-a0a6-438a-b1de-dd472777d3b0"
      },
      "source": [
        "model.evaluate(test_images, test_oh_labels, batch_size=256, verbose=1)"
      ],
      "execution_count": 22,
      "outputs": [
        {
          "output_type": "stream",
          "name": "stdout",
          "text": [
            "40/40 [==============================] - 0s 11ms/step - loss: 0.3806 - accuracy: 0.9228\n"
          ]
        },
        {
          "output_type": "execute_result",
          "data": {
            "text/plain": [
              "[0.38056984543800354, 0.9228000044822693]"
            ]
          },
          "metadata": {},
          "execution_count": 22
        }
      ]
    },
    {
      "cell_type": "code",
      "metadata": {
        "colab": {
          "base_uri": "https://localhost:8080/"
        },
        "id": "s0feBPBKT3Uh",
        "outputId": "f07bbd5c-727e-4a3f-bb32-ae4f870af866"
      },
      "source": [
        "tf.keras.backend.clear_session()\n",
        "\n",
        "input_tensor = Input(shape=(28, 28, 1))\n",
        "x = Conv2D(filters=32, kernel_size=3, strides=1, padding=\"same\", activation=\"relu\")(input_tensor)\n",
        "x = Conv2D(filters=64, kernel_size=3, strides=1, padding=\"same\", activation=\"relu\")(x)\n",
        "x = MaxPooling2D(2)(x)\n",
        "\n",
        "x = Flatten()(x)\n",
        "x = Dropout(rate=0.5)(x)\n",
        "x = Dense(200, activation=\"relu\")(x)\n",
        "x = Dropout(rate=0.2)(x)\n",
        "x = Dense(100, activation=\"relu\")(x)\n",
        "x = Dropout(rate=0.2)(x)\n",
        "output = Dense(10, activation=\"softmax\")(x)\n",
        "\n",
        "model = Model(inputs=input_tensor, outputs=output)\n",
        "model.summary()"
      ],
      "execution_count": 31,
      "outputs": [
        {
          "output_type": "stream",
          "name": "stdout",
          "text": [
            "Model: \"model\"\n",
            "_________________________________________________________________\n",
            "Layer (type)                 Output Shape              Param #   \n",
            "=================================================================\n",
            "input_1 (InputLayer)         [(None, 28, 28, 1)]       0         \n",
            "_________________________________________________________________\n",
            "conv2d (Conv2D)              (None, 28, 28, 32)        320       \n",
            "_________________________________________________________________\n",
            "conv2d_1 (Conv2D)            (None, 28, 28, 64)        18496     \n",
            "_________________________________________________________________\n",
            "max_pooling2d (MaxPooling2D) (None, 14, 14, 64)        0         \n",
            "_________________________________________________________________\n",
            "flatten (Flatten)            (None, 12544)             0         \n",
            "_________________________________________________________________\n",
            "dropout (Dropout)            (None, 12544)             0         \n",
            "_________________________________________________________________\n",
            "dense (Dense)                (None, 200)               2509000   \n",
            "_________________________________________________________________\n",
            "dropout_1 (Dropout)          (None, 200)               0         \n",
            "_________________________________________________________________\n",
            "dense_1 (Dense)              (None, 100)               20100     \n",
            "_________________________________________________________________\n",
            "dropout_2 (Dropout)          (None, 100)               0         \n",
            "_________________________________________________________________\n",
            "dense_2 (Dense)              (None, 10)                1010      \n",
            "=================================================================\n",
            "Total params: 2,548,926\n",
            "Trainable params: 2,548,926\n",
            "Non-trainable params: 0\n",
            "_________________________________________________________________\n"
          ]
        }
      ]
    },
    {
      "cell_type": "code",
      "metadata": {
        "colab": {
          "base_uri": "https://localhost:8080/"
        },
        "id": "xT2372YHUU89",
        "outputId": "d7d236df-525a-48e9-9721-fa175cd867b2"
      },
      "source": [
        "model.compile(optimizer=Adam(0.001), loss='categorical_crossentropy', metrics=['accuracy'])\n",
        "history = model.fit(x=train_images, y=train_oh_labels, batch_size=128, epochs=30, validation_split=0.2)"
      ],
      "execution_count": 28,
      "outputs": [
        {
          "output_type": "stream",
          "name": "stdout",
          "text": [
            "Epoch 1/30\n",
            "375/375 [==============================] - 8s 19ms/step - loss: 0.5069 - accuracy: 0.8173 - val_loss: 0.3092 - val_accuracy: 0.8878\n",
            "Epoch 2/30\n",
            "375/375 [==============================] - 7s 19ms/step - loss: 0.3222 - accuracy: 0.8843 - val_loss: 0.2642 - val_accuracy: 0.9001\n",
            "Epoch 3/30\n",
            "375/375 [==============================] - 7s 19ms/step - loss: 0.2689 - accuracy: 0.9022 - val_loss: 0.2492 - val_accuracy: 0.9059\n",
            "Epoch 4/30\n",
            "375/375 [==============================] - 7s 19ms/step - loss: 0.2380 - accuracy: 0.9127 - val_loss: 0.2203 - val_accuracy: 0.9197\n",
            "Epoch 5/30\n",
            "375/375 [==============================] - 7s 19ms/step - loss: 0.2097 - accuracy: 0.9226 - val_loss: 0.2225 - val_accuracy: 0.9173\n",
            "Epoch 6/30\n",
            "375/375 [==============================] - 7s 19ms/step - loss: 0.1893 - accuracy: 0.9303 - val_loss: 0.2130 - val_accuracy: 0.9241\n",
            "Epoch 7/30\n",
            "375/375 [==============================] - 7s 19ms/step - loss: 0.1718 - accuracy: 0.9378 - val_loss: 0.1993 - val_accuracy: 0.9298\n",
            "Epoch 8/30\n",
            "375/375 [==============================] - 7s 19ms/step - loss: 0.1532 - accuracy: 0.9436 - val_loss: 0.2009 - val_accuracy: 0.9271\n",
            "Epoch 9/30\n",
            "375/375 [==============================] - 7s 19ms/step - loss: 0.1403 - accuracy: 0.9484 - val_loss: 0.2044 - val_accuracy: 0.9297\n",
            "Epoch 10/30\n",
            "375/375 [==============================] - 7s 19ms/step - loss: 0.1296 - accuracy: 0.9519 - val_loss: 0.2050 - val_accuracy: 0.9275\n",
            "Epoch 11/30\n",
            "375/375 [==============================] - 7s 19ms/step - loss: 0.1186 - accuracy: 0.9555 - val_loss: 0.2051 - val_accuracy: 0.9292\n",
            "Epoch 12/30\n",
            "375/375 [==============================] - 7s 19ms/step - loss: 0.1065 - accuracy: 0.9600 - val_loss: 0.2093 - val_accuracy: 0.9329\n",
            "Epoch 13/30\n",
            "375/375 [==============================] - 7s 19ms/step - loss: 0.0991 - accuracy: 0.9638 - val_loss: 0.2193 - val_accuracy: 0.9298\n",
            "Epoch 14/30\n",
            "375/375 [==============================] - 7s 19ms/step - loss: 0.0923 - accuracy: 0.9668 - val_loss: 0.2173 - val_accuracy: 0.9292\n",
            "Epoch 15/30\n",
            "375/375 [==============================] - 7s 19ms/step - loss: 0.0868 - accuracy: 0.9679 - val_loss: 0.2288 - val_accuracy: 0.9310\n",
            "Epoch 16/30\n",
            "375/375 [==============================] - 7s 19ms/step - loss: 0.0805 - accuracy: 0.9709 - val_loss: 0.2300 - val_accuracy: 0.9323\n",
            "Epoch 17/30\n",
            "375/375 [==============================] - 7s 19ms/step - loss: 0.0767 - accuracy: 0.9718 - val_loss: 0.2351 - val_accuracy: 0.9311\n",
            "Epoch 18/30\n",
            "375/375 [==============================] - 7s 19ms/step - loss: 0.0715 - accuracy: 0.9742 - val_loss: 0.2495 - val_accuracy: 0.9259\n",
            "Epoch 19/30\n",
            "375/375 [==============================] - 7s 19ms/step - loss: 0.0664 - accuracy: 0.9752 - val_loss: 0.2494 - val_accuracy: 0.9308\n",
            "Epoch 20/30\n",
            "375/375 [==============================] - 7s 19ms/step - loss: 0.0616 - accuracy: 0.9778 - val_loss: 0.2408 - val_accuracy: 0.9326\n",
            "Epoch 21/30\n",
            "375/375 [==============================] - 7s 19ms/step - loss: 0.0598 - accuracy: 0.9781 - val_loss: 0.2595 - val_accuracy: 0.9318\n",
            "Epoch 22/30\n",
            "375/375 [==============================] - 7s 19ms/step - loss: 0.0538 - accuracy: 0.9804 - val_loss: 0.2641 - val_accuracy: 0.9312\n",
            "Epoch 23/30\n",
            "375/375 [==============================] - 7s 19ms/step - loss: 0.0569 - accuracy: 0.9787 - val_loss: 0.2654 - val_accuracy: 0.9276\n",
            "Epoch 24/30\n",
            "375/375 [==============================] - 7s 19ms/step - loss: 0.0545 - accuracy: 0.9799 - val_loss: 0.2807 - val_accuracy: 0.9264\n",
            "Epoch 25/30\n",
            "375/375 [==============================] - 7s 19ms/step - loss: 0.0501 - accuracy: 0.9819 - val_loss: 0.2705 - val_accuracy: 0.9302\n",
            "Epoch 26/30\n",
            "375/375 [==============================] - 7s 19ms/step - loss: 0.0483 - accuracy: 0.9832 - val_loss: 0.2941 - val_accuracy: 0.9268\n",
            "Epoch 27/30\n",
            "375/375 [==============================] - 7s 19ms/step - loss: 0.0477 - accuracy: 0.9824 - val_loss: 0.2994 - val_accuracy: 0.9309\n",
            "Epoch 28/30\n",
            "375/375 [==============================] - 7s 19ms/step - loss: 0.0473 - accuracy: 0.9827 - val_loss: 0.2775 - val_accuracy: 0.9333\n",
            "Epoch 29/30\n",
            "375/375 [==============================] - 7s 19ms/step - loss: 0.0446 - accuracy: 0.9840 - val_loss: 0.2762 - val_accuracy: 0.9314\n",
            "Epoch 30/30\n",
            "375/375 [==============================] - 7s 19ms/step - loss: 0.0431 - accuracy: 0.9851 - val_loss: 0.2782 - val_accuracy: 0.9330\n"
          ]
        }
      ]
    },
    {
      "cell_type": "code",
      "metadata": {
        "colab": {
          "base_uri": "https://localhost:8080/",
          "height": 284
        },
        "id": "pIvKmuGaVtdh",
        "outputId": "64691a5e-f673-454a-ad90-559282c644c8"
      },
      "source": [
        "plt.plot(history.history['accuracy'], label='train')\n",
        "plt.plot(history.history['val_accuracy'], label='valid')\n",
        "plt.legend()"
      ],
      "execution_count": 29,
      "outputs": [
        {
          "output_type": "execute_result",
          "data": {
            "text/plain": [
              "<matplotlib.legend.Legend at 0x7f574b995e10>"
            ]
          },
          "metadata": {},
          "execution_count": 29
        },
        {
          "output_type": "display_data",
          "data": {
            "image/png": "[encoded data removed]",
            "text/plain": [
              "<Figure size 432x288 with 1 Axes>"
            ]
          },
          "metadata": {
            "needs_background": "light"
          }
        }
      ]
    },
    {
      "cell_type": "code",
      "metadata": {
        "colab": {
          "base_uri": "https://localhost:8080/"
        },
        "id": "RFTy6_m2Vuba",
        "outputId": "4a377ffe-d338-4370-976a-e47e1f728c71"
      },
      "source": [
        "model.evaluate(test_images, test_oh_labels, batch_size=256, verbose=1)"
      ],
      "execution_count": 30,
      "outputs": [
        {
          "output_type": "stream",
          "name": "stdout",
          "text": [
            "40/40 [==============================] - 0s 12ms/step - loss: 0.3040 - accuracy: 0.9287\n"
          ]
        },
        {
          "output_type": "execute_result",
          "data": {
            "text/plain": [
              "[0.30402642488479614, 0.9286999702453613]"
            ]
          },
          "metadata": {},
          "execution_count": 30
        }
      ]
    },
    {
      "cell_type": "code",
      "metadata": {
        "id": "qTQbqDUGV299"
      },
      "source": [
        ""
      ],
      "execution_count": null,
      "outputs": []
    }
  ]
}