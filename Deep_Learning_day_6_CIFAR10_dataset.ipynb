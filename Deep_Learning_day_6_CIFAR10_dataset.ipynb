{
  "nbformat": 4,
  "nbformat_minor": 5,
  "metadata": {
    "kernelspec": {
      "display_name": "Python 3",
      "language": "python",
      "name": "python3"
    },
    "language_info": {
      "codemirror_mode": {
        "name": "ipython",
        "version": 3
      },
      "file_extension": ".py",
      "mimetype": "text/x-python",
      "name": "python",
      "nbconvert_exporter": "python",
      "pygments_lexer": "ipython3",
      "version": "3.8.8"
    },
    "colab": {
      "name": "Deep Learning day 6 - CIFAR10 dataset.ipynb",
      "provenance": [],
      "collapsed_sections": []
    },
    "accelerator": "GPU"
  },
  "cells": [
    {
      "cell_type": "markdown",
      "metadata": {
        "id": "1503af5a"
      },
      "source": [
        "## CIFAR10 Dataset 신경망으로 훈련"
      ],
      "id": "1503af5a"
    },
    {
      "cell_type": "markdown",
      "metadata": {
        "id": "2ef9133d"
      },
      "source": [
        "#### imports"
      ],
      "id": "2ef9133d"
    },
    {
      "cell_type": "code",
      "metadata": {
        "id": "0955f58a"
      },
      "source": [
        "import numpy as np\n",
        "import tensorflow as tf\n",
        "from tensorflow.keras.datasets import cifar10\n",
        "import matplotlib.pyplot as plt\n",
        "\n",
        "from tensorflow.keras.utils import to_categorical\n",
        "from tensorflow.keras.models import Model\n",
        "from tensorflow.keras.layers import Input, Flatten, Dense\n",
        "from tensorflow.keras.optimizers import SGD, Adam\n",
        "from tensorflow.keras.layers import Conv2D, MaxPooling2D, Dropout"
      ],
      "id": "0955f58a",
      "execution_count": 11,
      "outputs": []
    },
    {
      "cell_type": "markdown",
      "metadata": {
        "id": "cc33a3a8"
      },
      "source": [
        "#### 데이터 적재"
      ],
      "id": "cc33a3a8"
    },
    {
      "cell_type": "code",
      "metadata": {
        "id": "862efd55"
      },
      "source": [
        "(train_images, train_labels), (test_images, test_labels) = cifar10.load_data()"
      ],
      "id": "862efd55",
      "execution_count": 12,
      "outputs": []
    },
    {
      "cell_type": "code",
      "metadata": {
        "colab": {
          "base_uri": "https://localhost:8080/"
        },
        "id": "1360b278",
        "outputId": "b067f409-d8a3-42c8-9907-209eebca265e"
      },
      "source": [
        "print(train_images.shape, train_labels.shape)\n",
        "print(test_images.shape, test_labels.shape)\n",
        "print(train_images[0].shape)"
      ],
      "id": "1360b278",
      "execution_count": 13,
      "outputs": [
        {
          "output_type": "stream",
          "name": "stdout",
          "text": [
            "(50000, 32, 32, 3) (50000, 1)\n",
            "(10000, 32, 32, 3) (10000, 1)\n",
            "(32, 32, 3)\n"
          ]
        }
      ]
    },
    {
      "cell_type": "code",
      "metadata": {
        "id": "a5d3e465"
      },
      "source": [
        "class_names = [\"airplane\", \"automobile\", \"bird\", \"cat\", \"deer\", \"dog\", \"frog\", \"horse\", \"ship\", \"truck\"]"
      ],
      "id": "a5d3e465",
      "execution_count": 14,
      "outputs": []
    },
    {
      "cell_type": "code",
      "metadata": {
        "colab": {
          "base_uri": "https://localhost:8080/"
        },
        "id": "64d46dfe",
        "outputId": "32fbce20-e761-449b-e97f-ec6e57c13811"
      },
      "source": [
        "train_labels[:10]"
      ],
      "id": "64d46dfe",
      "execution_count": 15,
      "outputs": [
        {
          "output_type": "execute_result",
          "data": {
            "text/plain": [
              "array([[6],\n",
              "       [9],\n",
              "       [9],\n",
              "       [4],\n",
              "       [1],\n",
              "       [1],\n",
              "       [2],\n",
              "       [7],\n",
              "       [8],\n",
              "       [3]], dtype=uint8)"
            ]
          },
          "metadata": {},
          "execution_count": 15
        }
      ]
    },
    {
      "cell_type": "markdown",
      "metadata": {
        "id": "2f330326"
      },
      "source": [
        "#### 데이터 시각화"
      ],
      "id": "2f330326"
    },
    {
      "cell_type": "code",
      "metadata": {
        "id": "45e4fda1"
      },
      "source": [
        "train_labels = np.int32(train_labels.flatten())"
      ],
      "id": "45e4fda1",
      "execution_count": 16,
      "outputs": []
    },
    {
      "cell_type": "code",
      "metadata": {
        "colab": {
          "base_uri": "https://localhost:8080/",
          "height": 532
        },
        "id": "f8871aff",
        "outputId": "63950e89-067c-418d-fed1-66daf6f4d387"
      },
      "source": [
        "figure, axes = plt.subplots(figsize=(22, 10), nrows=3, ncols=8)\n",
        "\n",
        "for i in range(3):\n",
        "    for j in range(8):\n",
        "        axes[i][j].imshow(train_images[(i*8)+j])\n",
        "        axes[i][j].set_title(class_names[train_labels[(i*8)+j]])\n"
      ],
      "id": "f8871aff",
      "execution_count": 17,
      "outputs": [
        {
          "output_type": "display_data",
          "data": {
            "image/png": "[encoded data removed]",
            "text/plain": [
              "<Figure size 1584x720 with 24 Axes>"
            ]
          },
          "metadata": {
            "needs_background": "light"
          }
        }
      ]
    },
    {
      "cell_type": "markdown",
      "metadata": {
        "id": "ed3cd541"
      },
      "source": [
        "#### 데이터 전처리"
      ],
      "id": "ed3cd541"
    },
    {
      "cell_type": "code",
      "metadata": {
        "id": "028f13ae"
      },
      "source": [
        "train_images = np.array(train_images/255.0, dtype=np.float32)\n",
        "train_labels = np.array(train_labels, dtype=np.float32)\n",
        "test_images = np.array(test_images/255.0, dtype=np.float32)\n",
        "test_labels = np.array(test_labels, dtype=np.float32)\n",
        "\n",
        "train_oh_labels = to_categorical(train_labels)\n",
        "test_oh_labels = to_categorical(test_labels)"
      ],
      "id": "028f13ae",
      "execution_count": 18,
      "outputs": []
    },
    {
      "cell_type": "code",
      "metadata": {
        "colab": {
          "base_uri": "https://localhost:8080/"
        },
        "id": "1lKJ0CGXdRQ8",
        "outputId": "91c37ec6-a429-485f-b552-b680a8ea076d"
      },
      "source": [
        "test_oh_labels"
      ],
      "id": "1lKJ0CGXdRQ8",
      "execution_count": 24,
      "outputs": [
        {
          "output_type": "execute_result",
          "data": {
            "text/plain": [
              "array([[0., 0., 0., ..., 0., 0., 0.],\n",
              "       [0., 0., 0., ..., 0., 1., 0.],\n",
              "       [0., 0., 0., ..., 0., 1., 0.],\n",
              "       ...,\n",
              "       [0., 0., 0., ..., 0., 0., 0.],\n",
              "       [0., 1., 0., ..., 0., 0., 0.],\n",
              "       [0., 0., 0., ..., 1., 0., 0.]], dtype=float32)"
            ]
          },
          "metadata": {},
          "execution_count": 24
        }
      ]
    },
    {
      "cell_type": "markdown",
      "metadata": {
        "id": "d8b9a4eb"
      },
      "source": [
        "#### 모델 생성"
      ],
      "id": "d8b9a4eb"
    },
    {
      "cell_type": "code",
      "metadata": {
        "colab": {
          "base_uri": "https://localhost:8080/"
        },
        "id": "2a963671",
        "outputId": "c609c77d-f567-4053-a461-c44b6b6b21f9"
      },
      "source": [
        "tf.keras.backend.clear_session()\n",
        "\n",
        "input_tensor = Input(shape=(32, 32, 3))\n",
        "x = Conv2D(filters=32, kernel_size=(3, 3), strides=1, padding=\"same\", activation=\"relu\")(input_tensor)\n",
        "x = Conv2D(filters=32, kernel_size=(3, 3), strides=1, padding=\"same\", activation=\"relu\")(x)\n",
        "x = MaxPooling2D(pool_size=(2, 2))(x)\n",
        "\n",
        "x = Conv2D(filters=64, kernel_size=(3, 3), strides=1, padding=\"same\", activation=\"relu\")(x)\n",
        "x = Conv2D(filters=64, kernel_size=(3, 3), strides=1, padding=\"same\", activation=\"relu\")(x)\n",
        "x = MaxPooling2D(pool_size=(2, 2))(x)\n",
        "                 \n",
        "x = Conv2D(filters=128, kernel_size=(3, 3), strides=1, padding=\"same\", activation=\"relu\")(x)\n",
        "x = Conv2D(filters=128, kernel_size=(3, 3), strides=1, padding=\"same\", activation=\"relu\")(x)\n",
        "x = MaxPooling2D(pool_size=(2, 2))(x)                 \n",
        "                 \n",
        "x = Flatten()(x)\n",
        "x = Dropout(rate=0.5)(x)                 \n",
        "x = Dense(200, activation=\"relu\")(x)\n",
        "x = Dropout(rate=0.3)(x)\n",
        "x = Dense(50, activation=\"relu\")(x)\n",
        "x = Dropout(rate=0.2)(x)\n",
        "output = Dense(10, activation=\"softmax\")(x)\n",
        "\n",
        "model = Model(inputs=input_tensor, outputs=output)\n",
        "model.summary()"
      ],
      "id": "2a963671",
      "execution_count": 38,
      "outputs": [
        {
          "output_type": "stream",
          "name": "stdout",
          "text": [
            "Model: \"model\"\n",
            "_________________________________________________________________\n",
            "Layer (type)                 Output Shape              Param #   \n",
            "=================================================================\n",
            "input_1 (InputLayer)         [(None, 32, 32, 3)]       0         \n",
            "_________________________________________________________________\n",
            "conv2d (Conv2D)              (None, 32, 32, 32)        896       \n",
            "_________________________________________________________________\n",
            "conv2d_1 (Conv2D)            (None, 32, 32, 32)        9248      \n",
            "_________________________________________________________________\n",
            "max_pooling2d (MaxPooling2D) (None, 16, 16, 32)        0         \n",
            "_________________________________________________________________\n",
            "conv2d_2 (Conv2D)            (None, 16, 16, 64)        18496     \n",
            "_________________________________________________________________\n",
            "conv2d_3 (Conv2D)            (None, 16, 16, 64)        36928     \n",
            "_________________________________________________________________\n",
            "max_pooling2d_1 (MaxPooling2 (None, 8, 8, 64)          0         \n",
            "_________________________________________________________________\n",
            "conv2d_4 (Conv2D)            (None, 8, 8, 128)         73856     \n",
            "_________________________________________________________________\n",
            "conv2d_5 (Conv2D)            (None, 8, 8, 128)         147584    \n",
            "_________________________________________________________________\n",
            "max_pooling2d_2 (MaxPooling2 (None, 4, 4, 128)         0         \n",
            "_________________________________________________________________\n",
            "flatten (Flatten)            (None, 2048)              0         \n",
            "_________________________________________________________________\n",
            "dropout (Dropout)            (None, 2048)              0         \n",
            "_________________________________________________________________\n",
            "dense (Dense)                (None, 200)               409800    \n",
            "_________________________________________________________________\n",
            "dropout_1 (Dropout)          (None, 200)               0         \n",
            "_________________________________________________________________\n",
            "dense_1 (Dense)              (None, 50)                10050     \n",
            "_________________________________________________________________\n",
            "dropout_2 (Dropout)          (None, 50)                0         \n",
            "_________________________________________________________________\n",
            "dense_2 (Dense)              (None, 10)                510       \n",
            "=================================================================\n",
            "Total params: 707,368\n",
            "Trainable params: 707,368\n",
            "Non-trainable params: 0\n",
            "_________________________________________________________________\n"
          ]
        }
      ]
    },
    {
      "cell_type": "markdown",
      "metadata": {
        "id": "733f27bc"
      },
      "source": [
        "#### 모델 컴파일"
      ],
      "id": "733f27bc"
    },
    {
      "cell_type": "code",
      "metadata": {
        "id": "NYRVv8C1dzpA"
      },
      "source": [
        "model.compile(optimizer=Adam(0.001), loss='categorical_crossentropy', metrics=['accuracy'])"
      ],
      "id": "NYRVv8C1dzpA",
      "execution_count": 39,
      "outputs": []
    },
    {
      "cell_type": "markdown",
      "metadata": {
        "id": "uPskJwyfe4Yg"
      },
      "source": [
        "#### 모델 학습"
      ],
      "id": "uPskJwyfe4Yg"
    },
    {
      "cell_type": "code",
      "metadata": {
        "colab": {
          "base_uri": "https://localhost:8080/"
        },
        "id": "b05a2e13",
        "outputId": "a22ae32d-ee43-4682-b1be-506ecec3f676"
      },
      "source": [
        "\n",
        "history = model.fit(x=train_images, y=train_oh_labels, batch_size=128, epochs=30, validation_split=0.2)"
      ],
      "id": "b05a2e13",
      "execution_count": 40,
      "outputs": [
        {
          "output_type": "stream",
          "name": "stdout",
          "text": [
            "Epoch 1/30\n",
            "313/313 [==============================] - 11s 32ms/step - loss: 1.9087 - accuracy: 0.2770 - val_loss: 1.4983 - val_accuracy: 0.4432\n",
            "Epoch 2/30\n",
            "313/313 [==============================] - 9s 30ms/step - loss: 1.4160 - accuracy: 0.4798 - val_loss: 1.2022 - val_accuracy: 0.5632\n",
            "Epoch 3/30\n",
            "313/313 [==============================] - 9s 30ms/step - loss: 1.2014 - accuracy: 0.5719 - val_loss: 1.0549 - val_accuracy: 0.6254\n",
            "Epoch 4/30\n",
            "313/313 [==============================] - 9s 30ms/step - loss: 1.0577 - accuracy: 0.6290 - val_loss: 0.9573 - val_accuracy: 0.6629\n",
            "Epoch 5/30\n",
            "313/313 [==============================] - 10s 31ms/step - loss: 0.9568 - accuracy: 0.6651 - val_loss: 0.8541 - val_accuracy: 0.6987\n",
            "Epoch 6/30\n",
            "313/313 [==============================] - 9s 30ms/step - loss: 0.8784 - accuracy: 0.6950 - val_loss: 0.8072 - val_accuracy: 0.7194\n",
            "Epoch 7/30\n",
            "313/313 [==============================] - 9s 30ms/step - loss: 0.8141 - accuracy: 0.7188 - val_loss: 0.7802 - val_accuracy: 0.7307\n",
            "Epoch 8/30\n",
            "313/313 [==============================] - 9s 30ms/step - loss: 0.7461 - accuracy: 0.7421 - val_loss: 0.7149 - val_accuracy: 0.7513\n",
            "Epoch 9/30\n",
            "313/313 [==============================] - 9s 30ms/step - loss: 0.6958 - accuracy: 0.7590 - val_loss: 0.7201 - val_accuracy: 0.7513\n",
            "Epoch 10/30\n",
            "313/313 [==============================] - 9s 30ms/step - loss: 0.6614 - accuracy: 0.7723 - val_loss: 0.7339 - val_accuracy: 0.7481\n",
            "Epoch 11/30\n",
            "313/313 [==============================] - 9s 30ms/step - loss: 0.6139 - accuracy: 0.7875 - val_loss: 0.6798 - val_accuracy: 0.7676\n",
            "Epoch 12/30\n",
            "313/313 [==============================] - 9s 30ms/step - loss: 0.5765 - accuracy: 0.8024 - val_loss: 0.6607 - val_accuracy: 0.7783\n",
            "Epoch 13/30\n",
            "313/313 [==============================] - 9s 30ms/step - loss: 0.5489 - accuracy: 0.8124 - val_loss: 0.6993 - val_accuracy: 0.7672\n",
            "Epoch 14/30\n",
            "313/313 [==============================] - 10s 32ms/step - loss: 0.5113 - accuracy: 0.8245 - val_loss: 0.6425 - val_accuracy: 0.7851\n",
            "Epoch 15/30\n",
            "313/313 [==============================] - 10s 30ms/step - loss: 0.4910 - accuracy: 0.8322 - val_loss: 0.7364 - val_accuracy: 0.7622\n",
            "Epoch 16/30\n",
            "313/313 [==============================] - 9s 30ms/step - loss: 0.4602 - accuracy: 0.8428 - val_loss: 0.6380 - val_accuracy: 0.7954\n",
            "Epoch 17/30\n",
            "313/313 [==============================] - 9s 30ms/step - loss: 0.4276 - accuracy: 0.8528 - val_loss: 0.6542 - val_accuracy: 0.7889\n",
            "Epoch 18/30\n",
            "313/313 [==============================] - 9s 30ms/step - loss: 0.4184 - accuracy: 0.8555 - val_loss: 0.6261 - val_accuracy: 0.7980\n",
            "Epoch 19/30\n",
            "313/313 [==============================] - 9s 30ms/step - loss: 0.4035 - accuracy: 0.8616 - val_loss: 0.6297 - val_accuracy: 0.7985\n",
            "Epoch 20/30\n",
            "313/313 [==============================] - 9s 30ms/step - loss: 0.3766 - accuracy: 0.8693 - val_loss: 0.6393 - val_accuracy: 0.7939\n",
            "Epoch 21/30\n",
            "313/313 [==============================] - 9s 30ms/step - loss: 0.3590 - accuracy: 0.8759 - val_loss: 0.6450 - val_accuracy: 0.7964\n",
            "Epoch 22/30\n",
            "313/313 [==============================] - 9s 30ms/step - loss: 0.3507 - accuracy: 0.8795 - val_loss: 0.6745 - val_accuracy: 0.7956\n",
            "Epoch 23/30\n",
            "313/313 [==============================] - 10s 31ms/step - loss: 0.3327 - accuracy: 0.8847 - val_loss: 0.6545 - val_accuracy: 0.7930\n",
            "Epoch 24/30\n",
            "313/313 [==============================] - 10s 30ms/step - loss: 0.3212 - accuracy: 0.8893 - val_loss: 0.6279 - val_accuracy: 0.8035\n",
            "Epoch 25/30\n",
            "313/313 [==============================] - 9s 30ms/step - loss: 0.3073 - accuracy: 0.8939 - val_loss: 0.6719 - val_accuracy: 0.8000\n",
            "Epoch 26/30\n",
            "313/313 [==============================] - 9s 30ms/step - loss: 0.3010 - accuracy: 0.8949 - val_loss: 0.6946 - val_accuracy: 0.7978\n",
            "Epoch 27/30\n",
            "313/313 [==============================] - 10s 30ms/step - loss: 0.2804 - accuracy: 0.9034 - val_loss: 0.6781 - val_accuracy: 0.8019\n",
            "Epoch 28/30\n",
            "313/313 [==============================] - 10s 31ms/step - loss: 0.2773 - accuracy: 0.9046 - val_loss: 0.7195 - val_accuracy: 0.8019\n",
            "Epoch 29/30\n",
            "313/313 [==============================] - 9s 30ms/step - loss: 0.2677 - accuracy: 0.9075 - val_loss: 0.6884 - val_accuracy: 0.8010\n",
            "Epoch 30/30\n",
            "313/313 [==============================] - 10s 31ms/step - loss: 0.2591 - accuracy: 0.9115 - val_loss: 0.6862 - val_accuracy: 0.8023\n"
          ]
        }
      ]
    },
    {
      "cell_type": "code",
      "metadata": {
        "colab": {
          "base_uri": "https://localhost:8080/",
          "height": 284
        },
        "id": "415212fd",
        "outputId": "02566152-468a-4562-deb3-d6a830763ab5"
      },
      "source": [
        "plt.plot(history.history[\"accuracy\"], label=\"train\")\n",
        "plt.plot(history.history[\"val_accuracy\"], label=\"valid\")\n",
        "plt.legend()"
      ],
      "id": "415212fd",
      "execution_count": 41,
      "outputs": [
        {
          "output_type": "execute_result",
          "data": {
            "text/plain": [
              "<matplotlib.legend.Legend at 0x7f9ae0df8e50>"
            ]
          },
          "metadata": {},
          "execution_count": 41
        },
        {
          "output_type": "display_data",
          "data": {
            "image/png": "[encoded data removed]",
            "text/plain": [
              "<Figure size 432x288 with 1 Axes>"
            ]
          },
          "metadata": {
            "needs_background": "light"
          }
        }
      ]
    },
    {
      "cell_type": "markdown",
      "metadata": {
        "id": "ce3fc79c"
      },
      "source": [
        "#### 테스트 데이터에서 검증"
      ],
      "id": "ce3fc79c"
    },
    {
      "cell_type": "code",
      "metadata": {
        "colab": {
          "base_uri": "https://localhost:8080/"
        },
        "id": "yzI1b_0NgJsi",
        "outputId": "950077d7-bcef-4bf9-9d2a-af9917785133"
      },
      "source": [
        "predict_proba = model.predict(np.reshape(test_images[0], (-1, 32, 32, 3)))\n",
        "predict = np.argmax(predict_proba, axis=1)\n",
        "predict"
      ],
      "id": "yzI1b_0NgJsi",
      "execution_count": 42,
      "outputs": [
        {
          "output_type": "execute_result",
          "data": {
            "text/plain": [
              "array([3])"
            ]
          },
          "metadata": {},
          "execution_count": 42
        }
      ]
    },
    {
      "cell_type": "code",
      "metadata": {
        "colab": {
          "base_uri": "https://localhost:8080/",
          "height": 285
        },
        "id": "Qxq9mJz9lywW",
        "outputId": "4eae2027-08c4-442d-d828-ee5b19d7bd1f"
      },
      "source": [
        "plt.imshow(test_images[0])"
      ],
      "id": "Qxq9mJz9lywW",
      "execution_count": 45,
      "outputs": [
        {
          "output_type": "execute_result",
          "data": {
            "text/plain": [
              "<matplotlib.image.AxesImage at 0x7f9ae0dac210>"
            ]
          },
          "metadata": {},
          "execution_count": 45
        },
        {
          "output_type": "display_data",
          "data": {
            "image/png": "[encoded data removed]",
            "text/plain": [
              "<Figure size 432x288 with 1 Axes>"
            ]
          },
          "metadata": {
            "needs_background": "light"
          }
        }
      ]
    },
    {
      "cell_type": "code",
      "metadata": {
        "colab": {
          "base_uri": "https://localhost:8080/"
        },
        "id": "pB2hdn6Mlp67",
        "outputId": "30643164-3f73-4cd9-c39e-53dc23ec7aab"
      },
      "source": [
        "test_labels[0]"
      ],
      "id": "pB2hdn6Mlp67",
      "execution_count": 43,
      "outputs": [
        {
          "output_type": "execute_result",
          "data": {
            "text/plain": [
              "array([3.], dtype=float32)"
            ]
          },
          "metadata": {},
          "execution_count": 43
        }
      ]
    },
    {
      "cell_type": "code",
      "metadata": {
        "colab": {
          "base_uri": "https://localhost:8080/"
        },
        "id": "a3368698",
        "outputId": "37e5f316-ffa8-49a6-cb81-70ed60029bb0"
      },
      "source": [
        "model.evaluate(test_images, test_oh_labels, batch_size=128, verbose=1)"
      ],
      "id": "a3368698",
      "execution_count": 46,
      "outputs": [
        {
          "output_type": "stream",
          "name": "stdout",
          "text": [
            "79/79 [==============================] - 1s 11ms/step - loss: 0.7197 - accuracy: 0.7978\n"
          ]
        },
        {
          "output_type": "execute_result",
          "data": {
            "text/plain": [
              "[0.7196638584136963, 0.7978000044822693]"
            ]
          },
          "metadata": {},
          "execution_count": 46
        }
      ]
    },
    {
      "cell_type": "markdown",
      "metadata": {
        "id": "nJOjha7zcq6Y"
      },
      "source": [
        "#### 가중치 초기값 변경"
      ],
      "id": "nJOjha7zcq6Y"
    },
    {
      "cell_type": "code",
      "metadata": {
        "colab": {
          "base_uri": "https://localhost:8080/"
        },
        "id": "8ydVn_FjmhvO",
        "outputId": "92c365ec-4207-4c42-e2a5-30a5bf0bfe8e"
      },
      "source": [
        "tf.keras.backend.clear_session()\n",
        "\n",
        "input_tensor = Input(shape=(32, 32, 3))\n",
        "x = Conv2D(filters=32, kernel_size=(3, 3), strides=1, padding=\"same\", activation=\"relu\", kernel_initializer=\"he_normal\")(input_tensor)\n",
        "x = Conv2D(filters=32, kernel_size=(3, 3), strides=1, padding=\"same\", activation=\"relu\", kernel_initializer=\"he_normal\")(x)\n",
        "x = MaxPooling2D(pool_size=(2, 2))(x)\n",
        "\n",
        "x = Conv2D(filters=64, kernel_size=(3, 3), strides=1, padding=\"same\", activation=\"relu\", kernel_initializer=\"he_normal\")(x)\n",
        "x = Conv2D(filters=64, kernel_size=(3, 3), strides=1, padding=\"same\", activation=\"relu\", kernel_initializer=\"he_normal\")(x)\n",
        "x = MaxPooling2D(pool_size=(2, 2))(x)\n",
        "                 \n",
        "x = Conv2D(filters=128, kernel_size=(3, 3), strides=1, padding=\"same\", activation=\"relu\", kernel_initializer=\"he_normal\")(x)\n",
        "x = Conv2D(filters=128, kernel_size=(3, 3), strides=1, padding=\"same\", activation=\"relu\", kernel_initializer=\"he_normal\")(x)\n",
        "x = MaxPooling2D(pool_size=(2, 2))(x)                 \n",
        "                 \n",
        "x = Flatten()(x)\n",
        "x = Dropout(rate=0.5)(x)                 \n",
        "x = Dense(200, activation=\"relu\")(x)\n",
        "x = Dropout(rate=0.3)(x)\n",
        "x = Dense(50, activation=\"relu\")(x)\n",
        "x = Dropout(rate=0.2)(x)\n",
        "output = Dense(10, activation=\"softmax\")(x)\n",
        "\n",
        "model = Model(inputs=input_tensor, outputs=output)\n",
        "model.summary()"
      ],
      "id": "8ydVn_FjmhvO",
      "execution_count": 47,
      "outputs": [
        {
          "output_type": "stream",
          "name": "stdout",
          "text": [
            "Model: \"model\"\n",
            "_________________________________________________________________\n",
            "Layer (type)                 Output Shape              Param #   \n",
            "=================================================================\n",
            "input_1 (InputLayer)         [(None, 32, 32, 3)]       0         \n",
            "_________________________________________________________________\n",
            "conv2d (Conv2D)              (None, 32, 32, 32)        896       \n",
            "_________________________________________________________________\n",
            "conv2d_1 (Conv2D)            (None, 32, 32, 32)        9248      \n",
            "_________________________________________________________________\n",
            "max_pooling2d (MaxPooling2D) (None, 16, 16, 32)        0         \n",
            "_________________________________________________________________\n",
            "conv2d_2 (Conv2D)            (None, 16, 16, 64)        18496     \n",
            "_________________________________________________________________\n",
            "conv2d_3 (Conv2D)            (None, 16, 16, 64)        36928     \n",
            "_________________________________________________________________\n",
            "max_pooling2d_1 (MaxPooling2 (None, 8, 8, 64)          0         \n",
            "_________________________________________________________________\n",
            "conv2d_4 (Conv2D)            (None, 8, 8, 128)         73856     \n",
            "_________________________________________________________________\n",
            "conv2d_5 (Conv2D)            (None, 8, 8, 128)         147584    \n",
            "_________________________________________________________________\n",
            "max_pooling2d_2 (MaxPooling2 (None, 4, 4, 128)         0         \n",
            "_________________________________________________________________\n",
            "flatten (Flatten)            (None, 2048)              0         \n",
            "_________________________________________________________________\n",
            "dropout (Dropout)            (None, 2048)              0         \n",
            "_________________________________________________________________\n",
            "dense (Dense)                (None, 200)               409800    \n",
            "_________________________________________________________________\n",
            "dropout_1 (Dropout)          (None, 200)               0         \n",
            "_________________________________________________________________\n",
            "dense_1 (Dense)              (None, 50)                10050     \n",
            "_________________________________________________________________\n",
            "dropout_2 (Dropout)          (None, 50)                0         \n",
            "_________________________________________________________________\n",
            "dense_2 (Dense)              (None, 10)                510       \n",
            "=================================================================\n",
            "Total params: 707,368\n",
            "Trainable params: 707,368\n",
            "Non-trainable params: 0\n",
            "_________________________________________________________________\n"
          ]
        }
      ]
    },
    {
      "cell_type": "code",
      "metadata": {
        "id": "gTa1QkFHnF9P"
      },
      "source": [
        "model.compile(optimizer=Adam(0.001), loss='categorical_crossentropy', metrics=['accuracy'])"
      ],
      "id": "gTa1QkFHnF9P",
      "execution_count": 48,
      "outputs": []
    },
    {
      "cell_type": "code",
      "metadata": {
        "colab": {
          "base_uri": "https://localhost:8080/"
        },
        "id": "Qrzr_AdWnGyu",
        "outputId": "111abb99-59c1-4cfb-e5af-9838af1c0927"
      },
      "source": [
        "history = model.fit(x=train_images, y=train_oh_labels, batch_size=128, epochs=30, validation_split=0.2)"
      ],
      "id": "Qrzr_AdWnGyu",
      "execution_count": 49,
      "outputs": [
        {
          "output_type": "stream",
          "name": "stdout",
          "text": [
            "Epoch 1/30\n",
            "313/313 [==============================] - 11s 32ms/step - loss: 1.8403 - accuracy: 0.3065 - val_loss: 1.4132 - val_accuracy: 0.4829\n",
            "Epoch 2/30\n",
            "313/313 [==============================] - 9s 30ms/step - loss: 1.4063 - accuracy: 0.4919 - val_loss: 1.2038 - val_accuracy: 0.5701\n",
            "Epoch 3/30\n",
            "313/313 [==============================] - 9s 30ms/step - loss: 1.1785 - accuracy: 0.5845 - val_loss: 1.0589 - val_accuracy: 0.6268\n",
            "Epoch 4/30\n",
            "313/313 [==============================] - 9s 30ms/step - loss: 1.0295 - accuracy: 0.6410 - val_loss: 0.9414 - val_accuracy: 0.6683\n",
            "Epoch 5/30\n",
            "313/313 [==============================] - 9s 30ms/step - loss: 0.9117 - accuracy: 0.6829 - val_loss: 0.8448 - val_accuracy: 0.7107\n",
            "Epoch 6/30\n",
            "313/313 [==============================] - 9s 30ms/step - loss: 0.8433 - accuracy: 0.7109 - val_loss: 0.8792 - val_accuracy: 0.6973\n",
            "Epoch 7/30\n",
            "313/313 [==============================] - 10s 31ms/step - loss: 0.7670 - accuracy: 0.7380 - val_loss: 0.7493 - val_accuracy: 0.7430\n",
            "Epoch 8/30\n",
            "313/313 [==============================] - 9s 30ms/step - loss: 0.6979 - accuracy: 0.7567 - val_loss: 0.7109 - val_accuracy: 0.7550\n",
            "Epoch 9/30\n",
            "313/313 [==============================] - 10s 31ms/step - loss: 0.6540 - accuracy: 0.7764 - val_loss: 0.6864 - val_accuracy: 0.7641\n",
            "Epoch 10/30\n",
            "313/313 [==============================] - 10s 30ms/step - loss: 0.5990 - accuracy: 0.7952 - val_loss: 0.6750 - val_accuracy: 0.7657\n",
            "Epoch 11/30\n",
            "313/313 [==============================] - 10s 30ms/step - loss: 0.5577 - accuracy: 0.8099 - val_loss: 0.6849 - val_accuracy: 0.7630\n",
            "Epoch 12/30\n",
            "313/313 [==============================] - 10s 30ms/step - loss: 0.5288 - accuracy: 0.8218 - val_loss: 0.6718 - val_accuracy: 0.7804\n",
            "Epoch 13/30\n",
            "313/313 [==============================] - 9s 30ms/step - loss: 0.4942 - accuracy: 0.8309 - val_loss: 0.6726 - val_accuracy: 0.7745\n",
            "Epoch 14/30\n",
            "313/313 [==============================] - 10s 30ms/step - loss: 0.4693 - accuracy: 0.8414 - val_loss: 0.6752 - val_accuracy: 0.7749\n",
            "Epoch 15/30\n",
            "313/313 [==============================] - 10s 30ms/step - loss: 0.4365 - accuracy: 0.8507 - val_loss: 0.6695 - val_accuracy: 0.7788\n",
            "Epoch 16/30\n",
            "313/313 [==============================] - 9s 30ms/step - loss: 0.4181 - accuracy: 0.8569 - val_loss: 0.6792 - val_accuracy: 0.7781\n",
            "Epoch 17/30\n",
            "313/313 [==============================] - 9s 30ms/step - loss: 0.3955 - accuracy: 0.8632 - val_loss: 0.7364 - val_accuracy: 0.7673\n",
            "Epoch 18/30\n",
            "313/313 [==============================] - 9s 30ms/step - loss: 0.3903 - accuracy: 0.8689 - val_loss: 0.6672 - val_accuracy: 0.7802\n",
            "Epoch 19/30\n",
            "313/313 [==============================] - 9s 30ms/step - loss: 0.3647 - accuracy: 0.8745 - val_loss: 0.6990 - val_accuracy: 0.7800\n",
            "Epoch 20/30\n",
            "313/313 [==============================] - 9s 30ms/step - loss: 0.3488 - accuracy: 0.8806 - val_loss: 0.7502 - val_accuracy: 0.7757\n",
            "Epoch 21/30\n",
            "313/313 [==============================] - 9s 30ms/step - loss: 0.3362 - accuracy: 0.8840 - val_loss: 0.6876 - val_accuracy: 0.7888\n",
            "Epoch 22/30\n",
            "313/313 [==============================] - 10s 30ms/step - loss: 0.3133 - accuracy: 0.8920 - val_loss: 0.7081 - val_accuracy: 0.7875\n",
            "Epoch 23/30\n",
            "313/313 [==============================] - 9s 30ms/step - loss: 0.3051 - accuracy: 0.8943 - val_loss: 0.7303 - val_accuracy: 0.7876\n",
            "Epoch 24/30\n",
            "313/313 [==============================] - 10s 32ms/step - loss: 0.2936 - accuracy: 0.8997 - val_loss: 0.7193 - val_accuracy: 0.7934\n",
            "Epoch 25/30\n",
            "313/313 [==============================] - 10s 30ms/step - loss: 0.2889 - accuracy: 0.9007 - val_loss: 0.7848 - val_accuracy: 0.7791\n",
            "Epoch 26/30\n",
            "313/313 [==============================] - 9s 30ms/step - loss: 0.2695 - accuracy: 0.9067 - val_loss: 0.7226 - val_accuracy: 0.7931\n",
            "Epoch 27/30\n",
            "313/313 [==============================] - 10s 30ms/step - loss: 0.2662 - accuracy: 0.9097 - val_loss: 0.7159 - val_accuracy: 0.7929\n",
            "Epoch 28/30\n",
            "313/313 [==============================] - 10s 32ms/step - loss: 0.2661 - accuracy: 0.9086 - val_loss: 0.7222 - val_accuracy: 0.7909\n",
            "Epoch 29/30\n",
            "313/313 [==============================] - 9s 30ms/step - loss: 0.2449 - accuracy: 0.9157 - val_loss: 0.7850 - val_accuracy: 0.7898\n",
            "Epoch 30/30\n",
            "313/313 [==============================] - 9s 30ms/step - loss: 0.2379 - accuracy: 0.9197 - val_loss: 0.7689 - val_accuracy: 0.7903\n"
          ]
        }
      ]
    },
    {
      "cell_type": "code",
      "metadata": {
        "colab": {
          "base_uri": "https://localhost:8080/"
        },
        "id": "X5IBYU_OnRFD",
        "outputId": "6c5663d6-0fc1-4c1b-9d38-170830c68823"
      },
      "source": [
        "model.evaluate(test_images, test_oh_labels, batch_size=128, verbose=1)"
      ],
      "id": "X5IBYU_OnRFD",
      "execution_count": 50,
      "outputs": [
        {
          "output_type": "stream",
          "name": "stdout",
          "text": [
            "79/79 [==============================] - 1s 11ms/step - loss: 0.8091 - accuracy: 0.7825\n"
          ]
        },
        {
          "output_type": "execute_result",
          "data": {
            "text/plain": [
              "[0.8090916872024536, 0.7825000286102295]"
            ]
          },
          "metadata": {},
          "execution_count": 50
        }
      ]
    },
    {
      "cell_type": "markdown",
      "metadata": {
        "id": "Q_BPYdCVnZ0J"
      },
      "source": [
        "#### 배치 정규화"
      ],
      "id": "Q_BPYdCVnZ0J"
    },
    {
      "cell_type": "code",
      "metadata": {
        "id": "sKuyEMM2pEGt"
      },
      "source": [
        "from tensorflow.keras.layers import BatchNormalization, Activation"
      ],
      "id": "sKuyEMM2pEGt",
      "execution_count": 52,
      "outputs": []
    },
    {
      "cell_type": "code",
      "metadata": {
        "colab": {
          "base_uri": "https://localhost:8080/"
        },
        "id": "MPyYYS3ZnX7I",
        "outputId": "0d788d70-fee4-4700-f668-47f6de82ef2b"
      },
      "source": [
        "tf.keras.backend.clear_session()\n",
        "\n",
        "input_tensor = Input(shape=(32, 32, 3))\n",
        "x = Conv2D(filters=32, kernel_size=(3, 3), strides=1, padding=\"same\")(input_tensor)\n",
        "x = BatchNormalization()(x)\n",
        "x = Activation(\"relu\")(x)\n",
        "x = Conv2D(filters=32, kernel_size=(3, 3), strides=1, padding=\"same\")(x)\n",
        "x = BatchNormalization()(x)\n",
        "x = Activation(\"relu\")(x)\n",
        "x = MaxPooling2D(pool_size=(2, 2))(x)\n",
        "\n",
        "x = Conv2D(filters=64, kernel_size=(3, 3), strides=1, padding=\"same\")(x)\n",
        "x = BatchNormalization()(x)\n",
        "x = Activation(\"relu\")(x)\n",
        "x = Conv2D(filters=64, kernel_size=(3, 3), strides=1, padding=\"same\")(x)\n",
        "x = BatchNormalization()(x)\n",
        "x = Activation(\"relu\")(x)\n",
        "x = MaxPooling2D(pool_size=(2, 2))(x)\n",
        "                 \n",
        "x = Conv2D(filters=128, kernel_size=(3, 3), strides=1, padding=\"same\")(x)\n",
        "x = BatchNormalization()(x)\n",
        "x = Activation(\"relu\")(x)\n",
        "x = Conv2D(filters=128, kernel_size=(3, 3), strides=1, padding=\"same\")(x)\n",
        "x = BatchNormalization()(x)\n",
        "x = Activation(\"relu\")(x)\n",
        "x = MaxPooling2D(pool_size=(2, 2))(x)                 \n",
        "                 \n",
        "x = Flatten()(x)\n",
        "x = Dropout(rate=0.5)(x)                 \n",
        "x = Dense(300, activation=\"relu\")(x)\n",
        "x = Dropout(rate=0.3)(x)\n",
        "output = Dense(10, activation=\"softmax\")(x)\n",
        "\n",
        "model = Model(inputs=input_tensor, outputs=output)\n",
        "model.summary()"
      ],
      "id": "MPyYYS3ZnX7I",
      "execution_count": 53,
      "outputs": [
        {
          "output_type": "stream",
          "name": "stdout",
          "text": [
            "Model: \"model\"\n",
            "_________________________________________________________________\n",
            "Layer (type)                 Output Shape              Param #   \n",
            "=================================================================\n",
            "input_1 (InputLayer)         [(None, 32, 32, 3)]       0         \n",
            "_________________________________________________________________\n",
            "conv2d (Conv2D)              (None, 32, 32, 32)        896       \n",
            "_________________________________________________________________\n",
            "batch_normalization (BatchNo (None, 32, 32, 32)        128       \n",
            "_________________________________________________________________\n",
            "activation (Activation)      (None, 32, 32, 32)        0         \n",
            "_________________________________________________________________\n",
            "conv2d_1 (Conv2D)            (None, 32, 32, 32)        9248      \n",
            "_________________________________________________________________\n",
            "batch_normalization_1 (Batch (None, 32, 32, 32)        128       \n",
            "_________________________________________________________________\n",
            "activation_1 (Activation)    (None, 32, 32, 32)        0         \n",
            "_________________________________________________________________\n",
            "max_pooling2d (MaxPooling2D) (None, 16, 16, 32)        0         \n",
            "_________________________________________________________________\n",
            "conv2d_2 (Conv2D)            (None, 16, 16, 64)        18496     \n",
            "_________________________________________________________________\n",
            "batch_normalization_2 (Batch (None, 16, 16, 64)        256       \n",
            "_________________________________________________________________\n",
            "activation_2 (Activation)    (None, 16, 16, 64)        0         \n",
            "_________________________________________________________________\n",
            "conv2d_3 (Conv2D)            (None, 16, 16, 64)        36928     \n",
            "_________________________________________________________________\n",
            "batch_normalization_3 (Batch (None, 16, 16, 64)        256       \n",
            "_________________________________________________________________\n",
            "activation_3 (Activation)    (None, 16, 16, 64)        0         \n",
            "_________________________________________________________________\n",
            "max_pooling2d_1 (MaxPooling2 (None, 8, 8, 64)          0         \n",
            "_________________________________________________________________\n",
            "conv2d_4 (Conv2D)            (None, 8, 8, 128)         73856     \n",
            "_________________________________________________________________\n",
            "batch_normalization_4 (Batch (None, 8, 8, 128)         512       \n",
            "_________________________________________________________________\n",
            "activation_4 (Activation)    (None, 8, 8, 128)         0         \n",
            "_________________________________________________________________\n",
            "conv2d_5 (Conv2D)            (None, 8, 8, 128)         147584    \n",
            "_________________________________________________________________\n",
            "batch_normalization_5 (Batch (None, 8, 8, 128)         512       \n",
            "_________________________________________________________________\n",
            "activation_5 (Activation)    (None, 8, 8, 128)         0         \n",
            "_________________________________________________________________\n",
            "max_pooling2d_2 (MaxPooling2 (None, 4, 4, 128)         0         \n",
            "_________________________________________________________________\n",
            "flatten (Flatten)            (None, 2048)              0         \n",
            "_________________________________________________________________\n",
            "dropout (Dropout)            (None, 2048)              0         \n",
            "_________________________________________________________________\n",
            "dense (Dense)                (None, 300)               614700    \n",
            "_________________________________________________________________\n",
            "dropout_1 (Dropout)          (None, 300)               0         \n",
            "_________________________________________________________________\n",
            "dense_1 (Dense)              (None, 10)                3010      \n",
            "=================================================================\n",
            "Total params: 906,510\n",
            "Trainable params: 905,614\n",
            "Non-trainable params: 896\n",
            "_________________________________________________________________\n"
          ]
        }
      ]
    },
    {
      "cell_type": "code",
      "metadata": {
        "id": "7n9ls2BSp8Ff"
      },
      "source": [
        "model.compile(optimizer=Adam(0.001), loss='categorical_crossentropy', metrics=['accuracy'])"
      ],
      "id": "7n9ls2BSp8Ff",
      "execution_count": 54,
      "outputs": []
    },
    {
      "cell_type": "code",
      "metadata": {
        "colab": {
          "base_uri": "https://localhost:8080/"
        },
        "id": "wtFrDq4TqSou",
        "outputId": "e67e697f-5041-4fc4-fcc4-f7ae90977c60"
      },
      "source": [
        "history = model.fit(x=train_images, y=train_oh_labels, batch_size=128, epochs=30, validation_split=0.2)"
      ],
      "id": "wtFrDq4TqSou",
      "execution_count": 55,
      "outputs": [
        {
          "output_type": "stream",
          "name": "stdout",
          "text": [
            "Epoch 1/30\n",
            "313/313 [==============================] - 14s 39ms/step - loss: 1.6105 - accuracy: 0.4159 - val_loss: 2.9750 - val_accuracy: 0.1465\n",
            "Epoch 2/30\n",
            "313/313 [==============================] - 12s 37ms/step - loss: 1.1642 - accuracy: 0.5789 - val_loss: 1.0970 - val_accuracy: 0.5765\n",
            "Epoch 3/30\n",
            "313/313 [==============================] - 12s 37ms/step - loss: 0.9592 - accuracy: 0.6574 - val_loss: 1.2005 - val_accuracy: 0.5742\n",
            "Epoch 4/30\n",
            "313/313 [==============================] - 12s 37ms/step - loss: 0.8449 - accuracy: 0.7022 - val_loss: 1.0042 - val_accuracy: 0.6422\n",
            "Epoch 5/30\n",
            "313/313 [==============================] - 12s 37ms/step - loss: 0.7575 - accuracy: 0.7351 - val_loss: 1.0693 - val_accuracy: 0.6431\n",
            "Epoch 6/30\n",
            "313/313 [==============================] - 12s 37ms/step - loss: 0.6895 - accuracy: 0.7605 - val_loss: 0.8978 - val_accuracy: 0.6875\n",
            "Epoch 7/30\n",
            "313/313 [==============================] - 12s 38ms/step - loss: 0.6378 - accuracy: 0.7757 - val_loss: 1.2824 - val_accuracy: 0.6142\n",
            "Epoch 8/30\n",
            "313/313 [==============================] - 12s 38ms/step - loss: 0.5819 - accuracy: 0.7974 - val_loss: 0.8324 - val_accuracy: 0.7240\n",
            "Epoch 9/30\n",
            "313/313 [==============================] - 12s 37ms/step - loss: 0.5442 - accuracy: 0.8098 - val_loss: 0.8925 - val_accuracy: 0.7176\n",
            "Epoch 10/30\n",
            "313/313 [==============================] - 12s 37ms/step - loss: 0.5006 - accuracy: 0.8249 - val_loss: 0.7420 - val_accuracy: 0.7654\n",
            "Epoch 11/30\n",
            "313/313 [==============================] - 12s 37ms/step - loss: 0.4604 - accuracy: 0.8396 - val_loss: 0.6349 - val_accuracy: 0.7918\n",
            "Epoch 12/30\n",
            "313/313 [==============================] - 12s 37ms/step - loss: 0.4252 - accuracy: 0.8509 - val_loss: 0.7158 - val_accuracy: 0.7739\n",
            "Epoch 13/30\n",
            "313/313 [==============================] - 12s 37ms/step - loss: 0.4076 - accuracy: 0.8584 - val_loss: 0.8330 - val_accuracy: 0.7333\n",
            "Epoch 14/30\n",
            "313/313 [==============================] - 12s 37ms/step - loss: 0.3686 - accuracy: 0.8722 - val_loss: 0.7000 - val_accuracy: 0.7772\n",
            "Epoch 15/30\n",
            "313/313 [==============================] - 12s 37ms/step - loss: 0.3436 - accuracy: 0.8792 - val_loss: 0.7324 - val_accuracy: 0.7727\n",
            "Epoch 16/30\n",
            "313/313 [==============================] - 12s 37ms/step - loss: 0.3206 - accuracy: 0.8875 - val_loss: 1.2061 - val_accuracy: 0.6999\n",
            "Epoch 17/30\n",
            "313/313 [==============================] - 12s 37ms/step - loss: 0.2930 - accuracy: 0.8958 - val_loss: 0.6910 - val_accuracy: 0.7955\n",
            "Epoch 18/30\n",
            "313/313 [==============================] - 12s 37ms/step - loss: 0.2788 - accuracy: 0.9032 - val_loss: 0.7061 - val_accuracy: 0.7832\n",
            "Epoch 19/30\n",
            "313/313 [==============================] - 12s 37ms/step - loss: 0.2564 - accuracy: 0.9090 - val_loss: 1.1572 - val_accuracy: 0.7175\n",
            "Epoch 20/30\n",
            "313/313 [==============================] - 12s 37ms/step - loss: 0.2392 - accuracy: 0.9158 - val_loss: 0.9247 - val_accuracy: 0.7535\n",
            "Epoch 21/30\n",
            "313/313 [==============================] - 12s 37ms/step - loss: 0.2249 - accuracy: 0.9207 - val_loss: 0.8108 - val_accuracy: 0.7743\n",
            "Epoch 22/30\n",
            "313/313 [==============================] - 12s 37ms/step - loss: 0.2063 - accuracy: 0.9278 - val_loss: 0.9563 - val_accuracy: 0.7654\n",
            "Epoch 23/30\n",
            "313/313 [==============================] - 12s 37ms/step - loss: 0.1975 - accuracy: 0.9311 - val_loss: 0.8656 - val_accuracy: 0.7689\n",
            "Epoch 24/30\n",
            "313/313 [==============================] - 12s 37ms/step - loss: 0.1940 - accuracy: 0.9319 - val_loss: 0.7286 - val_accuracy: 0.8028\n",
            "Epoch 25/30\n",
            "313/313 [==============================] - 12s 37ms/step - loss: 0.1781 - accuracy: 0.9383 - val_loss: 0.7599 - val_accuracy: 0.7898\n",
            "Epoch 26/30\n",
            "313/313 [==============================] - 12s 37ms/step - loss: 0.1704 - accuracy: 0.9406 - val_loss: 0.6863 - val_accuracy: 0.8129\n",
            "Epoch 27/30\n",
            "313/313 [==============================] - 12s 37ms/step - loss: 0.1561 - accuracy: 0.9452 - val_loss: 0.7988 - val_accuracy: 0.8024\n",
            "Epoch 28/30\n",
            "313/313 [==============================] - 12s 37ms/step - loss: 0.1520 - accuracy: 0.9467 - val_loss: 0.6781 - val_accuracy: 0.8214\n",
            "Epoch 29/30\n",
            "313/313 [==============================] - 12s 37ms/step - loss: 0.1457 - accuracy: 0.9481 - val_loss: 0.7715 - val_accuracy: 0.8109\n",
            "Epoch 30/30\n",
            "313/313 [==============================] - 12s 37ms/step - loss: 0.1368 - accuracy: 0.9533 - val_loss: 0.7608 - val_accuracy: 0.8065\n"
          ]
        }
      ]
    },
    {
      "cell_type": "code",
      "metadata": {
        "colab": {
          "base_uri": "https://localhost:8080/"
        },
        "id": "m6VJIddNqVSD",
        "outputId": "287c881b-81ca-4894-93c6-f555df868954"
      },
      "source": [
        "model.evaluate(test_images, test_oh_labels, batch_size=128, verbose=1)"
      ],
      "id": "m6VJIddNqVSD",
      "execution_count": 56,
      "outputs": [
        {
          "output_type": "stream",
          "name": "stdout",
          "text": [
            "79/79 [==============================] - 1s 14ms/step - loss: 0.7914 - accuracy: 0.7936\n"
          ]
        },
        {
          "output_type": "execute_result",
          "data": {
            "text/plain": [
              "[0.7913919687271118, 0.7936000227928162]"
            ]
          },
          "metadata": {},
          "execution_count": 56
        }
      ]
    },
    {
      "cell_type": "markdown",
      "metadata": {
        "id": "ym223iNqsN79"
      },
      "source": [
        "#### Batch 사이즈 조정"
      ],
      "id": "ym223iNqsN79"
    },
    {
      "cell_type": "code",
      "metadata": {
        "id": "3SsH07w0r4MG"
      },
      "source": [
        "def build_model():\n",
        "  tf.keras.backend.clear_session()\n",
        "\n",
        "  input_tensor = Input(shape=(32, 32, 3))\n",
        "  x = Conv2D(filters=32, kernel_size=(3, 3), strides=1, padding=\"same\")(input_tensor)\n",
        "  x = BatchNormalization()(x)\n",
        "  x = Activation(\"relu\")(x)\n",
        "  x = Conv2D(filters=32, kernel_size=(3, 3), strides=1, padding=\"same\")(x)\n",
        "  x = BatchNormalization()(x)\n",
        "  x = Activation(\"relu\")(x)\n",
        "  x = MaxPooling2D(pool_size=(2, 2))(x)\n",
        "\n",
        "  x = Conv2D(filters=64, kernel_size=(3, 3), strides=1, padding=\"same\")(x)\n",
        "  x = BatchNormalization()(x)\n",
        "  x = Activation(\"relu\")(x)\n",
        "  x = Conv2D(filters=64, kernel_size=(3, 3), strides=1, padding=\"same\")(x)\n",
        "  x = BatchNormalization()(x)\n",
        "  x = Activation(\"relu\")(x)\n",
        "  x = MaxPooling2D(pool_size=(2, 2))(x)\n",
        "                  \n",
        "  x = Conv2D(filters=128, kernel_size=(3, 3), strides=1, padding=\"same\")(x)\n",
        "  x = BatchNormalization()(x)\n",
        "  x = Activation(\"relu\")(x)\n",
        "  x = Conv2D(filters=128, kernel_size=(3, 3), strides=1, padding=\"same\")(x)\n",
        "  x = BatchNormalization()(x)\n",
        "  x = Activation(\"relu\")(x)\n",
        "  x = MaxPooling2D(pool_size=(2, 2))(x)                 \n",
        "                  \n",
        "  x = Flatten()(x)\n",
        "  x = Dropout(rate=0.5)(x)                 \n",
        "  x = Dense(300, activation=\"relu\")(x)\n",
        "  x = Dropout(rate=0.3)(x)\n",
        "  x = Dense(100, activation=\"relu\")(x)\n",
        "  x = Dropout(rate=0.3)(x)\n",
        "  output = Dense(10, activation=\"softmax\")(x)\n",
        "\n",
        "  model = Model(inputs=input_tensor, outputs=output)\n",
        "  return model\n"
      ],
      "id": "3SsH07w0r4MG",
      "execution_count": 61,
      "outputs": []
    },
    {
      "cell_type": "code",
      "metadata": {
        "colab": {
          "base_uri": "https://localhost:8080/"
        },
        "id": "45L-WFDCs5Ay",
        "outputId": "5a557ad2-0d09-4b2f-90a1-d462f7d81495"
      },
      "source": [
        "batch_sizes = [32, 64, 256]\n",
        "for batch_size in batch_sizes:\n",
        "  model = build_model()\n",
        "  model.compile(optimizer=Adam(0.001), loss='categorical_crossentropy', metrics=['accuracy'])\n",
        "  history = model.fit(x=train_images, y=train_oh_labels, batch_size=batch_size, epochs=30, validation_split=0.2)\n",
        "  evaluate_accuracy = model.evaluate(test_images, test_oh_labels, batch_size=batch_size, verbose=1)\n",
        "  print(\"Result : \", batch_size, evaluate_accuracy)"
      ],
      "id": "45L-WFDCs5Ay",
      "execution_count": null,
      "outputs": [
        {
          "output_type": "stream",
          "name": "stdout",
          "text": [
            "Epoch 1/30\n",
            "1250/1250 [==============================] - 30s 23ms/step - loss: 1.6864 - accuracy: 0.3785 - val_loss: 1.5436 - val_accuracy: 0.4659\n",
            "Epoch 2/30\n",
            "1250/1250 [==============================] - 27s 22ms/step - loss: 1.2102 - accuracy: 0.5764 - val_loss: 1.1430 - val_accuracy: 0.6124\n",
            "Epoch 3/30\n",
            "1250/1250 [==============================] - 27s 22ms/step - loss: 0.9976 - accuracy: 0.6607 - val_loss: 0.9220 - val_accuracy: 0.6806\n",
            "Epoch 4/30\n",
            "1250/1250 [==============================] - 28s 22ms/step - loss: 0.8792 - accuracy: 0.7012 - val_loss: 1.2399 - val_accuracy: 0.5738\n",
            "Epoch 5/30\n",
            "1250/1250 [==============================] - 27s 22ms/step - loss: 0.7927 - accuracy: 0.7325 - val_loss: 1.6327 - val_accuracy: 0.5535\n",
            "Epoch 6/30\n",
            "1250/1250 [==============================] - 27s 21ms/step - loss: 0.7212 - accuracy: 0.7582 - val_loss: 0.7357 - val_accuracy: 0.7530\n",
            "Epoch 7/30\n",
            "1250/1250 [==============================] - 27s 22ms/step - loss: 0.6593 - accuracy: 0.7785 - val_loss: 0.7298 - val_accuracy: 0.7539\n",
            "Epoch 8/30\n",
            "1250/1250 [==============================] - 27s 21ms/step - loss: 0.6143 - accuracy: 0.7952 - val_loss: 0.6861 - val_accuracy: 0.7689\n",
            "Epoch 9/30\n",
            "1250/1250 [==============================] - 27s 21ms/step - loss: 0.5611 - accuracy: 0.8133 - val_loss: 0.6285 - val_accuracy: 0.7904\n",
            "Epoch 10/30\n",
            "1250/1250 [==============================] - 26s 21ms/step - loss: 0.5289 - accuracy: 0.8229 - val_loss: 0.6703 - val_accuracy: 0.7769\n",
            "Epoch 11/30\n",
            "1219/1250 [============================>.] - ETA: 0s - loss: 0.4961 - accuracy: 0.8354"
          ]
        }
      ]
    },
    {
      "cell_type": "code",
      "metadata": {
        "id": "Pe2YzgMFt4IX"
      },
      "source": [
        ""
      ],
      "id": "Pe2YzgMFt4IX",
      "execution_count": null,
      "outputs": []
    }
  ]
}