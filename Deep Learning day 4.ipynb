{
 "cells": [
  {
   "cell_type": "markdown",
   "id": "b5d91b12",
   "metadata": {},
   "source": [
    "## MNIST Dataset 신경망 훈련"
   ]
  },
  {
   "cell_type": "markdown",
   "id": "eda5a483",
   "metadata": {},
   "source": [
    "* import "
   ]
  },
  {
   "cell_type": "code",
   "execution_count": 1,
   "id": "59be317c",
   "metadata": {},
   "outputs": [],
   "source": [
    "import tensorflow as tf"
   ]
  },
  {
   "cell_type": "code",
   "execution_count": 2,
   "id": "58c5e226",
   "metadata": {},
   "outputs": [
    {
     "data": {
      "text/plain": [
       "'2.3.0'"
      ]
     },
     "execution_count": 2,
     "metadata": {},
     "output_type": "execute_result"
    }
   ],
   "source": [
    "tf.__version__"
   ]
  },
  {
   "cell_type": "code",
   "execution_count": 3,
   "id": "3f9a123f",
   "metadata": {},
   "outputs": [],
   "source": [
    "import tensorflow.keras"
   ]
  },
  {
   "cell_type": "code",
   "execution_count": 4,
   "id": "c3d200e2",
   "metadata": {},
   "outputs": [
    {
     "data": {
      "text/plain": [
       "'2.4.0'"
      ]
     },
     "execution_count": 4,
     "metadata": {},
     "output_type": "execute_result"
    }
   ],
   "source": [
    "tensorflow.keras.__version__"
   ]
  },
  {
   "cell_type": "code",
   "execution_count": 15,
   "id": "07230cbd",
   "metadata": {},
   "outputs": [],
   "source": [
    "import numpy as np"
   ]
  },
  {
   "cell_type": "markdown",
   "id": "e0a51d0d",
   "metadata": {},
   "source": [
    "* 데이터 적재"
   ]
  },
  {
   "cell_type": "code",
   "execution_count": 5,
   "id": "54eeb469",
   "metadata": {},
   "outputs": [],
   "source": [
    "from tensorflow.keras.datasets import mnist"
   ]
  },
  {
   "cell_type": "code",
   "execution_count": 6,
   "id": "b50ddf31",
   "metadata": {},
   "outputs": [
    {
     "name": "stdout",
     "output_type": "stream",
     "text": [
      "Downloading data from https://storage.googleapis.com/tensorflow/tf-keras-datasets/mnist.npz\n",
      "11493376/11490434 [==============================] - 6s 1us/step\n"
     ]
    }
   ],
   "source": [
    "(train_images, train_labels), (test_images, test_labels) = mnist.load_data()"
   ]
  },
  {
   "cell_type": "code",
   "execution_count": 7,
   "id": "584d45ce",
   "metadata": {},
   "outputs": [
    {
     "data": {
      "text/plain": [
       "(60000, 28, 28)"
      ]
     },
     "execution_count": 7,
     "metadata": {},
     "output_type": "execute_result"
    }
   ],
   "source": [
    "train_images.shape"
   ]
  },
  {
   "cell_type": "code",
   "execution_count": 8,
   "id": "ad66ae13",
   "metadata": {},
   "outputs": [
    {
     "data": {
      "text/plain": [
       "array([5, 0, 4, ..., 5, 6, 8], dtype=uint8)"
      ]
     },
     "execution_count": 8,
     "metadata": {},
     "output_type": "execute_result"
    }
   ],
   "source": [
    "train_labels"
   ]
  },
  {
   "cell_type": "code",
   "execution_count": 9,
   "id": "35b7b034",
   "metadata": {},
   "outputs": [
    {
     "data": {
      "text/plain": [
       "(10000, 28, 28)"
      ]
     },
     "execution_count": 9,
     "metadata": {},
     "output_type": "execute_result"
    }
   ],
   "source": [
    "test_images.shape"
   ]
  },
  {
   "cell_type": "code",
   "execution_count": 10,
   "id": "22a52a51",
   "metadata": {},
   "outputs": [
    {
     "data": {
      "text/plain": [
       "(10000,)"
      ]
     },
     "execution_count": 10,
     "metadata": {},
     "output_type": "execute_result"
    }
   ],
   "source": [
    "test_labels.shape"
   ]
  },
  {
   "cell_type": "markdown",
   "id": "94cf0b27",
   "metadata": {},
   "source": [
    "* 데이터 시각화"
   ]
  },
  {
   "cell_type": "code",
   "execution_count": 11,
   "id": "c0cafade",
   "metadata": {},
   "outputs": [],
   "source": [
    "import matplotlib.pyplot as plt"
   ]
  },
  {
   "cell_type": "code",
   "execution_count": 13,
   "id": "84d97159",
   "metadata": {
    "scrolled": true
   },
   "outputs": [
    {
     "data": {
      "text/plain": [
       "<matplotlib.image.AxesImage at 0x198d9ec5550>"
      ]
     },
     "execution_count": 13,
     "metadata": {},
     "output_type": "execute_result"
    },
    {
     "data": {
      "image/png": "[encoded data removed]",
      "text/plain": [
       "<Figure size 432x288 with 1 Axes>"
      ]
     },
     "metadata": {
      "needs_background": "light"
     },
     "output_type": "display_data"
    }
   ],
   "source": [
    "plt.imshow(train_images[0], cmap=\"gray\")"
   ]
  },
  {
   "cell_type": "code",
   "execution_count": 14,
   "id": "eb9d492e",
   "metadata": {},
   "outputs": [
    {
     "data": {
      "image/png": "[encoded data removed]",
      "text/plain": [
       "<Figure size 1584x432 with 8 Axes>"
      ]
     },
     "metadata": {
      "needs_background": "light"
     },
     "output_type": "display_data"
    }
   ],
   "source": [
    "figure, axes = plt.subplots(figsize=(22, 6), nrows=1, ncols=8)\n",
    "for i in range(8):\n",
    "    axes[i].imshow(train_images[i], cmap=\"gray\")\n",
    "    "
   ]
  },
  {
   "cell_type": "markdown",
   "id": "93cfa8aa",
   "metadata": {},
   "source": [
    "* 데이터 전처리"
   ]
  },
  {
   "cell_type": "code",
   "execution_count": 16,
   "id": "7aa5aad3",
   "metadata": {},
   "outputs": [],
   "source": [
    "train_images  = np.array(train_images/255.0, dtype=np.float32)\n",
    "train_labels  = np.array(train_labels, dtype=np.float32)"
   ]
  },
  {
   "cell_type": "code",
   "execution_count": 17,
   "id": "42d63b5b",
   "metadata": {},
   "outputs": [],
   "source": [
    "test_images  = np.array(test_images/255.0, dtype=np.float32)\n",
    "test_labels  = np.array(test_labels, dtype=np.float32)"
   ]
  },
  {
   "cell_type": "markdown",
   "id": "752c8d98",
   "metadata": {},
   "source": [
    "* 모델 생성"
   ]
  },
  {
   "cell_type": "code",
   "execution_count": 21,
   "id": "c3836db8",
   "metadata": {},
   "outputs": [],
   "source": [
    "from tensorflow.keras.layers import Dense, Flatten\n",
    "from tensorflow.keras.models import Sequential"
   ]
  },
  {
   "cell_type": "code",
   "execution_count": 70,
   "id": "1cca44e8",
   "metadata": {},
   "outputs": [],
   "source": [
    "model = Sequential([\n",
    "    Flatten(input_shape=(28, 28)), \n",
    "    Dense(50, activation='sigmoid'),\n",
    "    Dense(10, activation='softmax')\n",
    "])"
   ]
  },
  {
   "cell_type": "code",
   "execution_count": 29,
   "id": "81cb008a",
   "metadata": {},
   "outputs": [
    {
     "name": "stdout",
     "output_type": "stream",
     "text": [
      "Model: \"sequential_3\"\n",
      "_________________________________________________________________\n",
      "Layer (type)                 Output Shape              Param #   \n",
      "=================================================================\n",
      "flatten_3 (Flatten)          (None, 784)               0         \n",
      "_________________________________________________________________\n",
      "dense_6 (Dense)              (None, 50)                39250     \n",
      "_________________________________________________________________\n",
      "dense_7 (Dense)              (None, 10)                510       \n",
      "=================================================================\n",
      "Total params: 39,760\n",
      "Trainable params: 39,760\n",
      "Non-trainable params: 0\n",
      "_________________________________________________________________\n"
     ]
    }
   ],
   "source": [
    "model.summary()"
   ]
  },
  {
   "cell_type": "code",
   "execution_count": 30,
   "id": "de961573",
   "metadata": {},
   "outputs": [],
   "source": [
    "model1 = Sequential()"
   ]
  },
  {
   "cell_type": "code",
   "execution_count": 34,
   "id": "da8eb752",
   "metadata": {},
   "outputs": [
    {
     "name": "stdout",
     "output_type": "stream",
     "text": [
      "Model: \"sequential_4\"\n",
      "_________________________________________________________________\n",
      "Layer (type)                 Output Shape              Param #   \n",
      "=================================================================\n",
      "flatten_4 (Flatten)          (None, 784)               0         \n",
      "_________________________________________________________________\n",
      "dense_8 (Dense)              (None, 50)                39250     \n",
      "_________________________________________________________________\n",
      "flatten_5 (Flatten)          (None, 50)                0         \n",
      "_________________________________________________________________\n",
      "dense_10 (Dense)             (None, 50)                2550      \n",
      "_________________________________________________________________\n",
      "flatten_6 (Flatten)          (None, 50)                0         \n",
      "_________________________________________________________________\n",
      "dense_12 (Dense)             (None, 50)                2550      \n",
      "_________________________________________________________________\n",
      "dense_13 (Dense)             (None, 50)                2550      \n",
      "=================================================================\n",
      "Total params: 46,900\n",
      "Trainable params: 46,900\n",
      "Non-trainable params: 0\n",
      "_________________________________________________________________\n"
     ]
    }
   ],
   "source": [
    "model1.add(Flatten(input_shape = (28,28)))\n",
    "model1.add(Dense(50, activation = 'sigmoid'))\n",
    "model1.add(Dense(50, activation = 'softmax'))\n",
    "\n",
    "model1.summary()"
   ]
  },
  {
   "cell_type": "markdown",
   "id": "7fa43f67",
   "metadata": {},
   "source": [
    "* 모델의 손실함수와 최적화 함수 설정, 학습 수행"
   ]
  },
  {
   "cell_type": "code",
   "execution_count": 36,
   "id": "b1b06506",
   "metadata": {},
   "outputs": [],
   "source": [
    "from tensorflow.keras.optimizers import SGD\n",
    "from tensorflow.keras.losses import CategoricalCrossentropy # 정답이 one-hot encoding 되어 있을때\n",
    "from tensorflow.keras.metrics import Accuracy"
   ]
  },
  {
   "cell_type": "code",
   "execution_count": 71,
   "id": "083c1091",
   "metadata": {},
   "outputs": [],
   "source": [
    "model.compile(optimizer=SGD(0.1), loss='categorical_crossentropy', metrics=['accuracy'])"
   ]
  },
  {
   "cell_type": "code",
   "execution_count": 43,
   "id": "577a4779",
   "metadata": {},
   "outputs": [
    {
     "data": {
      "text/plain": [
       "(60000,)"
      ]
     },
     "execution_count": 43,
     "metadata": {},
     "output_type": "execute_result"
    }
   ],
   "source": [
    "train_labels.shape"
   ]
  },
  {
   "cell_type": "code",
   "execution_count": 39,
   "id": "d9a9f007",
   "metadata": {},
   "outputs": [],
   "source": [
    "from tensorflow.keras.utils import to_categorical"
   ]
  },
  {
   "cell_type": "code",
   "execution_count": 72,
   "id": "6fb94a6e",
   "metadata": {},
   "outputs": [],
   "source": [
    "train_oh_labels = to_categorical(train_labels)\n",
    "test_oh_labels = to_categorical(test_labels)"
   ]
  },
  {
   "cell_type": "code",
   "execution_count": 41,
   "id": "7f7ef766",
   "metadata": {},
   "outputs": [
    {
     "data": {
      "text/plain": [
       "(60000, 10)"
      ]
     },
     "execution_count": 41,
     "metadata": {},
     "output_type": "execute_result"
    }
   ],
   "source": [
    "train_oh_labels.shape"
   ]
  },
  {
   "cell_type": "code",
   "execution_count": 44,
   "id": "855a2e48",
   "metadata": {},
   "outputs": [
    {
     "data": {
      "text/plain": [
       "array([0., 0., 0., 0., 0., 1., 0., 0., 0., 0.], dtype=float32)"
      ]
     },
     "execution_count": 44,
     "metadata": {},
     "output_type": "execute_result"
    }
   ],
   "source": [
    "train_oh_labels[0]"
   ]
  },
  {
   "cell_type": "code",
   "execution_count": 73,
   "id": "91dc47de",
   "metadata": {},
   "outputs": [
    {
     "name": "stdout",
     "output_type": "stream",
     "text": [
      "Epoch 1/17\n",
      "480/480 [==============================] - 1s 2ms/step - loss: 1.0724 - accuracy: 0.7651 - val_loss: 0.5506 - val_accuracy: 0.8760\n",
      "Epoch 2/17\n",
      "480/480 [==============================] - 1s 1ms/step - loss: 0.4823 - accuracy: 0.8802 - val_loss: 0.3918 - val_accuracy: 0.8999\n",
      "Epoch 3/17\n",
      "480/480 [==============================] - 1s 1ms/step - loss: 0.3845 - accuracy: 0.8965 - val_loss: 0.3378 - val_accuracy: 0.9093\n",
      "Epoch 4/17\n",
      "480/480 [==============================] - 1s 2ms/step - loss: 0.3408 - accuracy: 0.9051 - val_loss: 0.3080 - val_accuracy: 0.9138\n",
      "Epoch 5/17\n",
      "480/480 [==============================] - 1s 2ms/step - loss: 0.3141 - accuracy: 0.9115 - val_loss: 0.2887 - val_accuracy: 0.9193\n",
      "Epoch 6/17\n",
      "480/480 [==============================] - 1s 1ms/step - loss: 0.2945 - accuracy: 0.9159 - val_loss: 0.2745 - val_accuracy: 0.9227\n",
      "Epoch 7/17\n",
      "480/480 [==============================] - 1s 1ms/step - loss: 0.2791 - accuracy: 0.9203 - val_loss: 0.2630 - val_accuracy: 0.9258\n",
      "Epoch 8/17\n",
      "480/480 [==============================] - 1s 1ms/step - loss: 0.2662 - accuracy: 0.9244 - val_loss: 0.2514 - val_accuracy: 0.9289\n",
      "Epoch 9/17\n",
      "480/480 [==============================] - 1s 1ms/step - loss: 0.2548 - accuracy: 0.9274 - val_loss: 0.2422 - val_accuracy: 0.9305\n",
      "Epoch 10/17\n",
      "480/480 [==============================] - 1s 2ms/step - loss: 0.2447 - accuracy: 0.9306 - val_loss: 0.2343 - val_accuracy: 0.9332\n",
      "Epoch 11/17\n",
      "480/480 [==============================] - 1s 1ms/step - loss: 0.2358 - accuracy: 0.9329 - val_loss: 0.2288 - val_accuracy: 0.9350\n",
      "Epoch 12/17\n",
      "480/480 [==============================] - 1s 1ms/step - loss: 0.2276 - accuracy: 0.9351 - val_loss: 0.2212 - val_accuracy: 0.9368\n",
      "Epoch 13/17\n",
      "480/480 [==============================] - 1s 2ms/step - loss: 0.2202 - accuracy: 0.9374 - val_loss: 0.2156 - val_accuracy: 0.9383\n",
      "Epoch 14/17\n",
      "480/480 [==============================] - 1s 2ms/step - loss: 0.2133 - accuracy: 0.9397 - val_loss: 0.2106 - val_accuracy: 0.9412\n",
      "Epoch 15/17\n",
      "480/480 [==============================] - 1s 2ms/step - loss: 0.2070 - accuracy: 0.9412 - val_loss: 0.2063 - val_accuracy: 0.9422\n",
      "Epoch 16/17\n",
      "480/480 [==============================] - 1s 2ms/step - loss: 0.2011 - accuracy: 0.9429 - val_loss: 0.2012 - val_accuracy: 0.9439\n",
      "Epoch 17/17\n",
      "480/480 [==============================] - 1s 1ms/step - loss: 0.1957 - accuracy: 0.9444 - val_loss: 0.1973 - val_accuracy: 0.9445\n"
     ]
    }
   ],
   "source": [
    "history = model.fit(x = train_images ,y = train_oh_labels, batch_size=100, validation_split=0.2, epochs=17, verbose=1)"
   ]
  },
  {
   "cell_type": "code",
   "execution_count": 51,
   "id": "802e6c09",
   "metadata": {},
   "outputs": [
    {
     "data": {
      "text/plain": [
       "[0.964806854724884,\n",
       " 0.43339803814888,\n",
       " 0.35371333360671997,\n",
       " 0.31624045968055725,\n",
       " 0.2918763756752014,\n",
       " 0.273512065410614,\n",
       " 0.2585127055644989,\n",
       " 0.24579311907291412,\n",
       " 0.23451942205429077,\n",
       " 0.2248051017522812,\n",
       " 0.21596692502498627,\n",
       " 0.20797178149223328,\n",
       " 0.2008369415998459,\n",
       " 0.1942545771598816,\n",
       " 0.1880318820476532,\n",
       " 0.1823503077030182,\n",
       " 0.17708510160446167]"
      ]
     },
     "execution_count": 51,
     "metadata": {},
     "output_type": "execute_result"
    }
   ],
   "source": [
    "history.history[\"loss\"]"
   ]
  },
  {
   "cell_type": "code",
   "execution_count": 52,
   "id": "85f5c8c7",
   "metadata": {},
   "outputs": [
    {
     "data": {
      "text/plain": [
       "[0.7868833541870117,\n",
       " 0.88714998960495,\n",
       " 0.9028499722480774,\n",
       " 0.9112333059310913,\n",
       " 0.917116641998291,\n",
       " 0.9229833483695984,\n",
       " 0.9261333346366882,\n",
       " 0.9305166602134705,\n",
       " 0.9334166646003723,\n",
       " 0.9362333416938782,\n",
       " 0.9388833045959473,\n",
       " 0.9406833052635193,\n",
       " 0.9429333209991455,\n",
       " 0.9449499845504761,\n",
       " 0.9465500116348267,\n",
       " 0.9482499957084656,\n",
       " 0.9496333599090576]"
      ]
     },
     "execution_count": 52,
     "metadata": {},
     "output_type": "execute_result"
    }
   ],
   "source": [
    "history.history[\"accuracy\"]"
   ]
  },
  {
   "cell_type": "markdown",
   "id": "9ffd9f16",
   "metadata": {},
   "source": [
    "* 시험 데이터로 예측"
   ]
  },
  {
   "cell_type": "code",
   "execution_count": 54,
   "id": "82c7203b",
   "metadata": {},
   "outputs": [],
   "source": [
    "predict_prob = model.predict(test_images)"
   ]
  },
  {
   "cell_type": "code",
   "execution_count": 55,
   "id": "03a5b2a1",
   "metadata": {},
   "outputs": [
    {
     "data": {
      "text/plain": [
       "(10000, 10)"
      ]
     },
     "execution_count": 55,
     "metadata": {},
     "output_type": "execute_result"
    }
   ],
   "source": [
    "predict_prob.shape"
   ]
  },
  {
   "cell_type": "code",
   "execution_count": 58,
   "id": "e66de2c1",
   "metadata": {},
   "outputs": [
    {
     "data": {
      "text/plain": [
       "array([7.04382110e-05, 1.12267787e-06, 1.60548036e-04, 1.10466708e-03,\n",
       "       5.24172606e-07, 9.74676077e-05, 5.62731683e-09, 9.98276353e-01,\n",
       "       1.51681825e-05, 2.73695623e-04], dtype=float32)"
      ]
     },
     "execution_count": 58,
     "metadata": {},
     "output_type": "execute_result"
    }
   ],
   "source": [
    "predict_prob[0]"
   ]
  },
  {
   "cell_type": "code",
   "execution_count": 59,
   "id": "c9bae0a5",
   "metadata": {},
   "outputs": [
    {
     "data": {
      "text/plain": [
       "(10000, 28, 28)"
      ]
     },
     "execution_count": 59,
     "metadata": {},
     "output_type": "execute_result"
    }
   ],
   "source": [
    "test_images.shape"
   ]
  },
  {
   "cell_type": "code",
   "execution_count": 64,
   "id": "d2d2dc5c",
   "metadata": {},
   "outputs": [],
   "source": [
    "test0_predict_prob = model.predict(np.reshape(test_images[0] , (-1, 28, 28)))"
   ]
  },
  {
   "cell_type": "code",
   "execution_count": 65,
   "id": "a43b3f66",
   "metadata": {},
   "outputs": [
    {
     "data": {
      "text/plain": [
       "array([[7.0438138e-05, 1.1226767e-06, 1.6054788e-04, 1.1046660e-03,\n",
       "        5.2417209e-07, 9.7467513e-05, 5.6273062e-09, 9.9827635e-01,\n",
       "        1.5168154e-05, 2.7369510e-04]], dtype=float32)"
      ]
     },
     "execution_count": 65,
     "metadata": {},
     "output_type": "execute_result"
    }
   ],
   "source": [
    "test0_predict_prob"
   ]
  },
  {
   "cell_type": "markdown",
   "id": "9aadc877",
   "metadata": {},
   "source": [
    "* 참고 predict 안에 3차원 데이터 넣기"
   ]
  },
  {
   "cell_type": "code",
   "execution_count": 67,
   "id": "664d2609",
   "metadata": {},
   "outputs": [
    {
     "data": {
      "text/plain": [
       "(1, 28, 28)"
      ]
     },
     "execution_count": 67,
     "metadata": {},
     "output_type": "execute_result"
    }
   ],
   "source": [
    "# option 1\n",
    "np.reshape(test_images[0] , (-1, 28, 28)).shape"
   ]
  },
  {
   "cell_type": "code",
   "execution_count": 68,
   "id": "7a150e99",
   "metadata": {},
   "outputs": [
    {
     "data": {
      "text/plain": [
       "(1, 28, 28)"
      ]
     },
     "execution_count": 68,
     "metadata": {},
     "output_type": "execute_result"
    }
   ],
   "source": [
    "# option 2\n",
    "np.expand_dims(test_images[0], axis=0).shape"
   ]
  },
  {
   "cell_type": "code",
   "execution_count": null,
   "id": "17fac4f8",
   "metadata": {},
   "outputs": [],
   "source": [
    "# 1. model.compile \n",
    "# 2. model.fit\n",
    "# 3. model.predict\n",
    "# 4. model.evaluate"
   ]
  },
  {
   "cell_type": "markdown",
   "id": "9a933e2c",
   "metadata": {},
   "source": [
    "* 시험데이터로 모델 성능 검증"
   ]
  },
  {
   "cell_type": "code",
   "execution_count": 69,
   "id": "6bb01006",
   "metadata": {},
   "outputs": [
    {
     "name": "stdout",
     "output_type": "stream",
     "text": [
      "100/100 [==============================] - 0s 1ms/step - loss: 0.1767 - accuracy: 0.9475\n"
     ]
    },
    {
     "data": {
      "text/plain": [
       "[0.1767309010028839, 0.9474999904632568]"
      ]
     },
     "execution_count": 69,
     "metadata": {},
     "output_type": "execute_result"
    }
   ],
   "source": [
    "model.evaluate(test_images, test_oh_labels, batch_size=100)"
   ]
  },
  {
   "cell_type": "code",
   "execution_count": null,
   "id": "4bdab4d1",
   "metadata": {},
   "outputs": [],
   "source": []
  },
  {
   "cell_type": "code",
   "execution_count": 74,
   "id": "157bf155",
   "metadata": {},
   "outputs": [
    {
     "data": {
      "text/plain": [
       "[<matplotlib.lines.Line2D at 0x198d7ba8d30>]"
      ]
     },
     "execution_count": 74,
     "metadata": {},
     "output_type": "execute_result"
    },
    {
     "data": {
      "image/png": "[encoded data removed]",
      "text/plain": [
       "<Figure size 432x288 with 1 Axes>"
      ]
     },
     "metadata": {
      "needs_background": "light"
     },
     "output_type": "display_data"
    }
   ],
   "source": [
    "plt.plot(history.history[\"accuracy\"], label = \"train\")\n",
    "plt.plot(history.history[\"val_accuracy\"], label = \"valid\")"
   ]
  },
  {
   "cell_type": "markdown",
   "id": "9b2cf3c1",
   "metadata": {},
   "source": [
    "## Fashion MNIST Dataset 신경망 훈련"
   ]
  },
  {
   "cell_type": "code",
   "execution_count": 75,
   "id": "82961e3d",
   "metadata": {},
   "outputs": [],
   "source": [
    "from tensorflow.keras.datasets import fashion_mnist"
   ]
  },
  {
   "cell_type": "markdown",
   "id": "8f64e9a5",
   "metadata": {},
   "source": [
    "* 데이터 적재"
   ]
  },
  {
   "cell_type": "code",
   "execution_count": 113,
   "id": "c398d66b",
   "metadata": {},
   "outputs": [],
   "source": [
    "(train_images, train_labels), (test_images, test_labels) = fashion_mnist.load_data()"
   ]
  },
  {
   "cell_type": "code",
   "execution_count": 78,
   "id": "918af82b",
   "metadata": {},
   "outputs": [
    {
     "data": {
      "text/plain": [
       "(60000, 28, 28)"
      ]
     },
     "execution_count": 78,
     "metadata": {},
     "output_type": "execute_result"
    }
   ],
   "source": [
    "train_images.shape"
   ]
  },
  {
   "cell_type": "code",
   "execution_count": 79,
   "id": "574ce97f",
   "metadata": {},
   "outputs": [
    {
     "data": {
      "text/plain": [
       "(10000, 28, 28)"
      ]
     },
     "execution_count": 79,
     "metadata": {},
     "output_type": "execute_result"
    }
   ],
   "source": [
    "test_images.shape"
   ]
  },
  {
   "cell_type": "markdown",
   "id": "f7b35400",
   "metadata": {},
   "source": [
    "* 데이터 시각화"
   ]
  },
  {
   "cell_type": "code",
   "execution_count": 77,
   "id": "f7ff6d5e",
   "metadata": {},
   "outputs": [
    {
     "data": {
      "text/plain": [
       "<matplotlib.image.AxesImage at 0x198d7c14280>"
      ]
     },
     "execution_count": 77,
     "metadata": {},
     "output_type": "execute_result"
    },
    {
     "data": {
      "image/png": "[encoded data removed]",
      "text/plain": [
       "<Figure size 432x288 with 1 Axes>"
      ]
     },
     "metadata": {
      "needs_background": "light"
     },
     "output_type": "display_data"
    }
   ],
   "source": [
    "plt.imshow(train_images[0], cmap=\"gray\")"
   ]
  },
  {
   "cell_type": "code",
   "execution_count": 81,
   "id": "2bd8c6f8",
   "metadata": {},
   "outputs": [
    {
     "data": {
      "image/png": "[encoded data removed]",
      "text/plain": [
       "<Figure size 1584x432 with 8 Axes>"
      ]
     },
     "metadata": {
      "needs_background": "light"
     },
     "output_type": "display_data"
    }
   ],
   "source": [
    "figure, axes = plt.subplots(figsize=(22, 6), nrows=1, ncols=8)\n",
    "for i in range(8):\n",
    "    axes[i].imshow(train_images[i], cmap=\"gray\")"
   ]
  },
  {
   "cell_type": "markdown",
   "id": "3121bf4e",
   "metadata": {},
   "source": [
    "* 데이터 전처리"
   ]
  },
  {
   "cell_type": "code",
   "execution_count": 114,
   "id": "e4899946",
   "metadata": {},
   "outputs": [],
   "source": [
    "train_images = np.array(train_images/255.0, dtype=np.float32)\n",
    "train_labels = np.array(train_labels, dtype=np.float32)"
   ]
  },
  {
   "cell_type": "code",
   "execution_count": 115,
   "id": "cccea9c0",
   "metadata": {},
   "outputs": [],
   "source": [
    "test_images = np.array(test_images/255.0, dtype=np.float32)\n",
    "test_labels = np.array(test_labels, dtype=np.float32)"
   ]
  },
  {
   "cell_type": "markdown",
   "id": "00e5e80d",
   "metadata": {},
   "source": [
    "* 모델 생성"
   ]
  },
  {
   "cell_type": "code",
   "execution_count": 116,
   "id": "99e1a429",
   "metadata": {},
   "outputs": [
    {
     "name": "stdout",
     "output_type": "stream",
     "text": [
      "Model: \"sequential_10\"\n",
      "_________________________________________________________________\n",
      "Layer (type)                 Output Shape              Param #   \n",
      "=================================================================\n",
      "flatten_12 (Flatten)         (None, 784)               0         \n",
      "_________________________________________________________________\n",
      "dense_25 (Dense)             (None, 50)                39250     \n",
      "_________________________________________________________________\n",
      "dense_26 (Dense)             (None, 10)                510       \n",
      "=================================================================\n",
      "Total params: 39,760\n",
      "Trainable params: 39,760\n",
      "Non-trainable params: 0\n",
      "_________________________________________________________________\n"
     ]
    }
   ],
   "source": [
    "model = Sequential([\n",
    "    Flatten(input_shape=(28,28)),\n",
    "    Dense(50, activation='sigmoid'),\n",
    "    Dense(10, activation='softmax')\n",
    "])\n",
    "\n",
    "model.summary()"
   ]
  },
  {
   "cell_type": "markdown",
   "id": "31729171",
   "metadata": {},
   "source": [
    "* 모델 학습(loss, optimizer 설정)"
   ]
  },
  {
   "cell_type": "code",
   "execution_count": 109,
   "id": "a531d86c",
   "metadata": {},
   "outputs": [],
   "source": [
    "from tensorflow.keras.optimizers import Adam"
   ]
  },
  {
   "cell_type": "code",
   "execution_count": 117,
   "id": "20d4c295",
   "metadata": {},
   "outputs": [],
   "source": [
    "model.compile(optimizer=SGD(0.1), loss='categorical_crossentropy', metrics=['accuracy'])"
   ]
  },
  {
   "cell_type": "code",
   "execution_count": 118,
   "id": "15932bdc",
   "metadata": {},
   "outputs": [],
   "source": [
    "train_oh_labels = to_categorical(train_labels)\n",
    "test_oh_labels = to_categorical(test_labels)"
   ]
  },
  {
   "cell_type": "code",
   "execution_count": 119,
   "id": "b88a88db",
   "metadata": {
    "scrolled": true
   },
   "outputs": [
    {
     "name": "stdout",
     "output_type": "stream",
     "text": [
      "Epoch 1/17\n",
      "480/480 [==============================] - 1s 2ms/step - loss: 1.0280 - accuracy: 0.7081 - val_loss: 0.6907 - val_accuracy: 0.7673\n",
      "Epoch 2/17\n",
      "480/480 [==============================] - 1s 1ms/step - loss: 0.6245 - accuracy: 0.7905 - val_loss: 0.5709 - val_accuracy: 0.7995\n",
      "Epoch 3/17\n",
      "480/480 [==============================] - 1s 1ms/step - loss: 0.5422 - accuracy: 0.8145 - val_loss: 0.5171 - val_accuracy: 0.8167\n",
      "Epoch 4/17\n",
      "480/480 [==============================] - 1s 1ms/step - loss: 0.5008 - accuracy: 0.8277 - val_loss: 0.4869 - val_accuracy: 0.8280\n",
      "Epoch 5/17\n",
      "480/480 [==============================] - 1s 1ms/step - loss: 0.4744 - accuracy: 0.8357 - val_loss: 0.4653 - val_accuracy: 0.8349\n",
      "Epoch 6/17\n",
      "480/480 [==============================] - 1s 2ms/step - loss: 0.4562 - accuracy: 0.8396 - val_loss: 0.4546 - val_accuracy: 0.8369\n",
      "Epoch 7/17\n",
      "480/480 [==============================] - 1s 2ms/step - loss: 0.4418 - accuracy: 0.8456 - val_loss: 0.4420 - val_accuracy: 0.8405\n",
      "Epoch 8/17\n",
      "480/480 [==============================] - 1s 2ms/step - loss: 0.4302 - accuracy: 0.8488 - val_loss: 0.4303 - val_accuracy: 0.8460\n",
      "Epoch 9/17\n",
      "480/480 [==============================] - 1s 2ms/step - loss: 0.4213 - accuracy: 0.8506 - val_loss: 0.4258 - val_accuracy: 0.8469\n",
      "Epoch 10/17\n",
      "480/480 [==============================] - 1s 2ms/step - loss: 0.4122 - accuracy: 0.8547 - val_loss: 0.4172 - val_accuracy: 0.8495\n",
      "Epoch 11/17\n",
      "480/480 [==============================] - 1s 2ms/step - loss: 0.4048 - accuracy: 0.8564 - val_loss: 0.4117 - val_accuracy: 0.8542\n",
      "Epoch 12/17\n",
      "480/480 [==============================] - 1s 1ms/step - loss: 0.3986 - accuracy: 0.8593 - val_loss: 0.4053 - val_accuracy: 0.8557\n",
      "Epoch 13/17\n",
      "480/480 [==============================] - 1s 1ms/step - loss: 0.3924 - accuracy: 0.8617 - val_loss: 0.4062 - val_accuracy: 0.8550\n",
      "Epoch 14/17\n",
      "480/480 [==============================] - 1s 2ms/step - loss: 0.3867 - accuracy: 0.8630 - val_loss: 0.3976 - val_accuracy: 0.8572\n",
      "Epoch 15/17\n",
      "480/480 [==============================] - 1s 1ms/step - loss: 0.3827 - accuracy: 0.8648 - val_loss: 0.3965 - val_accuracy: 0.8591\n",
      "Epoch 16/17\n",
      "480/480 [==============================] - 1s 2ms/step - loss: 0.3776 - accuracy: 0.8663 - val_loss: 0.3964 - val_accuracy: 0.8581\n",
      "Epoch 17/17\n",
      "480/480 [==============================] - 1s 1ms/step - loss: 0.3733 - accuracy: 0.8678 - val_loss: 0.3882 - val_accuracy: 0.8596\n"
     ]
    }
   ],
   "source": [
    "history = model.fit(x=train_images, y=train_oh_labels, validation_split=0.2, batch_size=100, epochs=17, verbose=1)"
   ]
  },
  {
   "cell_type": "markdown",
   "id": "39695cae",
   "metadata": {},
   "source": [
    "* 시험데이터로 예측"
   ]
  },
  {
   "cell_type": "code",
   "execution_count": 120,
   "id": "e6c7a2c4",
   "metadata": {},
   "outputs": [],
   "source": [
    "predict_prob = model.predict(test_images) "
   ]
  },
  {
   "cell_type": "code",
   "execution_count": 121,
   "id": "01bc9279",
   "metadata": {},
   "outputs": [
    {
     "data": {
      "text/plain": [
       "array([1.01758524e-04, 2.30057940e-05, 2.28407313e-04, 1.43458179e-04,\n",
       "       8.11273421e-05, 7.52789080e-02, 3.62706283e-04, 1.77370533e-01,\n",
       "       6.07782090e-03, 7.40332365e-01], dtype=float32)"
      ]
     },
     "execution_count": 121,
     "metadata": {},
     "output_type": "execute_result"
    }
   ],
   "source": [
    "predict_prob[0]"
   ]
  },
  {
   "cell_type": "markdown",
   "id": "7d984691",
   "metadata": {},
   "source": [
    "* 시험 데이터로 평가"
   ]
  },
  {
   "cell_type": "code",
   "execution_count": 122,
   "id": "fa77f75b",
   "metadata": {},
   "outputs": [
    {
     "name": "stdout",
     "output_type": "stream",
     "text": [
      "100/100 [==============================] - 0s 1ms/step - loss: 0.4168 - accuracy: 0.8522\n"
     ]
    },
    {
     "data": {
      "text/plain": [
       "[0.41678178310394287, 0.8521999716758728]"
      ]
     },
     "execution_count": 122,
     "metadata": {},
     "output_type": "execute_result"
    }
   ],
   "source": [
    "model.evaluate(test_images, test_oh_labels, batch_size=100)"
   ]
  },
  {
   "cell_type": "code",
   "execution_count": null,
   "id": "91620e91",
   "metadata": {},
   "outputs": [],
   "source": []
  }
 ],
 "metadata": {
  "kernelspec": {
   "display_name": "Python 3",
   "language": "python",
   "name": "python3"
  },
  "language_info": {
   "codemirror_mode": {
    "name": "ipython",
    "version": 3
   },
   "file_extension": ".py",
   "mimetype": "text/x-python",
   "name": "python",
   "nbconvert_exporter": "python",
   "pygments_lexer": "ipython3",
   "version": "3.8.8"
  }
 },
 "nbformat": 4,
 "nbformat_minor": 5
}
