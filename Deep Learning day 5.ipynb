{
 "cells": [
  {
   "cell_type": "markdown",
   "id": "98678b12",
   "metadata": {},
   "source": [
    "## Fashin MNIST Dataset 신경망 훈련"
   ]
  },
  {
   "cell_type": "code",
   "execution_count": 1,
   "id": "594aca62",
   "metadata": {},
   "outputs": [],
   "source": [
    "from tensorflow.keras.datasets import fashion_mnist"
   ]
  },
  {
   "cell_type": "code",
   "execution_count": 2,
   "id": "893b2a59",
   "metadata": {},
   "outputs": [],
   "source": [
    "import matplotlib.pyplot as plt\n",
    "import numpy as np"
   ]
  },
  {
   "cell_type": "code",
   "execution_count": 3,
   "id": "843b8b51",
   "metadata": {},
   "outputs": [],
   "source": [
    "from tensorflow.keras.utils import to_categorical"
   ]
  },
  {
   "cell_type": "code",
   "execution_count": 26,
   "id": "ac245375",
   "metadata": {},
   "outputs": [],
   "source": [
    "import tensorflow as tf"
   ]
  },
  {
   "cell_type": "code",
   "execution_count": 28,
   "id": "46b48b5f",
   "metadata": {},
   "outputs": [],
   "source": [
    "np.random.seed(42)\n",
    "tf.random.set_seed(42)"
   ]
  },
  {
   "cell_type": "code",
   "execution_count": 4,
   "id": "cb976058",
   "metadata": {},
   "outputs": [],
   "source": [
    "(train_images, train_labels), (test_images, test_labels) = fashion_mnist.load_data()"
   ]
  },
  {
   "cell_type": "code",
   "execution_count": 5,
   "id": "020956bf",
   "metadata": {},
   "outputs": [],
   "source": [
    "train_images = np.array(train_images/255.0, dtype=np.float32)\n",
    "train_labels = np.array(train_labels, dtype=np.float32)\n",
    "test_images = np.array(test_images/255.0, dtype=np.float32)\n",
    "test_labels = np.array(test_labels, dtype=np.float32)\n",
    "\n",
    "train_oh_labels = to_categorical(train_labels)\n",
    "test_oh_labels = to_categorical(test_labels)"
   ]
  },
  {
   "cell_type": "markdown",
   "id": "a6068544",
   "metadata": {},
   "source": [
    "#### 모델 생성"
   ]
  },
  {
   "cell_type": "code",
   "execution_count": 6,
   "id": "58ec91c1",
   "metadata": {},
   "outputs": [],
   "source": [
    "from tensorflow.keras.models import Model\n",
    "from tensorflow.keras.layers import Input, Flatten, Dense"
   ]
  },
  {
   "cell_type": "markdown",
   "id": "116185a2",
   "metadata": {},
   "source": [
    "* 함수형 API (Functional API)"
   ]
  },
  {
   "cell_type": "code",
   "execution_count": 7,
   "id": "f10b2fc0",
   "metadata": {},
   "outputs": [],
   "source": [
    "intput_tensor = Input(shape=(28, 28))\n",
    "x = Flatten()(intput_tensor)\n",
    "x = Dense(50, activation='sigmoid')(x)\n",
    "output = Dense(10, activation='softmax')(x)\n",
    "\n",
    "model = Model(inputs=intput_tensor, outputs=output)\n"
   ]
  },
  {
   "cell_type": "code",
   "execution_count": 8,
   "id": "03a868c5",
   "metadata": {},
   "outputs": [
    {
     "name": "stdout",
     "output_type": "stream",
     "text": [
      "Model: \"functional_1\"\n",
      "_________________________________________________________________\n",
      "Layer (type)                 Output Shape              Param #   \n",
      "=================================================================\n",
      "input_1 (InputLayer)         [(None, 28, 28)]          0         \n",
      "_________________________________________________________________\n",
      "flatten (Flatten)            (None, 784)               0         \n",
      "_________________________________________________________________\n",
      "dense (Dense)                (None, 50)                39250     \n",
      "_________________________________________________________________\n",
      "dense_1 (Dense)              (None, 10)                510       \n",
      "=================================================================\n",
      "Total params: 39,760\n",
      "Trainable params: 39,760\n",
      "Non-trainable params: 0\n",
      "_________________________________________________________________\n"
     ]
    }
   ],
   "source": [
    "model.summary()"
   ]
  },
  {
   "cell_type": "code",
   "execution_count": null,
   "id": "07c7dc68",
   "metadata": {},
   "outputs": [],
   "source": [
    "# from tensorflow.keras.models Sequential\n",
    "# model = Sequential([\n",
    "#     Flatten(input_shape=(28, 28)),\n",
    "#     Dense(50, activation='sigmoid'),\n",
    "#     Dense(10, activation='softmax')    \n",
    "# ])\n",
    "# model.summary()"
   ]
  },
  {
   "cell_type": "markdown",
   "id": "13d8a2a3",
   "metadata": {},
   "source": [
    "#### 모델 컴파일 (optimizer, loss 등 설정)"
   ]
  },
  {
   "cell_type": "code",
   "execution_count": 9,
   "id": "95e70ad7",
   "metadata": {},
   "outputs": [],
   "source": [
    "from tensorflow.keras.optimizers import SGD"
   ]
  },
  {
   "cell_type": "code",
   "execution_count": 11,
   "id": "7f1258e7",
   "metadata": {},
   "outputs": [],
   "source": [
    "model.compile(optimizer=SGD(0.1), loss=\"categorical_crossentropy\", metrics=[\"accuracy\"])"
   ]
  },
  {
   "cell_type": "markdown",
   "id": "1e1482ff",
   "metadata": {},
   "source": [
    "#### 모델 학습"
   ]
  },
  {
   "cell_type": "markdown",
   "id": "914cead5",
   "metadata": {},
   "source": [
    "* Callback - ModelCheckpoint"
   ]
  },
  {
   "cell_type": "code",
   "execution_count": 44,
   "id": "43d19185",
   "metadata": {},
   "outputs": [],
   "source": [
    "from tensorflow.keras.callbacks import ModelCheckpoint, EarlyStopping, ReduceLROnPlateau"
   ]
  },
  {
   "cell_type": "code",
   "execution_count": 21,
   "id": "f3638c4d",
   "metadata": {},
   "outputs": [],
   "source": [
    "from tensorflow.keras.models import load_model"
   ]
  },
  {
   "cell_type": "code",
   "execution_count": 29,
   "id": "d67e2c75",
   "metadata": {},
   "outputs": [],
   "source": [
    "checkpoint_cb = ModelCheckpoint(\"my_keras_model.h5\", save_best_only=True, verbose=1)\n",
    "#checkpoint_cb = ModelCheckpoint(\"weights.{epoch:02d}-{val_loss:.2f}.hdf5\", save_best_only=True, verbose=1)"
   ]
  },
  {
   "cell_type": "code",
   "execution_count": 34,
   "id": "98328088",
   "metadata": {
    "collapsed": true
   },
   "outputs": [
    {
     "name": "stdout",
     "output_type": "stream",
     "text": [
      "Epoch 1/30\n",
      "366/375 [============================>.] - ETA: 0s - loss: 0.2457 - accuracy: 0.9127 ETA: 0s - loss: 0.2448 - accuracy: 0.\n",
      "Epoch 00001: val_loss improved from inf to 0.32815, saving model to weights.01-0.33.hdf5\n",
      "375/375 [==============================] - 2s 4ms/step - loss: 0.2465 - accuracy: 0.9122 - val_loss: 0.3281 - val_accuracy: 0.8827\n",
      "Epoch 2/30\n",
      "371/375 [============================>.] - ETA: 0s - loss: 0.2459 - accuracy: 0.9129\n",
      "Epoch 00002: val_loss improved from 0.32815 to 0.32627, saving model to weights.02-0.33.hdf5\n",
      "375/375 [==============================] - 3s 7ms/step - loss: 0.2456 - accuracy: 0.9130 - val_loss: 0.3263 - val_accuracy: 0.8831\n",
      "Epoch 3/30\n",
      "375/375 [==============================] - ETA: 0s - loss: 0.2450 - accuracy: 0.9131\n",
      "Epoch 00003: val_loss improved from 0.32627 to 0.32177, saving model to weights.03-0.32.hdf5\n",
      "375/375 [==============================] - 2s 6ms/step - loss: 0.2450 - accuracy: 0.9131 - val_loss: 0.3218 - val_accuracy: 0.8845\n",
      "Epoch 4/30\n",
      "372/375 [============================>.] - ETA: 0s - loss: 0.2434 - accuracy: 0.9130 ETA: 0s - loss: 0.2487 - accu - ETA: 0s - loss: - ETA: 0s - loss: 0.2440 - accuracy: 0.9128\n",
      "Epoch 00004: val_loss did not improve from 0.32177\n",
      "375/375 [==============================] - 3s 7ms/step - loss: 0.2445 - accuracy: 0.9127 - val_loss: 0.3221 - val_accuracy: 0.8846\n",
      "Epoch 5/30\n",
      "365/375 [============================>.] - ETA: 0s - loss: 0.2429 - accuracy: 0.9133\n",
      "Epoch 00005: val_loss did not improve from 0.32177\n",
      "375/375 [==============================] - 2s 6ms/step - loss: 0.2436 - accuracy: 0.9133 - val_loss: 0.3240 - val_accuracy: 0.8863\n",
      "Epoch 6/30\n",
      "372/375 [============================>.] - ETA: 0s - loss: 0.2434 - accuracy: 0.9144\n",
      "Epoch 00006: val_loss improved from 0.32177 to 0.32026, saving model to weights.06-0.32.hdf5\n",
      "375/375 [==============================] - 2s 4ms/step - loss: 0.2434 - accuracy: 0.9145 - val_loss: 0.3203 - val_accuracy: 0.8851\n",
      "Epoch 7/30\n",
      "373/375 [============================>.] - ETA: 0s - loss: 0.2426 - accuracy: 0.9148\n",
      "Epoch 00007: val_loss did not improve from 0.32026\n",
      "375/375 [==============================] - 3s 7ms/step - loss: 0.2428 - accuracy: 0.9147 - val_loss: 0.3226 - val_accuracy: 0.8851\n",
      "Epoch 8/30\n",
      "356/375 [===========================>..] - ETA: 0s - loss: 0.2434 - accuracy: 0.9134\n",
      "Epoch 00008: val_loss did not improve from 0.32026\n",
      "375/375 [==============================] - 2s 5ms/step - loss: 0.2425 - accuracy: 0.9136 - val_loss: 0.3235 - val_accuracy: 0.8852\n",
      "Epoch 9/30\n",
      "361/375 [===========================>..] - ETA: 0s - loss: 0.2399 - accuracy: 0.9161\n",
      "Epoch 00009: val_loss did not improve from 0.32026\n",
      "375/375 [==============================] - 3s 7ms/step - loss: 0.2405 - accuracy: 0.9158 - val_loss: 0.3212 - val_accuracy: 0.8855\n",
      "Epoch 10/30\n",
      "365/375 [============================>.] - ETA: 0s - loss: 0.2403 - accuracy: 0.9141 ETA: \n",
      "Epoch 00010: val_loss did not improve from 0.32026\n",
      "375/375 [==============================] - 2s 5ms/step - loss: 0.2403 - accuracy: 0.9143 - val_loss: 0.3211 - val_accuracy: 0.8863\n",
      "Epoch 11/30\n",
      "366/375 [============================>.] - ETA: 0s - loss: 0.2393 - accuracy: 0.9150\n",
      "Epoch 00011: val_loss did not improve from 0.32026\n",
      "375/375 [==============================] - 2s 6ms/step - loss: 0.2390 - accuracy: 0.9151 - val_loss: 0.3210 - val_accuracy: 0.8853\n",
      "Epoch 12/30\n",
      "375/375 [==============================] - ETA: 0s - loss: 0.2390 - accuracy: 0.9153 - ETA: 0s - loss: 0.2397 - accuracy: \n",
      "Epoch 00012: val_loss did not improve from 0.32026\n",
      "375/375 [==============================] - 2s 7ms/step - loss: 0.2390 - accuracy: 0.9153 - val_loss: 0.3214 - val_accuracy: 0.8842\n",
      "Epoch 13/30\n",
      "361/375 [===========================>..] - ETA: 0s - loss: 0.2385 - accuracy: 0.9158\n",
      "Epoch 00013: val_loss did not improve from 0.32026\n",
      "375/375 [==============================] - 2s 5ms/step - loss: 0.2376 - accuracy: 0.9165 - val_loss: 0.3263 - val_accuracy: 0.8835\n",
      "Epoch 14/30\n",
      "371/375 [============================>.] - ETA: 0s - loss: 0.2373 - accuracy: 0.9163\n",
      "Epoch 00014: val_loss did not improve from 0.32026\n",
      "375/375 [==============================] - 2s 6ms/step - loss: 0.2374 - accuracy: 0.9161 - val_loss: 0.3203 - val_accuracy: 0.8863\n",
      "Epoch 15/30\n",
      "370/375 [============================>.] - ETA: 0s - loss: 0.2362 - accuracy: 0.9157\n",
      "Epoch 00015: val_loss did not improve from 0.32026\n",
      "375/375 [==============================] - 2s 5ms/step - loss: 0.2367 - accuracy: 0.9157 - val_loss: 0.3244 - val_accuracy: 0.8840\n",
      "Epoch 16/30\n",
      "371/375 [============================>.] - ETA: 0s - loss: 0.2357 - accuracy: 0.9162\n",
      "Epoch 00016: val_loss improved from 0.32026 to 0.31961, saving model to weights.16-0.32.hdf5\n",
      "375/375 [==============================] - 2s 6ms/step - loss: 0.2355 - accuracy: 0.9162 - val_loss: 0.3196 - val_accuracy: 0.8870\n",
      "Epoch 17/30\n",
      "367/375 [============================>.] - ETA: 0s - loss: 0.2349 - accuracy: 0.9164\n",
      "Epoch 00017: val_loss did not improve from 0.31961\n",
      "375/375 [==============================] - 3s 7ms/step - loss: 0.2350 - accuracy: 0.9164 - val_loss: 0.3230 - val_accuracy: 0.8864\n",
      "Epoch 18/30\n",
      "366/375 [============================>.] - ETA: 0s - loss: 0.2345 - accuracy: 0.9159\n",
      "Epoch 00018: val_loss did not improve from 0.31961\n",
      "375/375 [==============================] - 2s 5ms/step - loss: 0.2343 - accuracy: 0.9161 - val_loss: 0.3209 - val_accuracy: 0.8853\n",
      "Epoch 19/30\n",
      "370/375 [============================>.] - ETA: 0s - loss: 0.2334 - accuracy: 0.9167\n",
      "Epoch 00019: val_loss did not improve from 0.31961\n",
      "375/375 [==============================] - 2s 5ms/step - loss: 0.2335 - accuracy: 0.9166 - val_loss: 0.3218 - val_accuracy: 0.8854\n",
      "Epoch 20/30\n",
      "367/375 [============================>.] - ETA: 0s - loss: 0.2330 - accuracy: 0.9172\n",
      "Epoch 00020: val_loss did not improve from 0.31961\n",
      "375/375 [==============================] - 2s 5ms/step - loss: 0.2329 - accuracy: 0.9174 - val_loss: 0.3321 - val_accuracy: 0.8800\n",
      "Epoch 21/30\n",
      "375/375 [==============================] - ETA: 0s - loss: 0.2327 - accuracy: 0.9172\n",
      "Epoch 00021: val_loss did not improve from 0.31961\n",
      "375/375 [==============================] - 2s 4ms/step - loss: 0.2327 - accuracy: 0.9172 - val_loss: 0.3199 - val_accuracy: 0.8867\n",
      "Epoch 22/30\n",
      "361/375 [===========================>..] - ETA: 0s - loss: 0.2310 - accuracy: 0.9182\n",
      "Epoch 00022: val_loss did not improve from 0.31961\n",
      "375/375 [==============================] - 2s 5ms/step - loss: 0.2315 - accuracy: 0.9179 - val_loss: 0.3214 - val_accuracy: 0.8852\n",
      "Epoch 23/30\n",
      "366/375 [============================>.] - ETA: 0s - loss: 0.2318 - accuracy: 0.9178\n",
      "Epoch 00023: val_loss did not improve from 0.31961\n",
      "375/375 [==============================] - 2s 5ms/step - loss: 0.2314 - accuracy: 0.9178 - val_loss: 0.3254 - val_accuracy: 0.8864\n",
      "Epoch 24/30\n",
      "364/375 [============================>.] - ETA: 0s - loss: 0.2304 - accuracy: 0.9188\n",
      "Epoch 00024: val_loss did not improve from 0.31961\n",
      "375/375 [==============================] - 2s 5ms/step - loss: 0.2308 - accuracy: 0.9185 - val_loss: 0.3202 - val_accuracy: 0.8859\n",
      "Epoch 25/30\n",
      "373/375 [============================>.] - ETA: 0s - loss: 0.2291 - accuracy: 0.9192\n",
      "Epoch 00025: val_loss improved from 0.31961 to 0.31958, saving model to weights.25-0.32.hdf5\n",
      "375/375 [==============================] - 2s 6ms/step - loss: 0.2289 - accuracy: 0.9193 - val_loss: 0.3196 - val_accuracy: 0.8868\n",
      "Epoch 26/30\n",
      "365/375 [============================>.] - ETA: 0s - loss: 0.2292 - accuracy: 0.9190\n",
      "Epoch 00026: val_loss did not improve from 0.31958\n",
      "375/375 [==============================] - 3s 7ms/step - loss: 0.2288 - accuracy: 0.9191 - val_loss: 0.3223 - val_accuracy: 0.8852\n",
      "Epoch 27/30\n",
      "371/375 [============================>.] - ETA: 0s - loss: 0.2285 - accuracy: 0.9190 ETA: 0s - loss: 0.2294 - ac\n",
      "Epoch 00027: val_loss improved from 0.31958 to 0.31946, saving model to weights.27-0.32.hdf5\n",
      "375/375 [==============================] - 2s 5ms/step - loss: 0.2286 - accuracy: 0.9190 - val_loss: 0.3195 - val_accuracy: 0.8874\n",
      "Epoch 28/30\n",
      "375/375 [==============================] - ETA: 0s - loss: 0.2279 - accuracy: 0.9192\n",
      "Epoch 00028: val_loss did not improve from 0.31946\n",
      "375/375 [==============================] - 3s 7ms/step - loss: 0.2279 - accuracy: 0.9192 - val_loss: 0.3204 - val_accuracy: 0.8851\n"
     ]
    },
    {
     "name": "stdout",
     "output_type": "stream",
     "text": [
      "Epoch 29/30\n",
      "362/375 [===========================>..] - ETA: 0s - loss: 0.2267 - accuracy: 0.9195\n",
      "Epoch 00029: val_loss did not improve from 0.31946\n",
      "375/375 [==============================] - 1s 4ms/step - loss: 0.2270 - accuracy: 0.9194 - val_loss: 0.3251 - val_accuracy: 0.8827\n",
      "Epoch 30/30\n",
      "369/375 [============================>.] - ETA: 0s - loss: 0.2267 - accuracy: 0.9200\n",
      "Epoch 00030: val_loss did not improve from 0.31946\n",
      "375/375 [==============================] - 1s 3ms/step - loss: 0.2266 - accuracy: 0.9201 - val_loss: 0.3207 - val_accuracy: 0.8861\n"
     ]
    }
   ],
   "source": [
    "history = model.fit(train_images, train_oh_labels, validation_split=0.2, batch_size=128, epochs=30, verbose=1, callbacks=[checkpoint_cb])"
   ]
  },
  {
   "cell_type": "code",
   "execution_count": 20,
   "id": "3a1ca1e2",
   "metadata": {},
   "outputs": [
    {
     "name": "stdout",
     "output_type": "stream",
     "text": [
      "79/79 [==============================] - 0s 2ms/step - loss: 0.3551 - accuracy: 0.8723\n"
     ]
    },
    {
     "data": {
      "text/plain": [
       "[0.3550724387168884, 0.8723000288009644]"
      ]
     },
     "execution_count": 20,
     "metadata": {},
     "output_type": "execute_result"
    }
   ],
   "source": [
    "model.evaluate(test_images, test_oh_labels, batch_size=128)"
   ]
  },
  {
   "cell_type": "code",
   "execution_count": 22,
   "id": "5489f848",
   "metadata": {},
   "outputs": [],
   "source": [
    "model2 = load_model(\"my_keras_model.h5\")"
   ]
  },
  {
   "cell_type": "code",
   "execution_count": 23,
   "id": "88b56204",
   "metadata": {},
   "outputs": [
    {
     "name": "stdout",
     "output_type": "stream",
     "text": [
      "79/79 [==============================] - 0s 3ms/step - loss: 0.3554 - accuracy: 0.8737\n"
     ]
    },
    {
     "data": {
      "text/plain": [
       "[0.3554283678531647, 0.8737000226974487]"
      ]
     },
     "execution_count": 23,
     "metadata": {},
     "output_type": "execute_result"
    }
   ],
   "source": [
    "model2.evaluate(test_images, test_oh_labels, batch_size=128)"
   ]
  },
  {
   "cell_type": "markdown",
   "id": "4a824d95",
   "metadata": {},
   "source": [
    "* Callback - EarlyStopping"
   ]
  },
  {
   "cell_type": "code",
   "execution_count": 51,
   "id": "0950d693",
   "metadata": {},
   "outputs": [],
   "source": [
    "early_stopping_cb = EarlyStopping(patience=30, restore_best_weights=True)"
   ]
  },
  {
   "cell_type": "code",
   "execution_count": 42,
   "id": "5a12e39a",
   "metadata": {
    "collapsed": true
   },
   "outputs": [
    {
     "name": "stdout",
     "output_type": "stream",
     "text": [
      "Epoch 1/50\n",
      "375/375 [==============================] - 2s 5ms/step - loss: 0.2130 - accuracy: 0.9255 - val_loss: 0.3271 - val_accuracy: 0.8832\n",
      "Epoch 2/50\n",
      "375/375 [==============================] - 2s 4ms/step - loss: 0.2125 - accuracy: 0.9258 - val_loss: 0.3240 - val_accuracy: 0.8839\n",
      "Epoch 3/50\n",
      "375/375 [==============================] - 2s 4ms/step - loss: 0.2122 - accuracy: 0.9265 - val_loss: 0.3196 - val_accuracy: 0.8865\n",
      "Epoch 4/50\n",
      "375/375 [==============================] - 2s 5ms/step - loss: 0.2116 - accuracy: 0.9262 - val_loss: 0.3206 - val_accuracy: 0.8853\n",
      "Epoch 5/50\n",
      "375/375 [==============================] - 2s 4ms/step - loss: 0.2112 - accuracy: 0.9258 - val_loss: 0.3220 - val_accuracy: 0.8880\n",
      "Epoch 6/50\n",
      "375/375 [==============================] - 2s 4ms/step - loss: 0.2114 - accuracy: 0.9270 - val_loss: 0.3188 - val_accuracy: 0.8860\n",
      "Epoch 7/50\n",
      "375/375 [==============================] - 2s 5ms/step - loss: 0.2109 - accuracy: 0.9266 - val_loss: 0.3223 - val_accuracy: 0.8854\n",
      "Epoch 8/50\n",
      "375/375 [==============================] - 2s 6ms/step - loss: 0.2106 - accuracy: 0.9262 - val_loss: 0.3225 - val_accuracy: 0.8877\n",
      "Epoch 9/50\n",
      "375/375 [==============================] - 2s 5ms/step - loss: 0.2086 - accuracy: 0.9274 - val_loss: 0.3208 - val_accuracy: 0.8863\n",
      "Epoch 10/50\n",
      "375/375 [==============================] - 2s 4ms/step - loss: 0.2085 - accuracy: 0.9270 - val_loss: 0.3196 - val_accuracy: 0.8886\n",
      "Epoch 11/50\n",
      "375/375 [==============================] - 2s 4ms/step - loss: 0.2075 - accuracy: 0.9271 - val_loss: 0.3200 - val_accuracy: 0.8873\n",
      "Epoch 12/50\n",
      "375/375 [==============================] - 2s 6ms/step - loss: 0.2078 - accuracy: 0.9272 - val_loss: 0.3206 - val_accuracy: 0.8856\n",
      "Epoch 13/50\n",
      "375/375 [==============================] - 2s 5ms/step - loss: 0.2065 - accuracy: 0.9284 - val_loss: 0.3262 - val_accuracy: 0.8848\n",
      "Epoch 14/50\n",
      "375/375 [==============================] - 2s 5ms/step - loss: 0.2064 - accuracy: 0.9281 - val_loss: 0.3209 - val_accuracy: 0.8871\n",
      "Epoch 15/50\n",
      "375/375 [==============================] - 2s 6ms/step - loss: 0.2059 - accuracy: 0.9279 - val_loss: 0.3232 - val_accuracy: 0.8848\n",
      "Epoch 16/50\n",
      "375/375 [==============================] - 2s 4ms/step - loss: 0.2050 - accuracy: 0.9280 - val_loss: 0.3195 - val_accuracy: 0.8885\n"
     ]
    }
   ],
   "source": [
    "history = model.fit(train_images, train_oh_labels, validation_split=0.2, batch_size=128, epochs=50, verbose=1, callbacks=[early_stopping_cb])"
   ]
  },
  {
   "cell_type": "code",
   "execution_count": 43,
   "id": "7be619bf",
   "metadata": {},
   "outputs": [
    {
     "name": "stdout",
     "output_type": "stream",
     "text": [
      "79/79 [==============================] - 0s 3ms/step - loss: 0.3415 - accuracy: 0.8781\n"
     ]
    },
    {
     "data": {
      "text/plain": [
       "[0.34154820442199707, 0.8780999779701233]"
      ]
     },
     "execution_count": 43,
     "metadata": {},
     "output_type": "execute_result"
    }
   ],
   "source": [
    "model.evaluate(test_images, test_oh_labels, batch_size=128)"
   ]
  },
  {
   "cell_type": "markdown",
   "id": "44296775",
   "metadata": {},
   "source": [
    "* Callback - ReduceLROnPlateau"
   ]
  },
  {
   "cell_type": "code",
   "execution_count": 47,
   "id": "0fd226f8",
   "metadata": {},
   "outputs": [],
   "source": [
    "reducelr_cb = ReduceLROnPlateau(verbose=1)"
   ]
  },
  {
   "cell_type": "code",
   "execution_count": 49,
   "id": "c67045e9",
   "metadata": {
    "collapsed": true
   },
   "outputs": [
    {
     "name": "stdout",
     "output_type": "stream",
     "text": [
      "Epoch 1/50\n",
      "375/375 [==============================] - 2s 5ms/step - loss: 0.2096 - accuracy: 0.9269 - val_loss: 0.3276 - val_accuracy: 0.8830\n",
      "Epoch 2/50\n",
      "375/375 [==============================] - 2s 5ms/step - loss: 0.2091 - accuracy: 0.9274 - val_loss: 0.3243 - val_accuracy: 0.8840\n",
      "Epoch 3/50\n",
      "375/375 [==============================] - 2s 5ms/step - loss: 0.2088 - accuracy: 0.9282 - val_loss: 0.3199 - val_accuracy: 0.8853\n",
      "Epoch 4/50\n",
      "375/375 [==============================] - 2s 4ms/step - loss: 0.2082 - accuracy: 0.9275 - val_loss: 0.3210 - val_accuracy: 0.8851\n",
      "Epoch 5/50\n",
      "375/375 [==============================] - 2s 5ms/step - loss: 0.2078 - accuracy: 0.9271 - val_loss: 0.3224 - val_accuracy: 0.8877\n",
      "Epoch 6/50\n",
      "375/375 [==============================] - 2s 5ms/step - loss: 0.2081 - accuracy: 0.9281 - val_loss: 0.3191 - val_accuracy: 0.8857\n",
      "Epoch 7/50\n",
      "375/375 [==============================] - 2s 5ms/step - loss: 0.2076 - accuracy: 0.9277 - val_loss: 0.3228 - val_accuracy: 0.8859\n",
      "Epoch 8/50\n",
      "375/375 [==============================] - 2s 4ms/step - loss: 0.2074 - accuracy: 0.9274 - val_loss: 0.3229 - val_accuracy: 0.8874\n",
      "Epoch 9/50\n",
      "375/375 [==============================] - 2s 4ms/step - loss: 0.2053 - accuracy: 0.9287 - val_loss: 0.3213 - val_accuracy: 0.8863\n",
      "Epoch 10/50\n",
      "375/375 [==============================] - 2s 5ms/step - loss: 0.2052 - accuracy: 0.9285 - val_loss: 0.3200 - val_accuracy: 0.8884\n",
      "Epoch 11/50\n",
      "375/375 [==============================] - 2s 5ms/step - loss: 0.2043 - accuracy: 0.9286 - val_loss: 0.3204 - val_accuracy: 0.8874\n",
      "Epoch 12/50\n",
      "375/375 [==============================] - 2s 6ms/step - loss: 0.2046 - accuracy: 0.9283 - val_loss: 0.3210 - val_accuracy: 0.8852\n",
      "Epoch 13/50\n",
      "375/375 [==============================] - 2s 6ms/step - loss: 0.2033 - accuracy: 0.9294 - val_loss: 0.3268 - val_accuracy: 0.8848\n",
      "Epoch 14/50\n",
      "375/375 [==============================] - 2s 6ms/step - loss: 0.2032 - accuracy: 0.9293 - val_loss: 0.3215 - val_accuracy: 0.8871s: 0.2022 - ac\n",
      "Epoch 15/50\n",
      "375/375 [==============================] - 2s 5ms/step - loss: 0.2027 - accuracy: 0.9294 - val_loss: 0.3236 - val_accuracy: 0.8848\n",
      "Epoch 16/50\n",
      "360/375 [===========================>..] - ETA: 0s - loss: 0.2019 - accuracy: 0.9291\n",
      "Epoch 00016: ReduceLROnPlateau reducing learning rate to 0.010000000149011612.\n",
      "375/375 [==============================] - 2s 4ms/step - loss: 0.2018 - accuracy: 0.9293 - val_loss: 0.3201 - val_accuracy: 0.8883\n",
      "Epoch 17/50\n",
      "375/375 [==============================] - 2s 5ms/step - loss: 0.1951 - accuracy: 0.9322 - val_loss: 0.3184 - val_accuracy: 0.8867\n",
      "Epoch 18/50\n",
      "375/375 [==============================] - 2s 5ms/step - loss: 0.1945 - accuracy: 0.9325 - val_loss: 0.3186 - val_accuracy: 0.8871\n",
      "Epoch 19/50\n",
      "375/375 [==============================] - 2s 6ms/step - loss: 0.1943 - accuracy: 0.9326 - val_loss: 0.3183 - val_accuracy: 0.8870\n",
      "Epoch 20/50\n",
      "375/375 [==============================] - 2s 5ms/step - loss: 0.1943 - accuracy: 0.9329 - val_loss: 0.3185 - val_accuracy: 0.8877\n",
      "Epoch 21/50\n",
      "375/375 [==============================] - 2s 5ms/step - loss: 0.1942 - accuracy: 0.9327 - val_loss: 0.3183 - val_accuracy: 0.8875\n",
      "Epoch 22/50\n",
      "375/375 [==============================] - 2s 5ms/step - loss: 0.1941 - accuracy: 0.9332 - val_loss: 0.3187 - val_accuracy: 0.8869\n",
      "Epoch 23/50\n",
      "375/375 [==============================] - 2s 5ms/step - loss: 0.1941 - accuracy: 0.9329 - val_loss: 0.3183 - val_accuracy: 0.8882\n",
      "Epoch 24/50\n",
      "375/375 [==============================] - 2s 4ms/step - loss: 0.1939 - accuracy: 0.9329 - val_loss: 0.3198 - val_accuracy: 0.8863\n",
      "Epoch 25/50\n",
      "375/375 [==============================] - 2s 5ms/step - loss: 0.1938 - accuracy: 0.9336 - val_loss: 0.3187 - val_accuracy: 0.8874\n",
      "Epoch 26/50\n",
      "375/375 [==============================] - 2s 5ms/step - loss: 0.1939 - accuracy: 0.9333 - val_loss: 0.3193 - val_accuracy: 0.8862\n",
      "Epoch 27/50\n",
      "375/375 [==============================] - 2s 5ms/step - loss: 0.1938 - accuracy: 0.9327 - val_loss: 0.3188 - val_accuracy: 0.8875\n",
      "Epoch 28/50\n",
      "375/375 [==============================] - 2s 5ms/step - loss: 0.1937 - accuracy: 0.9333 - val_loss: 0.3185 - val_accuracy: 0.8871\n",
      "Epoch 29/50\n",
      "375/375 [==============================] - 2s 4ms/step - loss: 0.1937 - accuracy: 0.9329 - val_loss: 0.3185 - val_accuracy: 0.8874\n",
      "Epoch 30/50\n",
      "375/375 [==============================] - 2s 5ms/step - loss: 0.1937 - accuracy: 0.9328 - val_loss: 0.3188 - val_accuracy: 0.8873\n",
      "Epoch 31/50\n",
      "360/375 [===========================>..] - ETA: 0s - loss: 0.1949 - accuracy: 0.9325\n",
      "Epoch 00031: ReduceLROnPlateau reducing learning rate to 0.0009999999776482583.\n",
      "375/375 [==============================] - 2s 4ms/step - loss: 0.1936 - accuracy: 0.9331 - val_loss: 0.3187 - val_accuracy: 0.8873\n",
      "Epoch 32/50\n",
      "375/375 [==============================] - 2s 4ms/step - loss: 0.1929 - accuracy: 0.9339 - val_loss: 0.3184 - val_accuracy: 0.8870\n",
      "Epoch 33/50\n",
      "375/375 [==============================] - 2s 4ms/step - loss: 0.1929 - accuracy: 0.9335 - val_loss: 0.3184 - val_accuracy: 0.8872\n",
      "Epoch 34/50\n",
      "375/375 [==============================] - 2s 4ms/step - loss: 0.1929 - accuracy: 0.9335 - val_loss: 0.3185 - val_accuracy: 0.8871\n",
      "Epoch 35/50\n",
      "375/375 [==============================] - 1s 4ms/step - loss: 0.1928 - accuracy: 0.9339 - val_loss: 0.3185 - val_accuracy: 0.8869\n",
      "Epoch 36/50\n",
      "375/375 [==============================] - 1s 4ms/step - loss: 0.1928 - accuracy: 0.9336 - val_loss: 0.3185 - val_accuracy: 0.8872\n",
      "Epoch 37/50\n",
      "375/375 [==============================] - 1s 4ms/step - loss: 0.1928 - accuracy: 0.9338 - val_loss: 0.3184 - val_accuracy: 0.8873\n",
      "Epoch 38/50\n",
      "375/375 [==============================] - 1s 4ms/step - loss: 0.1928 - accuracy: 0.9336 - val_loss: 0.3185 - val_accuracy: 0.8870\n",
      "Epoch 39/50\n",
      "375/375 [==============================] - 1s 4ms/step - loss: 0.1928 - accuracy: 0.9337 - val_loss: 0.3185 - val_accuracy: 0.8870\n",
      "Epoch 40/50\n",
      "375/375 [==============================] - 2s 4ms/step - loss: 0.1928 - accuracy: 0.9338 - val_loss: 0.3185 - val_accuracy: 0.8871\n",
      "Epoch 41/50\n",
      "366/375 [============================>.] - ETA: 0s - loss: 0.1934 - accuracy: 0.9333\n",
      "Epoch 00041: ReduceLROnPlateau reducing learning rate to 9.999999310821295e-05.\n",
      "375/375 [==============================] - 2s 4ms/step - loss: 0.1928 - accuracy: 0.9335 - val_loss: 0.3185 - val_accuracy: 0.8872\n",
      "Epoch 42/50\n",
      "375/375 [==============================] - 1s 4ms/step - loss: 0.1927 - accuracy: 0.9339 - val_loss: 0.3185 - val_accuracy: 0.8873\n",
      "Epoch 43/50\n",
      "375/375 [==============================] - 1s 4ms/step - loss: 0.1927 - accuracy: 0.9339 - val_loss: 0.3185 - val_accuracy: 0.8873\n",
      "Epoch 44/50\n",
      "375/375 [==============================] - 2s 4ms/step - loss: 0.1927 - accuracy: 0.9339 - val_loss: 0.3185 - val_accuracy: 0.8873\n",
      "Epoch 45/50\n",
      "375/375 [==============================] - 1s 4ms/step - loss: 0.1927 - accuracy: 0.9338 - val_loss: 0.3185 - val_accuracy: 0.8873\n",
      "Epoch 46/50\n",
      "375/375 [==============================] - 2s 4ms/step - loss: 0.1927 - accuracy: 0.9339 - val_loss: 0.3185 - val_accuracy: 0.8873\n",
      "Epoch 47/50\n",
      "375/375 [==============================] - 1s 4ms/step - loss: 0.1927 - accuracy: 0.9339 - val_loss: 0.3185 - val_accuracy: 0.8873\n",
      "Epoch 48/50\n",
      "375/375 [==============================] - 1s 4ms/step - loss: 0.1927 - accuracy: 0.9338 - val_loss: 0.3185 - val_accuracy: 0.8872\n",
      "Epoch 49/50\n",
      "375/375 [==============================] - 2s 4ms/step - loss: 0.1927 - accuracy: 0.9338 - val_loss: 0.3185 - val_accuracy: 0.8872\n",
      "Epoch 50/50\n",
      "375/375 [==============================] - 2s 5ms/step - loss: 0.1927 - accuracy: 0.9339 - val_loss: 0.3185 - val_accuracy: 0.8872\n"
     ]
    }
   ],
   "source": [
    "history = model.fit(train_images, train_oh_labels, validation_split=0.2, batch_size=128, epochs=50, verbose=1, callbacks=[reducelr_cb])"
   ]
  },
  {
   "cell_type": "code",
   "execution_count": 50,
   "id": "1cd98471",
   "metadata": {},
   "outputs": [
    {
     "name": "stdout",
     "output_type": "stream",
     "text": [
      "79/79 [==============================] - 0s 3ms/step - loss: 0.3407 - accuracy: 0.8798\n"
     ]
    },
    {
     "data": {
      "text/plain": [
       "[0.3406723141670227, 0.879800021648407]"
      ]
     },
     "execution_count": 50,
     "metadata": {},
     "output_type": "execute_result"
    }
   ],
   "source": [
    "model.evaluate(test_images, test_oh_labels, batch_size=128)"
   ]
  },
  {
   "cell_type": "markdown",
   "id": "4ab2c2c4",
   "metadata": {},
   "source": [
    "* Callback 조합"
   ]
  },
  {
   "cell_type": "code",
   "execution_count": 52,
   "id": "c671e2e1",
   "metadata": {},
   "outputs": [
    {
     "name": "stdout",
     "output_type": "stream",
     "text": [
      "Epoch 1/50\n",
      "365/375 [============================>.] - ETA: 0s - loss: 0.1920 - accuracy: 0.9343\n",
      "Epoch 00001: val_loss improved from 0.31943 to 0.31849, saving model to weights.01-0.32.h5\n",
      "375/375 [==============================] - 2s 5ms/step - loss: 0.1927 - accuracy: 0.9338 - val_loss: 0.3185 - val_accuracy: 0.8872\n",
      "Epoch 2/50\n",
      "370/375 [============================>.] - ETA: 0s - loss: 0.1929 - accuracy: 0.9338\n",
      "Epoch 00002: val_loss improved from 0.31849 to 0.31849, saving model to weights.02-0.32.h5\n",
      "375/375 [==============================] - 2s 6ms/step - loss: 0.1927 - accuracy: 0.9338 - val_loss: 0.3185 - val_accuracy: 0.8872\n",
      "Epoch 3/50\n",
      "375/375 [==============================] - ETA: 0s - loss: 0.1927 - accuracy: 0.9338\n",
      "Epoch 00003: val_loss did not improve from 0.31849\n",
      "375/375 [==============================] - 2s 5ms/step - loss: 0.1927 - accuracy: 0.9338 - val_loss: 0.3185 - val_accuracy: 0.8872\n",
      "Epoch 4/50\n",
      "361/375 [===========================>..] - ETA: 0s - loss: 0.1925 - accuracy: 0.9339\n",
      "Epoch 00004: val_loss did not improve from 0.31849\n",
      "375/375 [==============================] - 2s 5ms/step - loss: 0.1927 - accuracy: 0.9339 - val_loss: 0.3185 - val_accuracy: 0.8872\n",
      "Epoch 5/50\n",
      "370/375 [============================>.] - ETA: 0s - loss: 0.1925 - accuracy: 0.9338\n",
      "Epoch 00005: val_loss did not improve from 0.31849\n",
      "375/375 [==============================] - 2s 5ms/step - loss: 0.1927 - accuracy: 0.9337 - val_loss: 0.3185 - val_accuracy: 0.8872\n",
      "Epoch 6/50\n",
      "362/375 [===========================>..] - ETA: 0s - loss: 0.1927 - accuracy: 0.9339\n",
      "Epoch 00006: val_loss did not improve from 0.31849\n",
      "375/375 [==============================] - 2s 6ms/step - loss: 0.1927 - accuracy: 0.9338 - val_loss: 0.3185 - val_accuracy: 0.8872\n",
      "Epoch 7/50\n",
      "373/375 [============================>.] - ETA: 0s - loss: 0.1926 - accuracy: 0.9338\n",
      "Epoch 00007: val_loss did not improve from 0.31849\n",
      "375/375 [==============================] - 2s 5ms/step - loss: 0.1927 - accuracy: 0.9337 - val_loss: 0.3185 - val_accuracy: 0.8872\n",
      "Epoch 8/50\n",
      "367/375 [============================>.] - ETA: 0s - loss: 0.1929 - accuracy: 0.9339\n",
      "Epoch 00008: val_loss did not improve from 0.31849\n",
      "375/375 [==============================] - 2s 5ms/step - loss: 0.1927 - accuracy: 0.9339 - val_loss: 0.3185 - val_accuracy: 0.8872\n",
      "Epoch 9/50\n",
      "369/375 [============================>.] - ETA: 0s - loss: 0.1923 - accuracy: 0.9339 ETA: 0s - loss: 0.1922 - accuracy: 0.93 - ETA: 0s - loss: 0.1916 - accura\n",
      "Epoch 00009: val_loss did not improve from 0.31849\n",
      "375/375 [==============================] - 2s 4ms/step - loss: 0.1927 - accuracy: 0.9338 - val_loss: 0.3185 - val_accuracy: 0.8872\n",
      "Epoch 10/50\n",
      "358/375 [===========================>..] - ETA: 0s - loss: 0.1923 - accuracy: 0.9337\n",
      "Epoch 00010: val_loss did not improve from 0.31849\n",
      "375/375 [==============================] - 2s 4ms/step - loss: 0.1927 - accuracy: 0.9338 - val_loss: 0.3185 - val_accuracy: 0.8872\n",
      "Epoch 11/50\n",
      "366/375 [============================>.] - ETA: 0s - loss: 0.1930 - accuracy: 0.9336\n",
      "Epoch 00011: val_loss did not improve from 0.31849\n",
      "\n",
      "Epoch 00011: ReduceLROnPlateau reducing learning rate to 9.999999019782991e-06.\n",
      "375/375 [==============================] - 2s 5ms/step - loss: 0.1927 - accuracy: 0.9337 - val_loss: 0.3185 - val_accuracy: 0.8872\n",
      "Epoch 12/50\n",
      "371/375 [============================>.] - ETA: 0s - loss: 0.1927 - accuracy: 0.9337\n",
      "Epoch 00012: val_loss did not improve from 0.31849\n",
      "375/375 [==============================] - 2s 5ms/step - loss: 0.1927 - accuracy: 0.9338 - val_loss: 0.3185 - val_accuracy: 0.8872\n",
      "Epoch 13/50\n",
      "365/375 [============================>.] - ETA: 0s - loss: 0.1931 - accuracy: 0.9335\n",
      "Epoch 00013: val_loss did not improve from 0.31849\n",
      "375/375 [==============================] - 2s 5ms/step - loss: 0.1927 - accuracy: 0.9338 - val_loss: 0.3185 - val_accuracy: 0.8872\n",
      "Epoch 14/50\n",
      "370/375 [============================>.] - ETA: 0s - loss: 0.1926 - accuracy: 0.9339 ETA: 0s - loss: 0.1925 - accuracy: 0.93\n",
      "Epoch 00014: val_loss did not improve from 0.31849\n",
      "375/375 [==============================] - 2s 5ms/step - loss: 0.1927 - accuracy: 0.9338 - val_loss: 0.3185 - val_accuracy: 0.8872\n",
      "Epoch 15/50\n",
      "371/375 [============================>.] - ETA: 0s - loss: 0.1923 - accuracy: 0.9339\n",
      "Epoch 00015: val_loss did not improve from 0.31849\n",
      "375/375 [==============================] - 2s 5ms/step - loss: 0.1927 - accuracy: 0.9338 - val_loss: 0.3185 - val_accuracy: 0.8872\n",
      "Epoch 16/50\n",
      "370/375 [============================>.] - ETA: 0s - loss: 0.1928 - accuracy: 0.9337\n",
      "Epoch 00016: val_loss did not improve from 0.31849\n",
      "375/375 [==============================] - 2s 4ms/step - loss: 0.1927 - accuracy: 0.9338 - val_loss: 0.3185 - val_accuracy: 0.8872\n",
      "Epoch 17/50\n",
      "364/375 [============================>.] - ETA: 0s - loss: 0.1927 - accuracy: 0.9339\n",
      "Epoch 00017: val_loss did not improve from 0.31849\n",
      "375/375 [==============================] - 2s 5ms/step - loss: 0.1927 - accuracy: 0.9338 - val_loss: 0.3185 - val_accuracy: 0.8872\n",
      "Epoch 18/50\n",
      "365/375 [============================>.] - ETA: 0s - loss: 0.1929 - accuracy: 0.9337\n",
      "Epoch 00018: val_loss did not improve from 0.31849\n",
      "375/375 [==============================] - 2s 5ms/step - loss: 0.1927 - accuracy: 0.9338 - val_loss: 0.3185 - val_accuracy: 0.8872\n",
      "Epoch 19/50\n",
      "367/375 [============================>.] - ETA: 0s - loss: 0.1927 - accuracy: 0.9337\n",
      "Epoch 00019: val_loss did not improve from 0.31849\n",
      "375/375 [==============================] - 2s 5ms/step - loss: 0.1927 - accuracy: 0.9338 - val_loss: 0.3185 - val_accuracy: 0.8872\n",
      "Epoch 20/50\n",
      "375/375 [==============================] - ETA: 0s - loss: 0.1927 - accuracy: 0.9338\n",
      "Epoch 00020: val_loss did not improve from 0.31849\n",
      "375/375 [==============================] - 2s 5ms/step - loss: 0.1927 - accuracy: 0.9338 - val_loss: 0.3185 - val_accuracy: 0.8872\n",
      "Epoch 21/50\n",
      "373/375 [============================>.] - ETA: 0s - loss: 0.1929 - accuracy: 0.9336\n",
      "Epoch 00021: val_loss did not improve from 0.31849\n",
      "\n",
      "Epoch 00021: ReduceLROnPlateau reducing learning rate to 9.99999883788405e-07.\n",
      "375/375 [==============================] - 2s 6ms/step - loss: 0.1927 - accuracy: 0.9338 - val_loss: 0.3185 - val_accuracy: 0.8872\n",
      "Epoch 22/50\n",
      "365/375 [============================>.] - ETA: 0s - loss: 0.1926 - accuracy: 0.9340\n",
      "Epoch 00022: val_loss did not improve from 0.31849\n",
      "375/375 [==============================] - 2s 6ms/step - loss: 0.1927 - accuracy: 0.9338 - val_loss: 0.3185 - val_accuracy: 0.8872\n",
      "Epoch 23/50\n",
      "366/375 [============================>.] - ETA: 0s - loss: 0.1930 - accuracy: 0.9336\n",
      "Epoch 00023: val_loss did not improve from 0.31849\n",
      "375/375 [==============================] - 2s 5ms/step - loss: 0.1927 - accuracy: 0.9338 - val_loss: 0.3185 - val_accuracy: 0.8872\n",
      "Epoch 24/50\n",
      "370/375 [============================>.] - ETA: 0s - loss: 0.1929 - accuracy: 0.9338\n",
      "Epoch 00024: val_loss did not improve from 0.31849\n",
      "375/375 [==============================] - 2s 5ms/step - loss: 0.1927 - accuracy: 0.9338 - val_loss: 0.3185 - val_accuracy: 0.8872\n",
      "Epoch 25/50\n",
      "362/375 [===========================>..] - ETA: 0s - loss: 0.1924 - accuracy: 0.9336\n",
      "Epoch 00025: val_loss did not improve from 0.31849\n",
      "375/375 [==============================] - 2s 4ms/step - loss: 0.1927 - accuracy: 0.9338 - val_loss: 0.3185 - val_accuracy: 0.8872\n",
      "Epoch 26/50\n",
      "361/375 [===========================>..] - ETA: 0s - loss: 0.1933 - accuracy: 0.9335\n",
      "Epoch 00026: val_loss did not improve from 0.31849\n",
      "375/375 [==============================] - 2s 5ms/step - loss: 0.1927 - accuracy: 0.9338 - val_loss: 0.3185 - val_accuracy: 0.8872\n",
      "Epoch 27/50\n",
      "373/375 [============================>.] - ETA: 0s - loss: 0.1927 - accuracy: 0.9338\n",
      "Epoch 00027: val_loss did not improve from 0.31849\n",
      "375/375 [==============================] - 2s 5ms/step - loss: 0.1927 - accuracy: 0.9338 - val_loss: 0.3185 - val_accuracy: 0.8872\n",
      "Epoch 28/50\n",
      "373/375 [============================>.] - ETA: 0s - loss: 0.1929 - accuracy: 0.9337\n",
      "Epoch 00028: val_loss did not improve from 0.31849\n",
      "375/375 [==============================] - 2s 6ms/step - loss: 0.1927 - accuracy: 0.9338 - val_loss: 0.3185 - val_accuracy: 0.8872\n",
      "Epoch 29/50\n"
     ]
    },
    {
     "name": "stdout",
     "output_type": "stream",
     "text": [
      "355/375 [===========================>..] - ETA: 0s - loss: 0.1928 - accuracy: 0.9337 ETA: 0s - loss: 0.1\n",
      "Epoch 00029: val_loss did not improve from 0.31849\n",
      "375/375 [==============================] - 2s 4ms/step - loss: 0.1927 - accuracy: 0.9338 - val_loss: 0.3185 - val_accuracy: 0.8872\n",
      "Epoch 30/50\n",
      "373/375 [============================>.] - ETA: 0s - loss: 0.1928 - accuracy: 0.9337 ETA: 0s - loss: 0.1925 - \n",
      "Epoch 00030: val_loss did not improve from 0.31849\n",
      "375/375 [==============================] - 2s 5ms/step - loss: 0.1927 - accuracy: 0.9338 - val_loss: 0.3185 - val_accuracy: 0.8872\n",
      "Epoch 31/50\n",
      "373/375 [============================>.] - ETA: 0s - loss: 0.1929 - accuracy: 0.9337\n",
      "Epoch 00031: val_loss did not improve from 0.31849\n",
      "\n",
      "Epoch 00031: ReduceLROnPlateau reducing learning rate to 9.99999883788405e-08.\n",
      "375/375 [==============================] - 2s 4ms/step - loss: 0.1927 - accuracy: 0.9338 - val_loss: 0.3185 - val_accuracy: 0.8872\n",
      "Epoch 32/50\n",
      "362/375 [===========================>..] - ETA: 0s - loss: 0.1925 - accuracy: 0.9342 ETA: 0s - loss: 0.1933 - ac\n",
      "Epoch 00032: val_loss did not improve from 0.31849\n",
      "375/375 [==============================] - 2s 5ms/step - loss: 0.1927 - accuracy: 0.9338 - val_loss: 0.3185 - val_accuracy: 0.8872\n"
     ]
    }
   ],
   "source": [
    "history = model.fit(train_images, train_oh_labels, validation_split=0.2, batch_size=128, epochs=50, verbose=1, callbacks=[checkpoint_cb, early_stopping_cb, reducelr_cb])"
   ]
  },
  {
   "cell_type": "code",
   "execution_count": 53,
   "id": "d7498435",
   "metadata": {},
   "outputs": [
    {
     "name": "stdout",
     "output_type": "stream",
     "text": [
      "79/79 [==============================] - 0s 3ms/step - loss: 0.3407 - accuracy: 0.8798\n"
     ]
    },
    {
     "data": {
      "text/plain": [
       "[0.34067466855049133, 0.879800021648407]"
      ]
     },
     "execution_count": 53,
     "metadata": {},
     "output_type": "execute_result"
    }
   ],
   "source": [
    "model.evaluate(test_images, test_oh_labels, batch_size=128)"
   ]
  },
  {
   "cell_type": "markdown",
   "id": "0d5b02a5",
   "metadata": {},
   "source": [
    "#### 하이퍼 파라미터 튜닝"
   ]
  },
  {
   "cell_type": "code",
   "execution_count": 64,
   "id": "88dccd0d",
   "metadata": {},
   "outputs": [],
   "source": [
    "def build_model(n_neurons=50):\n",
    "    intput_tensor = Input(shape=(28, 28))\n",
    "    x = Flatten()(intput_tensor)\n",
    "    x = Dense(n_neurons, activation='sigmoid')(x)\n",
    "    output = Dense(10, activation='softmax')(x)\n",
    "\n",
    "    model = Model(inputs=intput_tensor, outputs=output)\n",
    "    model.compile(optimizer=SGD(0.1), loss=\"categorical_crossentropy\", metrics=[\"accuracy\"])\n",
    "    \n",
    "    return model"
   ]
  },
  {
   "cell_type": "code",
   "execution_count": 65,
   "id": "d6bd662c",
   "metadata": {},
   "outputs": [],
   "source": [
    "from tensorflow.keras.wrappers.scikit_learn import KerasClassifier, KerasRegressor"
   ]
  },
  {
   "cell_type": "code",
   "execution_count": 66,
   "id": "e0c0b529",
   "metadata": {},
   "outputs": [],
   "source": [
    "keras_clf = KerasClassifier(build_model)"
   ]
  },
  {
   "cell_type": "code",
   "execution_count": 67,
   "id": "214e8106",
   "metadata": {},
   "outputs": [],
   "source": [
    "from sklearn.model_selection import GridSearchCV, RandomizedSearchCV"
   ]
  },
  {
   "cell_type": "code",
   "execution_count": 68,
   "id": "69463fdc",
   "metadata": {},
   "outputs": [
    {
     "name": "stdout",
     "output_type": "stream",
     "text": [
      "Epoch 1/10\n",
      "250/250 [==============================] - 2s 7ms/step - loss: 1.2680 - accuracy: 0.6470 - val_loss: 0.8549 - val_accuracy: 0.7335\n",
      "Epoch 2/10\n",
      "250/250 [==============================] - 2s 8ms/step - loss: 0.7569 - accuracy: 0.7553 - val_loss: 0.6839 - val_accuracy: 0.7685\n",
      "Epoch 3/10\n",
      "250/250 [==============================] - 1s 6ms/step - loss: 0.6446 - accuracy: 0.7816 - val_loss: 0.6122 - val_accuracy: 0.7889\n",
      "Epoch 4/10\n",
      "250/250 [==============================] - 1s 5ms/step - loss: 0.5855 - accuracy: 0.8017 - val_loss: 0.5736 - val_accuracy: 0.7995\n",
      "Epoch 5/10\n",
      "250/250 [==============================] - 2s 7ms/step - loss: 0.5461 - accuracy: 0.8134 - val_loss: 0.5382 - val_accuracy: 0.8099\n",
      "Epoch 6/10\n",
      "250/250 [==============================] - 2s 7ms/step - loss: 0.5184 - accuracy: 0.8218 - val_loss: 0.5172 - val_accuracy: 0.8198\n",
      "Epoch 7/10\n",
      "250/250 [==============================] - 2s 6ms/step - loss: 0.4978 - accuracy: 0.8297 - val_loss: 0.4986 - val_accuracy: 0.8232\n",
      "Epoch 8/10\n",
      "250/250 [==============================] - 2s 6ms/step - loss: 0.4815 - accuracy: 0.8339 - val_loss: 0.4889 - val_accuracy: 0.8246\n",
      "Epoch 9/10\n",
      "250/250 [==============================] - 2s 8ms/step - loss: 0.4689 - accuracy: 0.8377 - val_loss: 0.4745 - val_accuracy: 0.8288\n",
      "Epoch 10/10\n",
      "250/250 [==============================] - 2s 8ms/step - loss: 0.4578 - accuracy: 0.8425 - val_loss: 0.4757 - val_accuracy: 0.8295\n",
      "625/625 [==============================] - 2s 3ms/step - loss: 0.4705 - accuracy: 0.8338\n",
      "Epoch 1/10\n",
      "250/250 [==============================] - 2s 6ms/step - loss: 1.2842 - accuracy: 0.6533 - val_loss: 0.8727 - val_accuracy: 0.7449\n",
      "Epoch 2/10\n",
      "250/250 [==============================] - 1s 5ms/step - loss: 0.7695 - accuracy: 0.7537 - val_loss: 0.6910 - val_accuracy: 0.7648\n",
      "Epoch 3/10\n",
      "250/250 [==============================] - 2s 8ms/step - loss: 0.6496 - accuracy: 0.7814 - val_loss: 0.6139 - val_accuracy: 0.7874\n",
      "Epoch 4/10\n",
      "250/250 [==============================] - 1s 4ms/step - loss: 0.5877 - accuracy: 0.7986 - val_loss: 0.5681 - val_accuracy: 0.8045\n",
      "Epoch 5/10\n",
      "250/250 [==============================] - 1s 5ms/step - loss: 0.5482 - accuracy: 0.8129 - val_loss: 0.5413 - val_accuracy: 0.8100\n",
      "Epoch 6/10\n",
      "250/250 [==============================] - 2s 7ms/step - loss: 0.5203 - accuracy: 0.8198 - val_loss: 0.5235 - val_accuracy: 0.8139\n",
      "Epoch 7/10\n",
      "250/250 [==============================] - 1s 6ms/step - loss: 0.5005 - accuracy: 0.8249 - val_loss: 0.5039 - val_accuracy: 0.8246\n",
      "Epoch 8/10\n",
      "250/250 [==============================] - 1s 6ms/step - loss: 0.4843 - accuracy: 0.8307 - val_loss: 0.4919 - val_accuracy: 0.8256\n",
      "Epoch 9/10\n",
      "250/250 [==============================] - 1s 6ms/step - loss: 0.4719 - accuracy: 0.8332 - val_loss: 0.4816 - val_accuracy: 0.8288\n",
      "Epoch 10/10\n",
      "250/250 [==============================] - 1s 6ms/step - loss: 0.4610 - accuracy: 0.8386 - val_loss: 0.4732 - val_accuracy: 0.8303\n",
      "625/625 [==============================] - 3s 5ms/step - loss: 0.4662 - accuracy: 0.8400: 0s - loss: 0.4670 - accuracy\n",
      "Epoch 1/10\n",
      "250/250 [==============================] - 2s 7ms/step - loss: 1.2770 - accuracy: 0.6601 - val_loss: 0.8636 - val_accuracy: 0.7498\n",
      "Epoch 2/10\n",
      "250/250 [==============================] - 1s 6ms/step - loss: 0.7604 - accuracy: 0.7529 - val_loss: 0.6867 - val_accuracy: 0.7655\n",
      "Epoch 3/10\n",
      "250/250 [==============================] - 1s 6ms/step - loss: 0.6438 - accuracy: 0.7799 - val_loss: 0.6098 - val_accuracy: 0.7930\n",
      "Epoch 4/10\n",
      "250/250 [==============================] - 1s 6ms/step - loss: 0.5832 - accuracy: 0.7996 - val_loss: 0.5646 - val_accuracy: 0.8108\n",
      "Epoch 5/10\n",
      "250/250 [==============================] - 2s 6ms/step - loss: 0.5444 - accuracy: 0.8120 - val_loss: 0.5340 - val_accuracy: 0.8198: 0s - loss:\n",
      "Epoch 6/10\n",
      "250/250 [==============================] - 1s 6ms/step - loss: 0.5172 - accuracy: 0.8219 - val_loss: 0.5176 - val_accuracy: 0.8229\n",
      "Epoch 7/10\n",
      "250/250 [==============================] - 1s 5ms/step - loss: 0.4965 - accuracy: 0.8269 - val_loss: 0.4957 - val_accuracy: 0.8328\n",
      "Epoch 8/10\n",
      "250/250 [==============================] - 2s 6ms/step - loss: 0.4804 - accuracy: 0.8320 - val_loss: 0.4861 - val_accuracy: 0.8336\n",
      "Epoch 9/10\n",
      "250/250 [==============================] - 2s 6ms/step - loss: 0.4682 - accuracy: 0.8358 - val_loss: 0.4731 - val_accuracy: 0.8411\n",
      "Epoch 10/10\n",
      "250/250 [==============================] - 2s 6ms/step - loss: 0.4570 - accuracy: 0.8391 - val_loss: 0.4658 - val_accuracy: 0.8391\n",
      "625/625 [==============================] - 2s 3ms/step - loss: 0.4626 - accuracy: 0.8360\n",
      "Epoch 1/10\n",
      "250/250 [==============================] - 1s 6ms/step - loss: 1.1791 - accuracy: 0.6773 - val_loss: 0.7885 - val_accuracy: 0.7486\n",
      "Epoch 2/10\n",
      "250/250 [==============================] - 2s 6ms/step - loss: 0.7079 - accuracy: 0.7680 - val_loss: 0.6448 - val_accuracy: 0.7795\n",
      "Epoch 3/10\n",
      "250/250 [==============================] - 2s 7ms/step - loss: 0.6128 - accuracy: 0.7924 - val_loss: 0.5853 - val_accuracy: 0.7949\n",
      "Epoch 4/10\n",
      "250/250 [==============================] - 1s 5ms/step - loss: 0.5630 - accuracy: 0.8069 - val_loss: 0.5568 - val_accuracy: 0.8039\n",
      "Epoch 5/10\n",
      "250/250 [==============================] - 1s 4ms/step - loss: 0.5306 - accuracy: 0.8183 - val_loss: 0.5252 - val_accuracy: 0.8125\n",
      "Epoch 6/10\n",
      "250/250 [==============================] - 1s 5ms/step - loss: 0.5080 - accuracy: 0.8253 - val_loss: 0.5087 - val_accuracy: 0.8220\n",
      "Epoch 7/10\n",
      "250/250 [==============================] - 2s 8ms/step - loss: 0.4908 - accuracy: 0.8311 - val_loss: 0.4916 - val_accuracy: 0.8240\n",
      "Epoch 8/10\n",
      "250/250 [==============================] - 1s 5ms/step - loss: 0.4769 - accuracy: 0.8348 - val_loss: 0.4833 - val_accuracy: 0.8248\n",
      "Epoch 9/10\n",
      "250/250 [==============================] - 1s 5ms/step - loss: 0.4663 - accuracy: 0.8385 - val_loss: 0.4707 - val_accuracy: 0.8298\n",
      "Epoch 10/10\n",
      "250/250 [==============================] - 1s 5ms/step - loss: 0.4564 - accuracy: 0.8431 - val_loss: 0.4760 - val_accuracy: 0.8286\n",
      "625/625 [==============================] - 2s 3ms/step - loss: 0.4732 - accuracy: 0.8317\n",
      "Epoch 1/10\n",
      "250/250 [==============================] - 2s 6ms/step - loss: 1.1795 - accuracy: 0.6663 - val_loss: 0.7954 - val_accuracy: 0.7516\n",
      "Epoch 2/10\n",
      "250/250 [==============================] - 1s 5ms/step - loss: 0.7123 - accuracy: 0.7617 - val_loss: 0.6527 - val_accuracy: 0.7650\n",
      "Epoch 3/10\n",
      "250/250 [==============================] - 1s 4ms/step - loss: 0.6167 - accuracy: 0.7873 - val_loss: 0.5880 - val_accuracy: 0.7924\n",
      "Epoch 4/10\n",
      "250/250 [==============================] - 1s 4ms/step - loss: 0.5658 - accuracy: 0.8043 - val_loss: 0.5498 - val_accuracy: 0.8102\n",
      "Epoch 5/10\n",
      "250/250 [==============================] - 1s 5ms/step - loss: 0.5327 - accuracy: 0.8145 - val_loss: 0.5290 - val_accuracy: 0.8124\n",
      "Epoch 6/10\n",
      "250/250 [==============================] - 1s 5ms/step - loss: 0.5090 - accuracy: 0.8225 - val_loss: 0.5147 - val_accuracy: 0.8154\n",
      "Epoch 7/10\n",
      "250/250 [==============================] - 1s 6ms/step - loss: 0.4920 - accuracy: 0.8278 - val_loss: 0.4953 - val_accuracy: 0.8250\n",
      "Epoch 8/10\n",
      "250/250 [==============================] - 2s 8ms/step - loss: 0.4782 - accuracy: 0.8314 - val_loss: 0.4846 - val_accuracy: 0.8266\n",
      "Epoch 9/10\n",
      "250/250 [==============================] - 1s 5ms/step - loss: 0.4675 - accuracy: 0.8347 - val_loss: 0.4767 - val_accuracy: 0.8290\n",
      "Epoch 10/10\n",
      "250/250 [==============================] - 1s 5ms/step - loss: 0.4582 - accuracy: 0.8387 - val_loss: 0.4678 - val_accuracy: 0.8285\n",
      "625/625 [==============================] - 2s 3ms/step - loss: 0.4634 - accuracy: 0.8401\n",
      "Epoch 1/10\n",
      "250/250 [==============================] - 1s 6ms/step - loss: 1.1669 - accuracy: 0.6822 - val_loss: 0.7851 - val_accuracy: 0.7644\n",
      "Epoch 2/10\n",
      "250/250 [==============================] - 1s 5ms/step - loss: 0.7052 - accuracy: 0.7647 - val_loss: 0.6452 - val_accuracy: 0.7768\n",
      "Epoch 3/10\n",
      "250/250 [==============================] - 1s 5ms/step - loss: 0.6108 - accuracy: 0.7904 - val_loss: 0.5820 - val_accuracy: 0.8030\n",
      "Epoch 4/10\n",
      "250/250 [==============================] - 1s 5ms/step - loss: 0.5603 - accuracy: 0.8064 - val_loss: 0.5438 - val_accuracy: 0.8142\n",
      "Epoch 5/10\n"
     ]
    },
    {
     "name": "stdout",
     "output_type": "stream",
     "text": [
      "250/250 [==============================] - 1s 4ms/step - loss: 0.5280 - accuracy: 0.8173 - val_loss: 0.5195 - val_accuracy: 0.8249\n",
      "Epoch 6/10\n",
      "250/250 [==============================] - 1s 4ms/step - loss: 0.5055 - accuracy: 0.8247 - val_loss: 0.5098 - val_accuracy: 0.8230\n",
      "Epoch 7/10\n",
      "250/250 [==============================] - 1s 4ms/step - loss: 0.4877 - accuracy: 0.8298 - val_loss: 0.4877 - val_accuracy: 0.8359\n",
      "Epoch 8/10\n",
      "250/250 [==============================] - 1s 4ms/step - loss: 0.4740 - accuracy: 0.8339 - val_loss: 0.4809 - val_accuracy: 0.8365\n",
      "Epoch 9/10\n",
      "250/250 [==============================] - 1s 4ms/step - loss: 0.4639 - accuracy: 0.8368 - val_loss: 0.4692 - val_accuracy: 0.8424\n",
      "Epoch 10/10\n",
      "250/250 [==============================] - 1s 4ms/step - loss: 0.4538 - accuracy: 0.8399 - val_loss: 0.4633 - val_accuracy: 0.8388\n",
      "625/625 [==============================] - 2s 3ms/step - loss: 0.4605 - accuracy: 0.8377\n",
      "Epoch 1/10\n",
      "375/375 [==============================] - 2s 5ms/step - loss: 1.1212 - accuracy: 0.6821 - val_loss: 0.7560 - val_accuracy: 0.7516\n",
      "Epoch 2/10\n",
      "375/375 [==============================] - 1s 3ms/step - loss: 0.6771 - accuracy: 0.7739 - val_loss: 0.6128 - val_accuracy: 0.7918\n",
      "Epoch 3/10\n",
      "375/375 [==============================] - 1s 3ms/step - loss: 0.5784 - accuracy: 0.8037 - val_loss: 0.5474 - val_accuracy: 0.8116\n",
      "Epoch 4/10\n",
      "375/375 [==============================] - 1s 3ms/step - loss: 0.5274 - accuracy: 0.8194 - val_loss: 0.5111 - val_accuracy: 0.8243\n",
      "Epoch 5/10\n",
      "375/375 [==============================] - 1s 4ms/step - loss: 0.4956 - accuracy: 0.8287 - val_loss: 0.4916 - val_accuracy: 0.8261\n",
      "Epoch 6/10\n",
      "375/375 [==============================] - 1s 4ms/step - loss: 0.4742 - accuracy: 0.8353 - val_loss: 0.4688 - val_accuracy: 0.8362\n",
      "Epoch 7/10\n",
      "375/375 [==============================] - 1s 4ms/step - loss: 0.4576 - accuracy: 0.8403 - val_loss: 0.4571 - val_accuracy: 0.8383\n",
      "Epoch 8/10\n",
      "375/375 [==============================] - 1s 4ms/step - loss: 0.4450 - accuracy: 0.8442 - val_loss: 0.4491 - val_accuracy: 0.8415\n",
      "Epoch 9/10\n",
      "375/375 [==============================] - 1s 4ms/step - loss: 0.4341 - accuracy: 0.8477 - val_loss: 0.4385 - val_accuracy: 0.8446\n",
      "Epoch 10/10\n",
      "375/375 [==============================] - 1s 4ms/step - loss: 0.4256 - accuracy: 0.8509 - val_loss: 0.4329 - val_accuracy: 0.8475\n"
     ]
    },
    {
     "data": {
      "text/plain": [
       "GridSearchCV(cv=3,\n",
       "             estimator=<tensorflow.python.keras.wrappers.scikit_learn.KerasClassifier object at 0x000001A34D02C7F0>,\n",
       "             param_grid={'n_neurons': [50, 100]})"
      ]
     },
     "execution_count": 68,
     "metadata": {},
     "output_type": "execute_result"
    }
   ],
   "source": [
    "parm_grid = {\n",
    "    \"n_neurons\" : [50, 100]\n",
    "}\n",
    "grid_search = GridSearchCV(keras_clf, parm_grid, cv=3)\n",
    "grid_search.fit(train_images, train_oh_labels, validation_split=0.2, batch_size=128, epochs=10, verbose=1)"
   ]
  },
  {
   "cell_type": "code",
   "execution_count": 69,
   "id": "06a290f5",
   "metadata": {},
   "outputs": [
    {
     "data": {
      "text/plain": [
       "{'n_neurons': 50}"
      ]
     },
     "execution_count": 69,
     "metadata": {},
     "output_type": "execute_result"
    }
   ],
   "source": [
    "grid_search.best_params_"
   ]
  },
  {
   "cell_type": "code",
   "execution_count": 70,
   "id": "619f907f",
   "metadata": {},
   "outputs": [
    {
     "data": {
      "text/plain": [
       "0.8366000056266785"
      ]
     },
     "execution_count": 70,
     "metadata": {},
     "output_type": "execute_result"
    }
   ],
   "source": [
    "grid_search.best_score_"
   ]
  },
  {
   "cell_type": "code",
   "execution_count": null,
   "id": "51107fd9",
   "metadata": {},
   "outputs": [],
   "source": []
  }
 ],
 "metadata": {
  "kernelspec": {
   "display_name": "Python 3",
   "language": "python",
   "name": "python3"
  },
  "language_info": {
   "codemirror_mode": {
    "name": "ipython",
    "version": 3
   },
   "file_extension": ".py",
   "mimetype": "text/x-python",
   "name": "python",
   "nbconvert_exporter": "python",
   "pygments_lexer": "ipython3",
   "version": "3.8.8"
  }
 },
 "nbformat": 4,
 "nbformat_minor": 5
}
