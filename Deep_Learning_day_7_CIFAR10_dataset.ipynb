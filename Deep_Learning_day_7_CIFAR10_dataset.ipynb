{
  "nbformat": 4,
  "nbformat_minor": 5,
  "metadata": {
    "accelerator": "GPU",
    "colab": {
      "name": "Deep_Learning_day_7_CIFAR10_dataset.ipynb",
      "provenance": [],
      "collapsed_sections": []
    },
    "kernelspec": {
      "display_name": "Python 3",
      "language": "python",
      "name": "python3"
    },
    "language_info": {
      "codemirror_mode": {
        "name": "ipython",
        "version": 3
      },
      "file_extension": ".py",
      "mimetype": "text/x-python",
      "name": "python",
      "nbconvert_exporter": "python",
      "pygments_lexer": "ipython3",
      "version": "3.8.8"
    }
  },
  "cells": [
    {
      "cell_type": "markdown",
      "metadata": {
        "id": "1503af5a"
      },
      "source": [
        "## CIFAR10 Dataset 신경망으로 훈련"
      ],
      "id": "1503af5a"
    },
    {
      "cell_type": "markdown",
      "metadata": {
        "id": "2ef9133d"
      },
      "source": [
        "#### imports"
      ],
      "id": "2ef9133d"
    },
    {
      "cell_type": "code",
      "metadata": {
        "id": "0955f58a"
      },
      "source": [
        "import numpy as np\n",
        "import tensorflow as tf\n",
        "from tensorflow.keras.datasets import cifar10\n",
        "import matplotlib.pyplot as plt\n",
        "\n",
        "from tensorflow.keras.utils import to_categorical\n",
        "from tensorflow.keras.models import Model\n",
        "from tensorflow.keras.layers import Input, Flatten, Dense\n",
        "from tensorflow.keras.optimizers import SGD, Adam\n",
        "from tensorflow.keras.layers import Conv2D, MaxPooling2D, Dropout, BatchNormalization, Activation, GlobalAveragePooling2D\n",
        "from tensorflow.keras.callbacks import ModelCheckpoint, ReduceLROnPlateau, EarlyStopping"
      ],
      "id": "0955f58a",
      "execution_count": 43,
      "outputs": []
    },
    {
      "cell_type": "markdown",
      "metadata": {
        "id": "cc33a3a8"
      },
      "source": [
        "#### 데이터 적재"
      ],
      "id": "cc33a3a8"
    },
    {
      "cell_type": "code",
      "metadata": {
        "id": "862efd55",
        "colab": {
          "base_uri": "https://localhost:8080/"
        },
        "outputId": "ba7da12f-819b-401b-dd6b-68196e9290de"
      },
      "source": [
        "(train_images, train_labels), (test_images, test_labels) = cifar10.load_data()"
      ],
      "id": "862efd55",
      "execution_count": 3,
      "outputs": [
        {
          "output_type": "stream",
          "name": "stdout",
          "text": [
            "Downloading data from https://www.cs.toronto.edu/~kriz/cifar-10-python.tar.gz\n",
            "170500096/170498071 [==============================] - 6s 0us/step\n",
            "170508288/170498071 [==============================] - 6s 0us/step\n"
          ]
        }
      ]
    },
    {
      "cell_type": "code",
      "metadata": {
        "colab": {
          "base_uri": "https://localhost:8080/"
        },
        "id": "1360b278",
        "outputId": "2da91a59-921a-4f3b-fde0-98b26494e530"
      },
      "source": [
        "print(train_images.shape, train_labels.shape)\n",
        "print(test_images.shape, test_labels.shape)\n",
        "print(train_images[0].shape)"
      ],
      "id": "1360b278",
      "execution_count": 4,
      "outputs": [
        {
          "output_type": "stream",
          "name": "stdout",
          "text": [
            "(50000, 32, 32, 3) (50000, 1)\n",
            "(10000, 32, 32, 3) (10000, 1)\n",
            "(32, 32, 3)\n"
          ]
        }
      ]
    },
    {
      "cell_type": "code",
      "metadata": {
        "id": "a5d3e465"
      },
      "source": [
        "class_names = [\"airplane\", \"automobile\", \"bird\", \"cat\", \"deer\", \"dog\", \"frog\", \"horse\", \"ship\", \"truck\"]"
      ],
      "id": "a5d3e465",
      "execution_count": 5,
      "outputs": []
    },
    {
      "cell_type": "code",
      "metadata": {
        "colab": {
          "base_uri": "https://localhost:8080/"
        },
        "id": "64d46dfe",
        "outputId": "d6340147-4113-4ab2-ba6a-a810a3d6cc5d"
      },
      "source": [
        "train_labels[:10]"
      ],
      "id": "64d46dfe",
      "execution_count": 6,
      "outputs": [
        {
          "output_type": "execute_result",
          "data": {
            "text/plain": [
              "array([[6],\n",
              "       [9],\n",
              "       [9],\n",
              "       [4],\n",
              "       [1],\n",
              "       [1],\n",
              "       [2],\n",
              "       [7],\n",
              "       [8],\n",
              "       [3]], dtype=uint8)"
            ]
          },
          "metadata": {},
          "execution_count": 6
        }
      ]
    },
    {
      "cell_type": "markdown",
      "metadata": {
        "id": "2f330326"
      },
      "source": [
        "#### 데이터 시각화"
      ],
      "id": "2f330326"
    },
    {
      "cell_type": "code",
      "metadata": {
        "id": "45e4fda1"
      },
      "source": [
        "train_labels = np.int32(train_labels.flatten())"
      ],
      "id": "45e4fda1",
      "execution_count": 7,
      "outputs": []
    },
    {
      "cell_type": "code",
      "metadata": {
        "colab": {
          "base_uri": "https://localhost:8080/",
          "height": 532
        },
        "id": "f8871aff",
        "outputId": "5b4050c3-403c-4b79-c91d-e3deea7b6161"
      },
      "source": [
        "figure, axes = plt.subplots(figsize=(22, 10), nrows=3, ncols=8)\n",
        "\n",
        "for i in range(3):\n",
        "    for j in range(8):\n",
        "        axes[i][j].imshow(train_images[(i*8)+j])\n",
        "        axes[i][j].set_title(class_names[train_labels[(i*8)+j]])\n"
      ],
      "id": "f8871aff",
      "execution_count": 8,
      "outputs": [
        {
          "output_type": "display_data",
          "data": {
            "image/png": "[encoded data removed]",
            "text/plain": [
              "<Figure size 1584x720 with 24 Axes>"
            ]
          },
          "metadata": {
            "needs_background": "light"
          }
        }
      ]
    },
    {
      "cell_type": "markdown",
      "metadata": {
        "id": "ed3cd541"
      },
      "source": [
        "#### 데이터 전처리"
      ],
      "id": "ed3cd541"
    },
    {
      "cell_type": "code",
      "metadata": {
        "id": "028f13ae"
      },
      "source": [
        "train_images = np.array(train_images/255.0, dtype=np.float32)\n",
        "train_labels = np.array(train_labels, dtype=np.float32)\n",
        "test_images = np.array(test_images/255.0, dtype=np.float32)\n",
        "test_labels = np.array(test_labels, dtype=np.float32)\n",
        "\n",
        "train_oh_labels = to_categorical(train_labels)\n",
        "test_oh_labels = to_categorical(test_labels)"
      ],
      "id": "028f13ae",
      "execution_count": 9,
      "outputs": []
    },
    {
      "cell_type": "code",
      "metadata": {
        "colab": {
          "base_uri": "https://localhost:8080/"
        },
        "id": "1lKJ0CGXdRQ8",
        "outputId": "7da6203a-1fb0-4b37-e321-ceaad1af7383"
      },
      "source": [
        "test_oh_labels"
      ],
      "id": "1lKJ0CGXdRQ8",
      "execution_count": 10,
      "outputs": [
        {
          "output_type": "execute_result",
          "data": {
            "text/plain": [
              "array([[0., 0., 0., ..., 0., 0., 0.],\n",
              "       [0., 0., 0., ..., 0., 1., 0.],\n",
              "       [0., 0., 0., ..., 0., 1., 0.],\n",
              "       ...,\n",
              "       [0., 0., 0., ..., 0., 0., 0.],\n",
              "       [0., 1., 0., ..., 0., 0., 0.],\n",
              "       [0., 0., 0., ..., 1., 0., 0.]], dtype=float32)"
            ]
          },
          "metadata": {},
          "execution_count": 10
        }
      ]
    },
    {
      "cell_type": "markdown",
      "metadata": {
        "id": "d8b9a4eb"
      },
      "source": [
        "#### 모델 생성"
      ],
      "id": "d8b9a4eb"
    },
    {
      "cell_type": "code",
      "metadata": {
        "id": "3SsH07w0r4MG"
      },
      "source": [
        "def build_model():\n",
        "  tf.keras.backend.clear_session()\n",
        "\n",
        "  input_tensor = Input(shape=(32, 32, 3))\n",
        "  x = Conv2D(filters=32, kernel_size=(3, 3), strides=1, padding=\"same\")(input_tensor)\n",
        "  x = BatchNormalization()(x)\n",
        "  x = Activation(\"relu\")(x)\n",
        "  x = Conv2D(filters=32, kernel_size=(3, 3), strides=1, padding=\"same\")(x)\n",
        "  x = BatchNormalization()(x)\n",
        "  x = Activation(\"relu\")(x)\n",
        "  x = MaxPooling2D(pool_size=(2, 2))(x)\n",
        "\n",
        "  x = Conv2D(filters=64, kernel_size=(3, 3), strides=1, padding=\"same\")(x)\n",
        "  x = BatchNormalization()(x)\n",
        "  x = Activation(\"relu\")(x)\n",
        "  x = Conv2D(filters=64, kernel_size=(3, 3), strides=1, padding=\"same\")(x)\n",
        "  x = BatchNormalization()(x)\n",
        "  x = Activation(\"relu\")(x)\n",
        "  x = MaxPooling2D(pool_size=(2, 2))(x)\n",
        "                  \n",
        "  x = Conv2D(filters=128, kernel_size=(3, 3), strides=1, padding=\"same\")(x)\n",
        "  x = BatchNormalization()(x)\n",
        "  x = Activation(\"relu\")(x)\n",
        "  x = Conv2D(filters=128, kernel_size=(3, 3), strides=1, padding=\"same\")(x)\n",
        "  x = BatchNormalization()(x)\n",
        "  x = Activation(\"relu\")(x)\n",
        "  x = MaxPooling2D(pool_size=(2, 2))(x)                 \n",
        "                  \n",
        "  x = Flatten()(x)\n",
        "  x = Dropout(rate=0.5)(x)                 \n",
        "  x = Dense(300, activation=\"relu\")(x)\n",
        "  x = Dropout(rate=0.3)(x)\n",
        "  x = Dense(100, activation=\"relu\")(x)\n",
        "  x = Dropout(rate=0.3)(x)\n",
        "  output = Dense(10, activation=\"softmax\")(x)\n",
        "\n",
        "  model = Model(inputs=input_tensor, outputs=output)\n",
        "  return model\n"
      ],
      "id": "3SsH07w0r4MG",
      "execution_count": 11,
      "outputs": []
    },
    {
      "cell_type": "code",
      "metadata": {
        "id": "Pe2YzgMFt4IX"
      },
      "source": [
        "model = build_model()"
      ],
      "id": "Pe2YzgMFt4IX",
      "execution_count": 16,
      "outputs": []
    },
    {
      "cell_type": "markdown",
      "metadata": {
        "id": "f62dd488"
      },
      "source": [
        "#### 모델 컴파일"
      ],
      "id": "f62dd488"
    },
    {
      "cell_type": "code",
      "metadata": {
        "id": "23654c51"
      },
      "source": [
        "model.compile(optimizer=Adam(0.001), loss=\"categorical_crossentropy\", metrics=[\"accuracy\"])"
      ],
      "id": "23654c51",
      "execution_count": 17,
      "outputs": []
    },
    {
      "cell_type": "markdown",
      "metadata": {
        "id": "6aca4d50"
      },
      "source": [
        "#### 모델 학습"
      ],
      "id": "6aca4d50"
    },
    {
      "cell_type": "code",
      "metadata": {
        "colab": {
          "base_uri": "https://localhost:8080/"
        },
        "id": "ae3fc420",
        "outputId": "2bbb071d-ba21-4807-99e7-6e23be8c675f"
      },
      "source": [
        "batch_size = 32\n",
        "history = model.fit(x=train_images, y=train_oh_labels, batch_size = batch_size, epochs=30, validation_split=0.2)"
      ],
      "id": "ae3fc420",
      "execution_count": 19,
      "outputs": [
        {
          "output_type": "stream",
          "name": "stdout",
          "text": [
            "Epoch 1/30\n",
            "1250/1250 [==============================] - 58s 24ms/step - loss: 1.7155 - accuracy: 0.3638 - val_loss: 1.5016 - val_accuracy: 0.4403\n",
            "Epoch 2/30\n",
            "1250/1250 [==============================] - 26s 21ms/step - loss: 1.2472 - accuracy: 0.5586 - val_loss: 1.0512 - val_accuracy: 0.6155\n",
            "Epoch 3/30\n",
            "1250/1250 [==============================] - 26s 21ms/step - loss: 1.0346 - accuracy: 0.6438 - val_loss: 0.9817 - val_accuracy: 0.6552\n",
            "Epoch 4/30\n",
            "1250/1250 [==============================] - 26s 21ms/step - loss: 0.9000 - accuracy: 0.6937 - val_loss: 0.9400 - val_accuracy: 0.6809\n",
            "Epoch 5/30\n",
            "1250/1250 [==============================] - 26s 21ms/step - loss: 0.8184 - accuracy: 0.7207 - val_loss: 0.7343 - val_accuracy: 0.7447\n",
            "Epoch 6/30\n",
            "1250/1250 [==============================] - 26s 21ms/step - loss: 0.7414 - accuracy: 0.7515 - val_loss: 0.7432 - val_accuracy: 0.7463\n",
            "Epoch 7/30\n",
            "1250/1250 [==============================] - 26s 21ms/step - loss: 0.6703 - accuracy: 0.7750 - val_loss: 0.8668 - val_accuracy: 0.7133\n",
            "Epoch 8/30\n",
            "1250/1250 [==============================] - 26s 21ms/step - loss: 0.6305 - accuracy: 0.7915 - val_loss: 0.7891 - val_accuracy: 0.7423\n",
            "Epoch 9/30\n",
            "1250/1250 [==============================] - 26s 21ms/step - loss: 0.5728 - accuracy: 0.8088 - val_loss: 0.8163 - val_accuracy: 0.7435\n",
            "Epoch 10/30\n",
            "1250/1250 [==============================] - 26s 21ms/step - loss: 0.5403 - accuracy: 0.8192 - val_loss: 0.6920 - val_accuracy: 0.7665\n",
            "Epoch 11/30\n",
            "1250/1250 [==============================] - 26s 21ms/step - loss: 0.4981 - accuracy: 0.8346 - val_loss: 0.7544 - val_accuracy: 0.7571\n",
            "Epoch 12/30\n",
            "1250/1250 [==============================] - 26s 21ms/step - loss: 0.4645 - accuracy: 0.8453 - val_loss: 0.5526 - val_accuracy: 0.8186\n",
            "Epoch 13/30\n",
            "1250/1250 [==============================] - 26s 21ms/step - loss: 0.4379 - accuracy: 0.8540 - val_loss: 0.7270 - val_accuracy: 0.7592\n",
            "Epoch 14/30\n",
            "1250/1250 [==============================] - 26s 20ms/step - loss: 0.4110 - accuracy: 0.8624 - val_loss: 0.6688 - val_accuracy: 0.7872\n",
            "Epoch 15/30\n",
            "1250/1250 [==============================] - 26s 21ms/step - loss: 0.3858 - accuracy: 0.8714 - val_loss: 0.6721 - val_accuracy: 0.7901\n",
            "Epoch 16/30\n",
            "1250/1250 [==============================] - 26s 21ms/step - loss: 0.3684 - accuracy: 0.8782 - val_loss: 0.6161 - val_accuracy: 0.8136\n",
            "Epoch 17/30\n",
            "1250/1250 [==============================] - 26s 21ms/step - loss: 0.3441 - accuracy: 0.8842 - val_loss: 0.6608 - val_accuracy: 0.7985\n",
            "Epoch 18/30\n",
            "1250/1250 [==============================] - 26s 21ms/step - loss: 0.3275 - accuracy: 0.8897 - val_loss: 0.6437 - val_accuracy: 0.8024\n",
            "Epoch 19/30\n",
            "1250/1250 [==============================] - 26s 21ms/step - loss: 0.3172 - accuracy: 0.8950 - val_loss: 0.6624 - val_accuracy: 0.8087\n",
            "Epoch 20/30\n",
            "1250/1250 [==============================] - 26s 21ms/step - loss: 0.2923 - accuracy: 0.9019 - val_loss: 0.5486 - val_accuracy: 0.8332\n",
            "Epoch 21/30\n",
            "1250/1250 [==============================] - 26s 21ms/step - loss: 0.2845 - accuracy: 0.9068 - val_loss: 0.6702 - val_accuracy: 0.8041\n",
            "Epoch 22/30\n",
            "1250/1250 [==============================] - 26s 21ms/step - loss: 0.2702 - accuracy: 0.9087 - val_loss: 0.7007 - val_accuracy: 0.8002\n",
            "Epoch 23/30\n",
            "1250/1250 [==============================] - 26s 21ms/step - loss: 0.2590 - accuracy: 0.9139 - val_loss: 0.7227 - val_accuracy: 0.8109\n",
            "Epoch 24/30\n",
            "1250/1250 [==============================] - 26s 21ms/step - loss: 0.2468 - accuracy: 0.9169 - val_loss: 0.6479 - val_accuracy: 0.8093\n",
            "Epoch 25/30\n",
            "1250/1250 [==============================] - 26s 21ms/step - loss: 0.2339 - accuracy: 0.9213 - val_loss: 0.7285 - val_accuracy: 0.8013\n",
            "Epoch 26/30\n",
            "1250/1250 [==============================] - 26s 21ms/step - loss: 0.2267 - accuracy: 0.9271 - val_loss: 0.6021 - val_accuracy: 0.8256\n",
            "Epoch 27/30\n",
            "1250/1250 [==============================] - 26s 21ms/step - loss: 0.2175 - accuracy: 0.9273 - val_loss: 0.5780 - val_accuracy: 0.8340\n",
            "Epoch 28/30\n",
            "1250/1250 [==============================] - 26s 21ms/step - loss: 0.2020 - accuracy: 0.9330 - val_loss: 0.6194 - val_accuracy: 0.8256\n",
            "Epoch 29/30\n",
            "1250/1250 [==============================] - 26s 21ms/step - loss: 0.1978 - accuracy: 0.9340 - val_loss: 0.6877 - val_accuracy: 0.8298\n",
            "Epoch 30/30\n",
            "1250/1250 [==============================] - 26s 21ms/step - loss: 0.1994 - accuracy: 0.9324 - val_loss: 0.6958 - val_accuracy: 0.8185\n"
          ]
        }
      ]
    },
    {
      "cell_type": "code",
      "metadata": {
        "colab": {
          "base_uri": "https://localhost:8080/",
          "height": 284
        },
        "id": "jmEJWVEN1RX7",
        "outputId": "6cb9360b-ba6e-4675-b431-51688bf9eee0"
      },
      "source": [
        "plt.plot(history.history[\"accuracy\"], label=\"train\" )\n",
        "plt.plot(history.history[\"val_accuracy\"], label=\"valid\" )\n",
        "plt.legend()"
      ],
      "id": "jmEJWVEN1RX7",
      "execution_count": 20,
      "outputs": [
        {
          "output_type": "execute_result",
          "data": {
            "text/plain": [
              "<matplotlib.legend.Legend at 0x7fec37cc9250>"
            ]
          },
          "metadata": {},
          "execution_count": 20
        },
        {
          "output_type": "display_data",
          "data": {
            "image/png": "[encoded data removed]",
            "text/plain": [
              "<Figure size 432x288 with 1 Axes>"
            ]
          },
          "metadata": {
            "needs_background": "light"
          }
        }
      ]
    },
    {
      "cell_type": "markdown",
      "metadata": {
        "id": "5a9b1c32"
      },
      "source": [
        "#### 테스트 데이터에서 검증"
      ],
      "id": "5a9b1c32"
    },
    {
      "cell_type": "code",
      "metadata": {
        "colab": {
          "base_uri": "https://localhost:8080/"
        },
        "id": "f86aa8ea",
        "outputId": "cb2f1e46-c7a8-4b73-d001-f888faa138ea"
      },
      "source": [
        "evaluate_accuracy = model.evaluate(test_images, test_oh_labels, batch_size=batch_size, verbose=1)"
      ],
      "id": "f86aa8ea",
      "execution_count": 22,
      "outputs": [
        {
          "output_type": "stream",
          "name": "stdout",
          "text": [
            "313/313 [==============================] - 3s 9ms/step - loss: 0.7298 - accuracy: 0.8141\n"
          ]
        }
      ]
    },
    {
      "cell_type": "markdown",
      "metadata": {
        "id": "H5JMm3ZhzKpw"
      },
      "source": [
        "### Callback 적용(ModelCheckPoint, EarlyStopping, ReduceLROnPlateau)"
      ],
      "id": "H5JMm3ZhzKpw"
    },
    {
      "cell_type": "markdown",
      "metadata": {
        "id": "ozL43u6ezPk4"
      },
      "source": [
        "#### 모델 생성 및 컴파일"
      ],
      "id": "ozL43u6ezPk4"
    },
    {
      "cell_type": "code",
      "metadata": {
        "colab": {
          "base_uri": "https://localhost:8080/"
        },
        "id": "bvF7wBbhzVCb",
        "outputId": "3599a441-4399-45f2-d7dc-ccc6c4678b42"
      },
      "source": [
        "model = build_model()\n",
        "model.summary()"
      ],
      "id": "bvF7wBbhzVCb",
      "execution_count": 23,
      "outputs": [
        {
          "output_type": "stream",
          "name": "stdout",
          "text": [
            "Model: \"model\"\n",
            "_________________________________________________________________\n",
            "Layer (type)                 Output Shape              Param #   \n",
            "=================================================================\n",
            "input_1 (InputLayer)         [(None, 32, 32, 3)]       0         \n",
            "_________________________________________________________________\n",
            "conv2d (Conv2D)              (None, 32, 32, 32)        896       \n",
            "_________________________________________________________________\n",
            "batch_normalization (BatchNo (None, 32, 32, 32)        128       \n",
            "_________________________________________________________________\n",
            "activation (Activation)      (None, 32, 32, 32)        0         \n",
            "_________________________________________________________________\n",
            "conv2d_1 (Conv2D)            (None, 32, 32, 32)        9248      \n",
            "_________________________________________________________________\n",
            "batch_normalization_1 (Batch (None, 32, 32, 32)        128       \n",
            "_________________________________________________________________\n",
            "activation_1 (Activation)    (None, 32, 32, 32)        0         \n",
            "_________________________________________________________________\n",
            "max_pooling2d (MaxPooling2D) (None, 16, 16, 32)        0         \n",
            "_________________________________________________________________\n",
            "conv2d_2 (Conv2D)            (None, 16, 16, 64)        18496     \n",
            "_________________________________________________________________\n",
            "batch_normalization_2 (Batch (None, 16, 16, 64)        256       \n",
            "_________________________________________________________________\n",
            "activation_2 (Activation)    (None, 16, 16, 64)        0         \n",
            "_________________________________________________________________\n",
            "conv2d_3 (Conv2D)            (None, 16, 16, 64)        36928     \n",
            "_________________________________________________________________\n",
            "batch_normalization_3 (Batch (None, 16, 16, 64)        256       \n",
            "_________________________________________________________________\n",
            "activation_3 (Activation)    (None, 16, 16, 64)        0         \n",
            "_________________________________________________________________\n",
            "max_pooling2d_1 (MaxPooling2 (None, 8, 8, 64)          0         \n",
            "_________________________________________________________________\n",
            "conv2d_4 (Conv2D)            (None, 8, 8, 128)         73856     \n",
            "_________________________________________________________________\n",
            "batch_normalization_4 (Batch (None, 8, 8, 128)         512       \n",
            "_________________________________________________________________\n",
            "activation_4 (Activation)    (None, 8, 8, 128)         0         \n",
            "_________________________________________________________________\n",
            "conv2d_5 (Conv2D)            (None, 8, 8, 128)         147584    \n",
            "_________________________________________________________________\n",
            "batch_normalization_5 (Batch (None, 8, 8, 128)         512       \n",
            "_________________________________________________________________\n",
            "activation_5 (Activation)    (None, 8, 8, 128)         0         \n",
            "_________________________________________________________________\n",
            "max_pooling2d_2 (MaxPooling2 (None, 4, 4, 128)         0         \n",
            "_________________________________________________________________\n",
            "flatten (Flatten)            (None, 2048)              0         \n",
            "_________________________________________________________________\n",
            "dropout (Dropout)            (None, 2048)              0         \n",
            "_________________________________________________________________\n",
            "dense (Dense)                (None, 300)               614700    \n",
            "_________________________________________________________________\n",
            "dropout_1 (Dropout)          (None, 300)               0         \n",
            "_________________________________________________________________\n",
            "dense_1 (Dense)              (None, 100)               30100     \n",
            "_________________________________________________________________\n",
            "dropout_2 (Dropout)          (None, 100)               0         \n",
            "_________________________________________________________________\n",
            "dense_2 (Dense)              (None, 10)                1010      \n",
            "=================================================================\n",
            "Total params: 934,610\n",
            "Trainable params: 933,714\n",
            "Non-trainable params: 896\n",
            "_________________________________________________________________\n"
          ]
        }
      ]
    },
    {
      "cell_type": "code",
      "metadata": {
        "id": "SHnY_VDtzbNy"
      },
      "source": [
        "model.compile(optimizer=Adam(0.001), loss=\"categorical_crossentropy\", metrics=[\"accuracy\"])"
      ],
      "id": "SHnY_VDtzbNy",
      "execution_count": 24,
      "outputs": []
    },
    {
      "cell_type": "markdown",
      "metadata": {
        "id": "DqxHYQaHzkkN"
      },
      "source": [
        "#### Callback 정의"
      ],
      "id": "DqxHYQaHzkkN"
    },
    {
      "cell_type": "code",
      "metadata": {
        "id": "70kx6JzYznZE"
      },
      "source": [
        "checkpoint_cb = ModelCheckpoint(\"my_keras_model.h5\", save_best_only=True, verbose=1)\n",
        "early_stopping_cb = EarlyStopping(patience=10, restore_best_weights=True)\n",
        "reducelr_cb = ReduceLROnPlateau(monitor=\"val_loss\", factor=0.2, patience=5, mode=\"min\", verbose=1)"
      ],
      "id": "70kx6JzYznZE",
      "execution_count": 28,
      "outputs": []
    },
    {
      "cell_type": "markdown",
      "metadata": {
        "id": "o3mwPide0otj"
      },
      "source": [
        "#### 모델 학습"
      ],
      "id": "o3mwPide0otj"
    },
    {
      "cell_type": "code",
      "metadata": {
        "colab": {
          "base_uri": "https://localhost:8080/"
        },
        "id": "x_v2uCAU0rcF",
        "outputId": "eb5ab1d8-3b8f-41a9-8a71-22d4ac03287f"
      },
      "source": [
        "batch_size = 32\n",
        "history = model.fit(x=train_images, y=train_oh_labels, batch_size = batch_size, epochs=40, validation_split=0.2, \n",
        "                    callbacks=[checkpoint_cb, early_stopping_cb, reducelr_cb])"
      ],
      "id": "x_v2uCAU0rcF",
      "execution_count": 29,
      "outputs": [
        {
          "output_type": "stream",
          "name": "stdout",
          "text": [
            "Epoch 1/40\n",
            "1250/1250 [==============================] - 32s 25ms/step - loss: 1.6663 - accuracy: 0.3844 - val_loss: 1.4542 - val_accuracy: 0.4628\n",
            "\n",
            "Epoch 00001: val_loss improved from inf to 1.45418, saving model to my_keras_model.h5\n",
            "Epoch 2/40\n",
            "1250/1250 [==============================] - 28s 22ms/step - loss: 1.2310 - accuracy: 0.5645 - val_loss: 1.1085 - val_accuracy: 0.6126\n",
            "\n",
            "Epoch 00002: val_loss improved from 1.45418 to 1.10846, saving model to my_keras_model.h5\n",
            "Epoch 3/40\n",
            "1250/1250 [==============================] - 28s 22ms/step - loss: 1.0336 - accuracy: 0.6461 - val_loss: 0.9541 - val_accuracy: 0.6673\n",
            "\n",
            "Epoch 00003: val_loss improved from 1.10846 to 0.95408, saving model to my_keras_model.h5\n",
            "Epoch 4/40\n",
            "1250/1250 [==============================] - 27s 21ms/step - loss: 0.8996 - accuracy: 0.6940 - val_loss: 0.7979 - val_accuracy: 0.7329\n",
            "\n",
            "Epoch 00004: val_loss improved from 0.95408 to 0.79795, saving model to my_keras_model.h5\n",
            "Epoch 5/40\n",
            "1250/1250 [==============================] - 26s 21ms/step - loss: 0.8033 - accuracy: 0.7307 - val_loss: 1.0418 - val_accuracy: 0.6532\n",
            "\n",
            "Epoch 00005: val_loss did not improve from 0.79795\n",
            "Epoch 6/40\n",
            "1250/1250 [==============================] - 26s 21ms/step - loss: 0.7354 - accuracy: 0.7497 - val_loss: 0.7277 - val_accuracy: 0.7503\n",
            "\n",
            "Epoch 00006: val_loss improved from 0.79795 to 0.72774, saving model to my_keras_model.h5\n",
            "Epoch 7/40\n",
            "1250/1250 [==============================] - 26s 21ms/step - loss: 0.6741 - accuracy: 0.7749 - val_loss: 0.7393 - val_accuracy: 0.7479\n",
            "\n",
            "Epoch 00007: val_loss did not improve from 0.72774\n",
            "Epoch 8/40\n",
            "1250/1250 [==============================] - 26s 21ms/step - loss: 0.6260 - accuracy: 0.7897 - val_loss: 0.6670 - val_accuracy: 0.7748\n",
            "\n",
            "Epoch 00008: val_loss improved from 0.72774 to 0.66701, saving model to my_keras_model.h5\n",
            "Epoch 9/40\n",
            "1250/1250 [==============================] - 26s 21ms/step - loss: 0.5721 - accuracy: 0.8102 - val_loss: 0.7466 - val_accuracy: 0.7450\n",
            "\n",
            "Epoch 00009: val_loss did not improve from 0.66701\n",
            "Epoch 10/40\n",
            "1250/1250 [==============================] - 26s 21ms/step - loss: 0.5339 - accuracy: 0.8224 - val_loss: 0.7760 - val_accuracy: 0.7438\n",
            "\n",
            "Epoch 00010: val_loss did not improve from 0.66701\n",
            "Epoch 11/40\n",
            "1250/1250 [==============================] - 26s 21ms/step - loss: 0.5010 - accuracy: 0.8364 - val_loss: 0.6011 - val_accuracy: 0.8052\n",
            "\n",
            "Epoch 00011: val_loss improved from 0.66701 to 0.60115, saving model to my_keras_model.h5\n",
            "Epoch 12/40\n",
            "1250/1250 [==============================] - 26s 21ms/step - loss: 0.4711 - accuracy: 0.8432 - val_loss: 0.5533 - val_accuracy: 0.8161\n",
            "\n",
            "Epoch 00012: val_loss improved from 0.60115 to 0.55327, saving model to my_keras_model.h5\n",
            "Epoch 13/40\n",
            "1250/1250 [==============================] - 26s 21ms/step - loss: 0.4342 - accuracy: 0.8553 - val_loss: 0.6798 - val_accuracy: 0.7764\n",
            "\n",
            "Epoch 00013: val_loss did not improve from 0.55327\n",
            "Epoch 14/40\n",
            "1250/1250 [==============================] - 26s 21ms/step - loss: 0.4109 - accuracy: 0.8668 - val_loss: 0.5865 - val_accuracy: 0.8066\n",
            "\n",
            "Epoch 00014: val_loss did not improve from 0.55327\n",
            "Epoch 15/40\n",
            "1250/1250 [==============================] - 26s 21ms/step - loss: 0.3894 - accuracy: 0.8715 - val_loss: 0.5771 - val_accuracy: 0.8114\n",
            "\n",
            "Epoch 00015: val_loss did not improve from 0.55327\n",
            "Epoch 16/40\n",
            "1250/1250 [==============================] - 26s 21ms/step - loss: 0.3592 - accuracy: 0.8819 - val_loss: 0.5703 - val_accuracy: 0.8173\n",
            "\n",
            "Epoch 00016: val_loss did not improve from 0.55327\n",
            "Epoch 17/40\n",
            "1250/1250 [==============================] - 26s 21ms/step - loss: 0.3452 - accuracy: 0.8866 - val_loss: 0.5462 - val_accuracy: 0.8268\n",
            "\n",
            "Epoch 00017: val_loss improved from 0.55327 to 0.54615, saving model to my_keras_model.h5\n",
            "Epoch 18/40\n",
            "1250/1250 [==============================] - 26s 21ms/step - loss: 0.3275 - accuracy: 0.8942 - val_loss: 0.5313 - val_accuracy: 0.8296\n",
            "\n",
            "Epoch 00018: val_loss improved from 0.54615 to 0.53128, saving model to my_keras_model.h5\n",
            "Epoch 19/40\n",
            "1250/1250 [==============================] - 26s 21ms/step - loss: 0.3109 - accuracy: 0.8960 - val_loss: 0.5931 - val_accuracy: 0.8161\n",
            "\n",
            "Epoch 00019: val_loss did not improve from 0.53128\n",
            "Epoch 20/40\n",
            "1250/1250 [==============================] - 26s 21ms/step - loss: 0.2976 - accuracy: 0.9035 - val_loss: 0.5827 - val_accuracy: 0.8216\n",
            "\n",
            "Epoch 00020: val_loss did not improve from 0.53128\n",
            "Epoch 21/40\n",
            "1250/1250 [==============================] - 26s 21ms/step - loss: 0.2803 - accuracy: 0.9077 - val_loss: 0.6104 - val_accuracy: 0.8157\n",
            "\n",
            "Epoch 00021: val_loss did not improve from 0.53128\n",
            "Epoch 22/40\n",
            "1250/1250 [==============================] - 26s 21ms/step - loss: 0.2666 - accuracy: 0.9125 - val_loss: 0.5648 - val_accuracy: 0.8285\n",
            "\n",
            "Epoch 00022: val_loss did not improve from 0.53128\n",
            "Epoch 23/40\n",
            "1250/1250 [==============================] - 26s 21ms/step - loss: 0.2601 - accuracy: 0.9144 - val_loss: 0.5800 - val_accuracy: 0.8252\n",
            "\n",
            "Epoch 00023: val_loss did not improve from 0.53128\n",
            "\n",
            "Epoch 00023: ReduceLROnPlateau reducing learning rate to 0.00020000000949949026.\n",
            "Epoch 24/40\n",
            "1250/1250 [==============================] - 26s 21ms/step - loss: 0.1734 - accuracy: 0.9431 - val_loss: 0.5098 - val_accuracy: 0.8551\n",
            "\n",
            "Epoch 00024: val_loss improved from 0.53128 to 0.50984, saving model to my_keras_model.h5\n",
            "Epoch 25/40\n",
            "1250/1250 [==============================] - 26s 21ms/step - loss: 0.1389 - accuracy: 0.9549 - val_loss: 0.5479 - val_accuracy: 0.8561\n",
            "\n",
            "Epoch 00025: val_loss did not improve from 0.50984\n",
            "Epoch 26/40\n",
            "1250/1250 [==============================] - 26s 21ms/step - loss: 0.1275 - accuracy: 0.9584 - val_loss: 0.5546 - val_accuracy: 0.8568\n",
            "\n",
            "Epoch 00026: val_loss did not improve from 0.50984\n",
            "Epoch 27/40\n",
            "1250/1250 [==============================] - 26s 21ms/step - loss: 0.1142 - accuracy: 0.9617 - val_loss: 0.5843 - val_accuracy: 0.8573\n",
            "\n",
            "Epoch 00027: val_loss did not improve from 0.50984\n",
            "Epoch 28/40\n",
            "1250/1250 [==============================] - 26s 21ms/step - loss: 0.1070 - accuracy: 0.9639 - val_loss: 0.5649 - val_accuracy: 0.8594\n",
            "\n",
            "Epoch 00028: val_loss did not improve from 0.50984\n",
            "Epoch 29/40\n",
            "1250/1250 [==============================] - 26s 21ms/step - loss: 0.0996 - accuracy: 0.9672 - val_loss: 0.5825 - val_accuracy: 0.8590\n",
            "\n",
            "Epoch 00029: val_loss did not improve from 0.50984\n",
            "\n",
            "Epoch 00029: ReduceLROnPlateau reducing learning rate to 4.0000001899898055e-05.\n",
            "Epoch 30/40\n",
            "1250/1250 [==============================] - 26s 21ms/step - loss: 0.0870 - accuracy: 0.9714 - val_loss: 0.5821 - val_accuracy: 0.8635\n",
            "\n",
            "Epoch 00030: val_loss did not improve from 0.50984\n",
            "Epoch 31/40\n",
            "1250/1250 [==============================] - 26s 21ms/step - loss: 0.0846 - accuracy: 0.9727 - val_loss: 0.5829 - val_accuracy: 0.8642\n",
            "\n",
            "Epoch 00031: val_loss did not improve from 0.50984\n",
            "Epoch 32/40\n",
            "1250/1250 [==============================] - 26s 21ms/step - loss: 0.0776 - accuracy: 0.9741 - val_loss: 0.5964 - val_accuracy: 0.8622\n",
            "\n",
            "Epoch 00032: val_loss did not improve from 0.50984\n",
            "Epoch 33/40\n",
            "1250/1250 [==============================] - 26s 21ms/step - loss: 0.0775 - accuracy: 0.9740 - val_loss: 0.6022 - val_accuracy: 0.8632\n",
            "\n",
            "Epoch 00033: val_loss did not improve from 0.50984\n",
            "Epoch 34/40\n",
            "1250/1250 [==============================] - 26s 21ms/step - loss: 0.0756 - accuracy: 0.9747 - val_loss: 0.6016 - val_accuracy: 0.8636\n",
            "\n",
            "Epoch 00034: val_loss did not improve from 0.50984\n",
            "\n",
            "Epoch 00034: ReduceLROnPlateau reducing learning rate to 8.000000525498762e-06.\n"
          ]
        }
      ]
    },
    {
      "cell_type": "code",
      "metadata": {
        "colab": {
          "base_uri": "https://localhost:8080/",
          "height": 287
        },
        "id": "rN9JW6OU1B23",
        "outputId": "45e91165-0d8f-4c7e-a323-d321ab543464"
      },
      "source": [
        "plt.plot(history.history[\"accuracy\"], label=\"train\" )\n",
        "plt.plot(history.history[\"val_accuracy\"], label=\"valid\" )\n",
        "plt.legend()"
      ],
      "id": "rN9JW6OU1B23",
      "execution_count": 30,
      "outputs": [
        {
          "output_type": "execute_result",
          "data": {
            "text/plain": [
              "<matplotlib.legend.Legend at 0x7fec39d2b610>"
            ]
          },
          "metadata": {},
          "execution_count": 30
        },
        {
          "output_type": "display_data",
          "data": {
            "image/png": "[encoded data removed]",
            "text/plain": [
              "<Figure size 432x288 with 1 Axes>"
            ]
          },
          "metadata": {
            "needs_background": "light"
          }
        }
      ]
    },
    {
      "cell_type": "code",
      "metadata": {
        "colab": {
          "base_uri": "https://localhost:8080/"
        },
        "id": "fUA6nvlF1C2E",
        "outputId": "7e317420-07dd-4a90-e853-07f9d4d3a3e6"
      },
      "source": [
        "evaluate_accuracy = model.evaluate(test_images, test_oh_labels, batch_size=batch_size, verbose=1)"
      ],
      "id": "fUA6nvlF1C2E",
      "execution_count": 31,
      "outputs": [
        {
          "output_type": "stream",
          "name": "stdout",
          "text": [
            "313/313 [==============================] - 3s 9ms/step - loss: 0.5252 - accuracy: 0.8521\n"
          ]
        }
      ]
    },
    {
      "cell_type": "markdown",
      "metadata": {
        "id": "RNrpmGqu6hfw"
      },
      "source": [
        "### 필터수, 은닉층 수 증가"
      ],
      "id": "RNrpmGqu6hfw"
    },
    {
      "cell_type": "markdown",
      "metadata": {
        "id": "y1t7-IlP60uS"
      },
      "source": [
        "#### 모델 생성"
      ],
      "id": "y1t7-IlP60uS"
    },
    {
      "cell_type": "code",
      "metadata": {
        "id": "Y3EBTh9M64hU"
      },
      "source": [
        "def build_extended_model():\n",
        "  tf.keras.backend.clear_session()\n",
        "\n",
        "  input_tensor = Input(shape=(32, 32, 3))\n",
        "  x = Conv2D(filters=32, kernel_size=(3, 3), strides=1, padding=\"same\")(input_tensor)\n",
        "  x = BatchNormalization()(x)\n",
        "  x = Activation(\"relu\")(x)\n",
        "  x = Conv2D(filters=64, kernel_size=(3, 3), strides=1, padding=\"same\")(x)\n",
        "  x = BatchNormalization()(x)\n",
        "  x = Activation(\"relu\")(x)\n",
        "  x = MaxPooling2D(pool_size=(2, 2))(x)\n",
        "\n",
        "  x = Conv2D(filters=128, kernel_size=(3, 3), strides=1, padding=\"same\")(x)\n",
        "  x = BatchNormalization()(x)\n",
        "  x = Activation(\"relu\")(x)\n",
        "  x = Conv2D(filters=128, kernel_size=(3, 3), strides=1, padding=\"same\")(x)\n",
        "  x = BatchNormalization()(x)\n",
        "  x = Activation(\"relu\")(x)\n",
        "  x = MaxPooling2D(pool_size=(2, 2))(x)\n",
        "                  \n",
        "  x = Conv2D(filters=256, kernel_size=(3, 3), strides=1, padding=\"same\")(x)\n",
        "  x = BatchNormalization()(x)\n",
        "  x = Activation(\"relu\")(x)\n",
        "  x = Conv2D(filters=256, kernel_size=(3, 3), strides=1, padding=\"same\")(x)\n",
        "  x = BatchNormalization()(x)\n",
        "  x = Activation(\"relu\")(x)\n",
        "  #x = MaxPooling2D(pool_size=(2, 2))(x)                 \n",
        "\n",
        "  x = Conv2D(filters=512, kernel_size=(3, 3), strides=1, padding=\"same\")(x)\n",
        "  x = BatchNormalization()(x)\n",
        "  x = Activation(\"relu\")(x)\n",
        "  x = MaxPooling2D(pool_size=(2, 2))(x) \n",
        "\n",
        "  x = Flatten()(x)\n",
        "  x = Dropout(rate=0.5)(x)                 \n",
        "  x = Dense(300, activation=\"relu\")(x)\n",
        "  x = Dropout(rate=0.3)(x)\n",
        "  x = Dense(100, activation=\"relu\")(x)\n",
        "  x = Dropout(rate=0.3)(x)\n",
        "  output = Dense(10, activation=\"softmax\")(x)\n",
        "\n",
        "  model = Model(inputs=input_tensor, outputs=output)\n",
        "  return model\n"
      ],
      "id": "Y3EBTh9M64hU",
      "execution_count": 35,
      "outputs": []
    },
    {
      "cell_type": "markdown",
      "metadata": {
        "id": "ZxVhiwz4640X"
      },
      "source": [
        "#### 모델 생성 및 컴파일"
      ],
      "id": "ZxVhiwz4640X"
    },
    {
      "cell_type": "code",
      "metadata": {
        "colab": {
          "base_uri": "https://localhost:8080/"
        },
        "id": "rNAyLhgK64-H",
        "outputId": "0962b43f-2a98-4957-8f4c-1738c05c12df"
      },
      "source": [
        "model = build_extended_model()\n",
        "model.summary()"
      ],
      "id": "rNAyLhgK64-H",
      "execution_count": 37,
      "outputs": [
        {
          "output_type": "stream",
          "name": "stdout",
          "text": [
            "Model: \"model\"\n",
            "_________________________________________________________________\n",
            "Layer (type)                 Output Shape              Param #   \n",
            "=================================================================\n",
            "input_1 (InputLayer)         [(None, 32, 32, 3)]       0         \n",
            "_________________________________________________________________\n",
            "conv2d (Conv2D)              (None, 32, 32, 32)        896       \n",
            "_________________________________________________________________\n",
            "batch_normalization (BatchNo (None, 32, 32, 32)        128       \n",
            "_________________________________________________________________\n",
            "activation (Activation)      (None, 32, 32, 32)        0         \n",
            "_________________________________________________________________\n",
            "conv2d_1 (Conv2D)            (None, 32, 32, 64)        18496     \n",
            "_________________________________________________________________\n",
            "batch_normalization_1 (Batch (None, 32, 32, 64)        256       \n",
            "_________________________________________________________________\n",
            "activation_1 (Activation)    (None, 32, 32, 64)        0         \n",
            "_________________________________________________________________\n",
            "max_pooling2d (MaxPooling2D) (None, 16, 16, 64)        0         \n",
            "_________________________________________________________________\n",
            "conv2d_2 (Conv2D)            (None, 16, 16, 128)       73856     \n",
            "_________________________________________________________________\n",
            "batch_normalization_2 (Batch (None, 16, 16, 128)       512       \n",
            "_________________________________________________________________\n",
            "activation_2 (Activation)    (None, 16, 16, 128)       0         \n",
            "_________________________________________________________________\n",
            "conv2d_3 (Conv2D)            (None, 16, 16, 128)       147584    \n",
            "_________________________________________________________________\n",
            "batch_normalization_3 (Batch (None, 16, 16, 128)       512       \n",
            "_________________________________________________________________\n",
            "activation_3 (Activation)    (None, 16, 16, 128)       0         \n",
            "_________________________________________________________________\n",
            "max_pooling2d_1 (MaxPooling2 (None, 8, 8, 128)         0         \n",
            "_________________________________________________________________\n",
            "conv2d_4 (Conv2D)            (None, 8, 8, 256)         295168    \n",
            "_________________________________________________________________\n",
            "batch_normalization_4 (Batch (None, 8, 8, 256)         1024      \n",
            "_________________________________________________________________\n",
            "activation_4 (Activation)    (None, 8, 8, 256)         0         \n",
            "_________________________________________________________________\n",
            "conv2d_5 (Conv2D)            (None, 8, 8, 256)         590080    \n",
            "_________________________________________________________________\n",
            "batch_normalization_5 (Batch (None, 8, 8, 256)         1024      \n",
            "_________________________________________________________________\n",
            "activation_5 (Activation)    (None, 8, 8, 256)         0         \n",
            "_________________________________________________________________\n",
            "conv2d_6 (Conv2D)            (None, 8, 8, 512)         1180160   \n",
            "_________________________________________________________________\n",
            "batch_normalization_6 (Batch (None, 8, 8, 512)         2048      \n",
            "_________________________________________________________________\n",
            "activation_6 (Activation)    (None, 8, 8, 512)         0         \n",
            "_________________________________________________________________\n",
            "max_pooling2d_2 (MaxPooling2 (None, 4, 4, 512)         0         \n",
            "_________________________________________________________________\n",
            "flatten (Flatten)            (None, 8192)              0         \n",
            "_________________________________________________________________\n",
            "dropout (Dropout)            (None, 8192)              0         \n",
            "_________________________________________________________________\n",
            "dense (Dense)                (None, 300)               2457900   \n",
            "_________________________________________________________________\n",
            "dropout_1 (Dropout)          (None, 300)               0         \n",
            "_________________________________________________________________\n",
            "dense_1 (Dense)              (None, 100)               30100     \n",
            "_________________________________________________________________\n",
            "dropout_2 (Dropout)          (None, 100)               0         \n",
            "_________________________________________________________________\n",
            "dense_2 (Dense)              (None, 10)                1010      \n",
            "=================================================================\n",
            "Total params: 4,800,754\n",
            "Trainable params: 4,798,002\n",
            "Non-trainable params: 2,752\n",
            "_________________________________________________________________\n"
          ]
        }
      ]
    },
    {
      "cell_type": "code",
      "metadata": {
        "id": "t2BvQm0U9mVX"
      },
      "source": [
        "model.compile(optimizer=Adam(0.001), loss=\"categorical_crossentropy\", metrics=[\"accuracy\"])"
      ],
      "id": "t2BvQm0U9mVX",
      "execution_count": 38,
      "outputs": []
    },
    {
      "cell_type": "markdown",
      "metadata": {
        "id": "KSbNfThi-5-d"
      },
      "source": [
        "#### Callback 정의"
      ],
      "id": "KSbNfThi-5-d"
    },
    {
      "cell_type": "code",
      "metadata": {
        "id": "0tcrATpd-8z7"
      },
      "source": [
        "checkpoint_cb = ModelCheckpoint(\"my_keras_model.h5\", save_best_only=True, verbose=1)\n",
        "early_stopping_cb = EarlyStopping(patience=10, restore_best_weights=True)\n",
        "reducelr_cb = ReduceLROnPlateau(monitor=\"val_loss\", factor=0.2, patience=5, mode=\"min\", verbose=1)\n"
      ],
      "id": "0tcrATpd-8z7",
      "execution_count": 39,
      "outputs": []
    },
    {
      "cell_type": "markdown",
      "metadata": {
        "id": "wnHVBxDb_Asc"
      },
      "source": [
        "#### 모델 학습"
      ],
      "id": "wnHVBxDb_Asc"
    },
    {
      "cell_type": "code",
      "metadata": {
        "colab": {
          "base_uri": "https://localhost:8080/"
        },
        "id": "-rUt5_VF_D0L",
        "outputId": "f4b7b9f0-739d-49fe-b0ec-bab28fdef010"
      },
      "source": [
        "batch_size = 32\n",
        "history = model.fit(x=train_images, y=train_oh_labels, batch_size = batch_size, epochs=40, validation_split=0.2, \n",
        "                    callbacks=[checkpoint_cb, early_stopping_cb, reducelr_cb])"
      ],
      "id": "-rUt5_VF_D0L",
      "execution_count": 40,
      "outputs": [
        {
          "output_type": "stream",
          "name": "stdout",
          "text": [
            "Epoch 1/40\n",
            "1250/1250 [==============================] - 45s 34ms/step - loss: 1.9010 - accuracy: 0.2892 - val_loss: 1.8232 - val_accuracy: 0.3345\n",
            "\n",
            "Epoch 00001: val_loss improved from inf to 1.82324, saving model to my_keras_model.h5\n",
            "Epoch 2/40\n",
            "1250/1250 [==============================] - 44s 36ms/step - loss: 1.4290 - accuracy: 0.4776 - val_loss: 1.3944 - val_accuracy: 0.4879\n",
            "\n",
            "Epoch 00002: val_loss improved from 1.82324 to 1.39438, saving model to my_keras_model.h5\n",
            "Epoch 3/40\n",
            "1250/1250 [==============================] - 42s 34ms/step - loss: 1.1695 - accuracy: 0.5913 - val_loss: 1.1177 - val_accuracy: 0.6297\n",
            "\n",
            "Epoch 00003: val_loss improved from 1.39438 to 1.11772, saving model to my_keras_model.h5\n",
            "Epoch 4/40\n",
            "1250/1250 [==============================] - 44s 36ms/step - loss: 0.9969 - accuracy: 0.6601 - val_loss: 1.0691 - val_accuracy: 0.6441\n",
            "\n",
            "Epoch 00004: val_loss improved from 1.11772 to 1.06911, saving model to my_keras_model.h5\n",
            "Epoch 5/40\n",
            "1250/1250 [==============================] - 42s 34ms/step - loss: 0.8816 - accuracy: 0.7061 - val_loss: 0.8764 - val_accuracy: 0.7024\n",
            "\n",
            "Epoch 00005: val_loss improved from 1.06911 to 0.87643, saving model to my_keras_model.h5\n",
            "Epoch 6/40\n",
            "1250/1250 [==============================] - 42s 34ms/step - loss: 0.7859 - accuracy: 0.7386 - val_loss: 0.8396 - val_accuracy: 0.7186\n",
            "\n",
            "Epoch 00006: val_loss improved from 0.87643 to 0.83959, saving model to my_keras_model.h5\n",
            "Epoch 7/40\n",
            "1250/1250 [==============================] - 42s 34ms/step - loss: 0.7091 - accuracy: 0.7648 - val_loss: 0.7364 - val_accuracy: 0.7564\n",
            "\n",
            "Epoch 00007: val_loss improved from 0.83959 to 0.73639, saving model to my_keras_model.h5\n",
            "Epoch 8/40\n",
            "1250/1250 [==============================] - 42s 34ms/step - loss: 0.6374 - accuracy: 0.7911 - val_loss: 0.7749 - val_accuracy: 0.7428\n",
            "\n",
            "Epoch 00008: val_loss did not improve from 0.73639\n",
            "Epoch 9/40\n",
            "1250/1250 [==============================] - 42s 34ms/step - loss: 0.5746 - accuracy: 0.8111 - val_loss: 0.6017 - val_accuracy: 0.7990\n",
            "\n",
            "Epoch 00009: val_loss improved from 0.73639 to 0.60167, saving model to my_keras_model.h5\n",
            "Epoch 10/40\n",
            "1250/1250 [==============================] - 42s 34ms/step - loss: 0.5181 - accuracy: 0.8325 - val_loss: 0.7209 - val_accuracy: 0.7607\n",
            "\n",
            "Epoch 00010: val_loss did not improve from 0.60167\n",
            "Epoch 11/40\n",
            "1250/1250 [==============================] - 42s 34ms/step - loss: 0.4633 - accuracy: 0.8485 - val_loss: 0.5826 - val_accuracy: 0.8070\n",
            "\n",
            "Epoch 00011: val_loss improved from 0.60167 to 0.58264, saving model to my_keras_model.h5\n",
            "Epoch 12/40\n",
            "1250/1250 [==============================] - 42s 34ms/step - loss: 0.4183 - accuracy: 0.8652 - val_loss: 0.6030 - val_accuracy: 0.8050\n",
            "\n",
            "Epoch 00012: val_loss did not improve from 0.58264\n",
            "Epoch 13/40\n",
            "1250/1250 [==============================] - 42s 34ms/step - loss: 0.3746 - accuracy: 0.8813 - val_loss: 0.5998 - val_accuracy: 0.8124\n",
            "\n",
            "Epoch 00013: val_loss did not improve from 0.58264\n",
            "Epoch 14/40\n",
            "1250/1250 [==============================] - 42s 34ms/step - loss: 0.3308 - accuracy: 0.8943 - val_loss: 0.6030 - val_accuracy: 0.8033\n",
            "\n",
            "Epoch 00014: val_loss did not improve from 0.58264\n",
            "Epoch 15/40\n",
            "1250/1250 [==============================] - 42s 34ms/step - loss: 0.3115 - accuracy: 0.9032 - val_loss: 0.6408 - val_accuracy: 0.8196\n",
            "\n",
            "Epoch 00015: val_loss did not improve from 0.58264\n",
            "Epoch 16/40\n",
            "1250/1250 [==============================] - 42s 34ms/step - loss: 0.2732 - accuracy: 0.9134 - val_loss: 0.5918 - val_accuracy: 0.8176\n",
            "\n",
            "Epoch 00016: val_loss did not improve from 0.58264\n",
            "\n",
            "Epoch 00016: ReduceLROnPlateau reducing learning rate to 0.00020000000949949026.\n",
            "Epoch 17/40\n",
            "1250/1250 [==============================] - 42s 34ms/step - loss: 0.1587 - accuracy: 0.9490 - val_loss: 0.5035 - val_accuracy: 0.8632\n",
            "\n",
            "Epoch 00017: val_loss improved from 0.58264 to 0.50347, saving model to my_keras_model.h5\n",
            "Epoch 18/40\n",
            "1250/1250 [==============================] - 42s 34ms/step - loss: 0.1165 - accuracy: 0.9622 - val_loss: 0.5649 - val_accuracy: 0.8637\n",
            "\n",
            "Epoch 00018: val_loss did not improve from 0.50347\n",
            "Epoch 19/40\n",
            "1250/1250 [==============================] - 42s 34ms/step - loss: 0.0993 - accuracy: 0.9679 - val_loss: 0.5565 - val_accuracy: 0.8660\n",
            "\n",
            "Epoch 00019: val_loss did not improve from 0.50347\n",
            "Epoch 20/40\n",
            "1250/1250 [==============================] - 42s 34ms/step - loss: 0.0882 - accuracy: 0.9722 - val_loss: 0.6048 - val_accuracy: 0.8638\n",
            "\n",
            "Epoch 00020: val_loss did not improve from 0.50347\n",
            "Epoch 21/40\n",
            "1250/1250 [==============================] - 42s 34ms/step - loss: 0.0767 - accuracy: 0.9751 - val_loss: 0.6195 - val_accuracy: 0.8672\n",
            "\n",
            "Epoch 00021: val_loss did not improve from 0.50347\n",
            "Epoch 22/40\n",
            "1250/1250 [==============================] - 43s 34ms/step - loss: 0.0661 - accuracy: 0.9787 - val_loss: 0.6542 - val_accuracy: 0.8675\n",
            "\n",
            "Epoch 00022: val_loss did not improve from 0.50347\n",
            "\n",
            "Epoch 00022: ReduceLROnPlateau reducing learning rate to 4.0000001899898055e-05.\n",
            "Epoch 23/40\n",
            "1250/1250 [==============================] - 42s 34ms/step - loss: 0.0511 - accuracy: 0.9844 - val_loss: 0.6510 - val_accuracy: 0.8714\n",
            "\n",
            "Epoch 00023: val_loss did not improve from 0.50347\n",
            "Epoch 24/40\n",
            "1250/1250 [==============================] - 45s 36ms/step - loss: 0.0468 - accuracy: 0.9853 - val_loss: 0.6816 - val_accuracy: 0.8694\n",
            "\n",
            "Epoch 00024: val_loss did not improve from 0.50347\n",
            "Epoch 25/40\n",
            "1250/1250 [==============================] - 42s 34ms/step - loss: 0.0391 - accuracy: 0.9881 - val_loss: 0.7098 - val_accuracy: 0.8710\n",
            "\n",
            "Epoch 00025: val_loss did not improve from 0.50347\n",
            "Epoch 26/40\n",
            "1250/1250 [==============================] - 42s 34ms/step - loss: 0.0374 - accuracy: 0.9881 - val_loss: 0.7221 - val_accuracy: 0.8720\n",
            "\n",
            "Epoch 00026: val_loss did not improve from 0.50347\n",
            "Epoch 27/40\n",
            "1250/1250 [==============================] - 42s 34ms/step - loss: 0.0356 - accuracy: 0.9891 - val_loss: 0.7484 - val_accuracy: 0.8700\n",
            "\n",
            "Epoch 00027: val_loss did not improve from 0.50347\n",
            "\n",
            "Epoch 00027: ReduceLROnPlateau reducing learning rate to 8.000000525498762e-06.\n"
          ]
        }
      ]
    },
    {
      "cell_type": "code",
      "metadata": {
        "colab": {
          "base_uri": "https://localhost:8080/",
          "height": 284
        },
        "id": "HjGlR9WT_IwU",
        "outputId": "ec19fb00-bc39-4605-eec2-eea431a7947b"
      },
      "source": [
        "plt.plot(history.history[\"accuracy\"], label=\"train\" )\n",
        "plt.plot(history.history[\"val_accuracy\"], label=\"valid\" )\n",
        "plt.legend()"
      ],
      "id": "HjGlR9WT_IwU",
      "execution_count": 41,
      "outputs": [
        {
          "output_type": "execute_result",
          "data": {
            "text/plain": [
              "<matplotlib.legend.Legend at 0x7fec973bb390>"
            ]
          },
          "metadata": {},
          "execution_count": 41
        },
        {
          "output_type": "display_data",
          "data": {
            "image/png": "[encoded data removed]",
            "text/plain": [
              "<Figure size 432x288 with 1 Axes>"
            ]
          },
          "metadata": {
            "needs_background": "light"
          }
        }
      ]
    },
    {
      "cell_type": "code",
      "metadata": {
        "id": "jmiG7TFD_ut-"
      },
      "source": [
        "#### 테스트 데이터에서 평가"
      ],
      "id": "jmiG7TFD_ut-",
      "execution_count": null,
      "outputs": []
    },
    {
      "cell_type": "code",
      "metadata": {
        "colab": {
          "base_uri": "https://localhost:8080/"
        },
        "id": "EVBLfdFY_sT5",
        "outputId": "526c722c-c294-41c3-d575-3e8bd9877896"
      },
      "source": [
        "evaluate_accuracy = model.evaluate(test_images, test_oh_labels, batch_size=batch_size, verbose=1)"
      ],
      "id": "EVBLfdFY_sT5",
      "execution_count": 42,
      "outputs": [
        {
          "output_type": "stream",
          "name": "stdout",
          "text": [
            "313/313 [==============================] - 4s 11ms/step - loss: 0.5149 - accuracy: 0.8612\n"
          ]
        }
      ]
    },
    {
      "cell_type": "markdown",
      "metadata": {
        "id": "g60addTYGYD6"
      },
      "source": [
        "### Global Average Pooling 적용"
      ],
      "id": "g60addTYGYD6"
    },
    {
      "cell_type": "code",
      "metadata": {
        "id": "q06KZ_4EKeAg"
      },
      "source": [
        "def build_extended_gap_model():\n",
        "  tf.keras.backend.clear_session()\n",
        "\n",
        "  input_tensor = Input(shape=(32, 32, 3))\n",
        "  x = Conv2D(filters=32, kernel_size=(3, 3), strides=1, padding=\"same\")(input_tensor)\n",
        "  x = BatchNormalization()(x)\n",
        "  x = Activation(\"relu\")(x)\n",
        "  x = Conv2D(filters=64, kernel_size=(3, 3), strides=1, padding=\"same\")(x)\n",
        "  x = BatchNormalization()(x)\n",
        "  x = Activation(\"relu\")(x)\n",
        "  x = MaxPooling2D(pool_size=(2, 2))(x)\n",
        "\n",
        "  x = Conv2D(filters=128, kernel_size=(3, 3), strides=1, padding=\"same\")(x)\n",
        "  x = BatchNormalization()(x)\n",
        "  x = Activation(\"relu\")(x)\n",
        "  x = Conv2D(filters=128, kernel_size=(3, 3), strides=1, padding=\"same\")(x)\n",
        "  x = BatchNormalization()(x)\n",
        "  x = Activation(\"relu\")(x)\n",
        "  x = MaxPooling2D(pool_size=(2, 2))(x)\n",
        "                  \n",
        "  x = Conv2D(filters=256, kernel_size=(3, 3), strides=1, padding=\"same\")(x)\n",
        "  x = BatchNormalization()(x)\n",
        "  x = Activation(\"relu\")(x)\n",
        "  x = Conv2D(filters=256, kernel_size=(3, 3), strides=1, padding=\"same\")(x)\n",
        "  x = BatchNormalization()(x)\n",
        "  x = Activation(\"relu\")(x)\n",
        "  #x = MaxPooling2D(pool_size=(2, 2))(x)                 \n",
        "\n",
        "  x = Conv2D(filters=512, kernel_size=(3, 3), strides=1, padding=\"same\")(x)\n",
        "  x = BatchNormalization()(x)\n",
        "  x = Activation(\"relu\")(x)\n",
        "  x = MaxPooling2D(pool_size=(2, 2))(x) \n",
        "\n",
        "  # x = Flatten()(x)\n",
        "  x = GlobalAveragePooling2D()(x)\n",
        "  x = Dropout(rate=0.5)(x)                 \n",
        "  x = Dense(300, activation=\"relu\")(x)\n",
        "  x = Dropout(rate=0.3)(x)\n",
        "  x = Dense(100, activation=\"relu\")(x)\n",
        "  x = Dropout(rate=0.3)(x)\n",
        "  output = Dense(10, activation=\"softmax\")(x)\n",
        "\n",
        "  model = Model(inputs=input_tensor, outputs=output)\n",
        "  return model\n"
      ],
      "id": "q06KZ_4EKeAg",
      "execution_count": 44,
      "outputs": []
    },
    {
      "cell_type": "markdown",
      "metadata": {
        "id": "C5odCH-fKGcF"
      },
      "source": [
        "#### 모델 생성 및 컴파일"
      ],
      "id": "C5odCH-fKGcF"
    },
    {
      "cell_type": "code",
      "metadata": {
        "colab": {
          "base_uri": "https://localhost:8080/"
        },
        "id": "rFT89w6eKGcG",
        "outputId": "adebe8ce-f1a4-46f5-e1cd-05701b27cf1e"
      },
      "source": [
        "model = build_extended_gap_model()\n",
        "model.summary()"
      ],
      "id": "rFT89w6eKGcG",
      "execution_count": 45,
      "outputs": [
        {
          "output_type": "stream",
          "name": "stdout",
          "text": [
            "Model: \"model\"\n",
            "_________________________________________________________________\n",
            "Layer (type)                 Output Shape              Param #   \n",
            "=================================================================\n",
            "input_1 (InputLayer)         [(None, 32, 32, 3)]       0         \n",
            "_________________________________________________________________\n",
            "conv2d (Conv2D)              (None, 32, 32, 32)        896       \n",
            "_________________________________________________________________\n",
            "batch_normalization (BatchNo (None, 32, 32, 32)        128       \n",
            "_________________________________________________________________\n",
            "activation (Activation)      (None, 32, 32, 32)        0         \n",
            "_________________________________________________________________\n",
            "conv2d_1 (Conv2D)            (None, 32, 32, 64)        18496     \n",
            "_________________________________________________________________\n",
            "batch_normalization_1 (Batch (None, 32, 32, 64)        256       \n",
            "_________________________________________________________________\n",
            "activation_1 (Activation)    (None, 32, 32, 64)        0         \n",
            "_________________________________________________________________\n",
            "max_pooling2d (MaxPooling2D) (None, 16, 16, 64)        0         \n",
            "_________________________________________________________________\n",
            "conv2d_2 (Conv2D)            (None, 16, 16, 128)       73856     \n",
            "_________________________________________________________________\n",
            "batch_normalization_2 (Batch (None, 16, 16, 128)       512       \n",
            "_________________________________________________________________\n",
            "activation_2 (Activation)    (None, 16, 16, 128)       0         \n",
            "_________________________________________________________________\n",
            "conv2d_3 (Conv2D)            (None, 16, 16, 128)       147584    \n",
            "_________________________________________________________________\n",
            "batch_normalization_3 (Batch (None, 16, 16, 128)       512       \n",
            "_________________________________________________________________\n",
            "activation_3 (Activation)    (None, 16, 16, 128)       0         \n",
            "_________________________________________________________________\n",
            "max_pooling2d_1 (MaxPooling2 (None, 8, 8, 128)         0         \n",
            "_________________________________________________________________\n",
            "conv2d_4 (Conv2D)            (None, 8, 8, 256)         295168    \n",
            "_________________________________________________________________\n",
            "batch_normalization_4 (Batch (None, 8, 8, 256)         1024      \n",
            "_________________________________________________________________\n",
            "activation_4 (Activation)    (None, 8, 8, 256)         0         \n",
            "_________________________________________________________________\n",
            "conv2d_5 (Conv2D)            (None, 8, 8, 256)         590080    \n",
            "_________________________________________________________________\n",
            "batch_normalization_5 (Batch (None, 8, 8, 256)         1024      \n",
            "_________________________________________________________________\n",
            "activation_5 (Activation)    (None, 8, 8, 256)         0         \n",
            "_________________________________________________________________\n",
            "conv2d_6 (Conv2D)            (None, 8, 8, 512)         1180160   \n",
            "_________________________________________________________________\n",
            "batch_normalization_6 (Batch (None, 8, 8, 512)         2048      \n",
            "_________________________________________________________________\n",
            "activation_6 (Activation)    (None, 8, 8, 512)         0         \n",
            "_________________________________________________________________\n",
            "max_pooling2d_2 (MaxPooling2 (None, 4, 4, 512)         0         \n",
            "_________________________________________________________________\n",
            "global_average_pooling2d (Gl (None, 512)               0         \n",
            "_________________________________________________________________\n",
            "dropout (Dropout)            (None, 512)               0         \n",
            "_________________________________________________________________\n",
            "dense (Dense)                (None, 300)               153900    \n",
            "_________________________________________________________________\n",
            "dropout_1 (Dropout)          (None, 300)               0         \n",
            "_________________________________________________________________\n",
            "dense_1 (Dense)              (None, 100)               30100     \n",
            "_________________________________________________________________\n",
            "dropout_2 (Dropout)          (None, 100)               0         \n",
            "_________________________________________________________________\n",
            "dense_2 (Dense)              (None, 10)                1010      \n",
            "=================================================================\n",
            "Total params: 2,496,754\n",
            "Trainable params: 2,494,002\n",
            "Non-trainable params: 2,752\n",
            "_________________________________________________________________\n"
          ]
        }
      ]
    },
    {
      "cell_type": "code",
      "metadata": {
        "id": "lbKQ74-JKGcH"
      },
      "source": [
        "model.compile(optimizer=Adam(0.001), loss=\"categorical_crossentropy\", metrics=[\"accuracy\"])"
      ],
      "id": "lbKQ74-JKGcH",
      "execution_count": 46,
      "outputs": []
    },
    {
      "cell_type": "markdown",
      "metadata": {
        "id": "4_iKUo1LKGcI"
      },
      "source": [
        "#### Callback 정의"
      ],
      "id": "4_iKUo1LKGcI"
    },
    {
      "cell_type": "code",
      "metadata": {
        "id": "PQejYXJaKGcI"
      },
      "source": [
        "checkpoint_cb = ModelCheckpoint(\"my_keras_model.h5\", save_best_only=True, verbose=1)\n",
        "early_stopping_cb = EarlyStopping(patience=10, restore_best_weights=True)\n",
        "reducelr_cb = ReduceLROnPlateau(monitor=\"val_loss\", factor=0.2, patience=5, mode=\"min\", verbose=1)\n"
      ],
      "id": "PQejYXJaKGcI",
      "execution_count": 47,
      "outputs": []
    },
    {
      "cell_type": "markdown",
      "metadata": {
        "id": "JO8RxPJAKGcJ"
      },
      "source": [
        "#### 모델 학습"
      ],
      "id": "JO8RxPJAKGcJ"
    },
    {
      "cell_type": "code",
      "metadata": {
        "colab": {
          "base_uri": "https://localhost:8080/"
        },
        "id": "leeioZ8yKGcJ",
        "outputId": "bdce7266-8116-4300-cffa-81976c6f3857"
      },
      "source": [
        "batch_size = 32\n",
        "history = model.fit(x=train_images, y=train_oh_labels, batch_size = batch_size, epochs=40, validation_split=0.2, \n",
        "                    callbacks=[checkpoint_cb, early_stopping_cb, reducelr_cb])"
      ],
      "id": "leeioZ8yKGcJ",
      "execution_count": null,
      "outputs": [
        {
          "output_type": "stream",
          "name": "stdout",
          "text": [
            "Epoch 1/40\n",
            "1250/1250 [==============================] - 43s 33ms/step - loss: 1.6606 - accuracy: 0.3770 - val_loss: 2.4914 - val_accuracy: 0.2898\n",
            "\n",
            "Epoch 00001: val_loss improved from inf to 2.49137, saving model to my_keras_model.h5\n",
            "Epoch 2/40\n",
            "1250/1250 [==============================] - 41s 33ms/step - loss: 1.2225 - accuracy: 0.5664 - val_loss: 1.2138 - val_accuracy: 0.5749\n",
            "\n",
            "Epoch 00002: val_loss improved from 2.49137 to 1.21383, saving model to my_keras_model.h5\n",
            "Epoch 3/40\n",
            "1250/1250 [==============================] - 41s 33ms/step - loss: 0.9928 - accuracy: 0.6583 - val_loss: 0.9320 - val_accuracy: 0.6799\n",
            "\n",
            "Epoch 00003: val_loss improved from 1.21383 to 0.93197, saving model to my_keras_model.h5\n",
            "Epoch 4/40\n",
            "1250/1250 [==============================] - 41s 33ms/step - loss: 0.8404 - accuracy: 0.7151 - val_loss: 1.1202 - val_accuracy: 0.6427\n",
            "\n",
            "Epoch 00004: val_loss did not improve from 0.93197\n",
            "Epoch 5/40\n",
            "1250/1250 [==============================] - 41s 33ms/step - loss: 0.7286 - accuracy: 0.7586 - val_loss: 0.9172 - val_accuracy: 0.7016\n",
            "\n",
            "Epoch 00005: val_loss improved from 0.93197 to 0.91718, saving model to my_keras_model.h5\n",
            "Epoch 6/40\n",
            "1250/1250 [==============================] - 41s 33ms/step - loss: 0.6403 - accuracy: 0.7894 - val_loss: 0.8578 - val_accuracy: 0.7237\n",
            "\n",
            "Epoch 00006: val_loss improved from 0.91718 to 0.85783, saving model to my_keras_model.h5\n",
            "Epoch 7/40\n",
            " 805/1250 [==================>...........] - ETA: 13s - loss: 0.5560 - accuracy: 0.8163"
          ]
        }
      ]
    },
    {
      "cell_type": "code",
      "metadata": {
        "colab": {
          "base_uri": "https://localhost:8080/",
          "height": 284
        },
        "id": "4oBMH-poKGcK",
        "outputId": "ec19fb00-bc39-4605-eec2-eea431a7947b"
      },
      "source": [
        "plt.plot(history.history[\"accuracy\"], label=\"train\" )\n",
        "plt.plot(history.history[\"val_accuracy\"], label=\"valid\" )\n",
        "plt.legend()"
      ],
      "id": "4oBMH-poKGcK",
      "execution_count": null,
      "outputs": [
        {
          "output_type": "execute_result",
          "data": {
            "text/plain": [
              "<matplotlib.legend.Legend at 0x7fec973bb390>"
            ]
          },
          "metadata": {},
          "execution_count": 41
        },
        {
          "output_type": "display_data",
          "data": {
            "image/png": "[encoded data removed]",
            "text/plain": [
              "<Figure size 432x288 with 1 Axes>"
            ]
          },
          "metadata": {
            "needs_background": "light"
          }
        }
      ]
    },
    {
      "cell_type": "code",
      "metadata": {
        "id": "d9ZUYXmbKGcL"
      },
      "source": [
        "#### 테스트 데이터에서 평가"
      ],
      "id": "d9ZUYXmbKGcL",
      "execution_count": null,
      "outputs": []
    },
    {
      "cell_type": "code",
      "metadata": {
        "colab": {
          "base_uri": "https://localhost:8080/"
        },
        "id": "ynIDfbEvKGcM",
        "outputId": "526c722c-c294-41c3-d575-3e8bd9877896"
      },
      "source": [
        "evaluate_accuracy = model.evaluate(test_images, test_oh_labels, batch_size=batch_size, verbose=1)"
      ],
      "id": "ynIDfbEvKGcM",
      "execution_count": null,
      "outputs": [
        {
          "output_type": "stream",
          "name": "stdout",
          "text": [
            "313/313 [==============================] - 4s 11ms/step - loss: 0.5149 - accuracy: 0.8612\n"
          ]
        }
      ]
    },
    {
      "cell_type": "code",
      "metadata": {
        "id": "g52vEt2ZKGcM"
      },
      "source": [
        ""
      ],
      "id": "g52vEt2ZKGcM",
      "execution_count": null,
      "outputs": []
    }
  ]
}